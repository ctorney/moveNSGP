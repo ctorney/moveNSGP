{
 "cells": [
  {
   "cell_type": "code",
   "execution_count": 3,
   "metadata": {},
   "outputs": [],
   "source": [
    "import tensorflow_probability as tfp\n",
    "import numpy as np\n",
    "import tensorflow as tf\n",
    "\n",
    "import time\n",
    "import pickle\n",
    "from matplotlib.ticker import MaxNLocator\n",
    "\n",
    "import pandas as pd\n",
    "np.set_printoptions(suppress=True,precision=3)\n",
    "import matplotlib.pyplot as plt\n",
    "import matplotlib\n",
    "\n",
    "plt.style.use('ggplot') \n",
    "plt.style.use('seaborn-paper') \n",
    "plt.style.use('seaborn-whitegrid') \n",
    "\n",
    "import sys\n",
    "\n",
    "from tensorflow_probability import distributions as tfd\n",
    "%matplotlib inline\n"
   ]
  },
  {
   "cell_type": "code",
   "execution_count": 5,
   "metadata": {},
   "outputs": [
    {
     "data": {
      "text/plain": [
       "Text(0.006336805555555575, 0.4968518518518519, 'B')"
      ]
     },
     "execution_count": 5,
     "metadata": {},
     "output_type": "execute_result"
    },
    {
     "data": {
      "image/png": "[encoded data removed]",
      "text/plain": [
       "<Figure size 288x432 with 2 Axes>"
      ]
     },
     "metadata": {
      "needs_background": "light"
     },
     "output_type": "display_data"
    }
   ],
   "source": [
    "i=0\n",
    "all_lengths = np.load('../data/full_len_sheep_p_' + str(i) + '.npy')\n",
    "all_amps = np.load('../data/full_amp_sheep_p_' + str(i) + '.npy')\n",
    "\n",
    "import matplotlib.dates as mdates\n",
    "import matplotlib.ticker as ticker\n",
    "\n",
    "myFmt = mdates.DateFormatter('%Hh')\n",
    "\n",
    "\n",
    "#amps = np.load('data/amps.npy')\n",
    "\n",
    "\n",
    "gridsize = (2, 1)\n",
    "fig = plt.figure(figsize=(4, 6))\n",
    "ax1 = plt.subplot2grid(gridsize, (0, 0))\n",
    "ax2 = plt.subplot2grid(gridsize, (1, 0))\n",
    "\n",
    "rescale=24\n",
    "Z = np.arange(0,1.0*rescale,rescale*0.001).astype(np.float64)[:,None]\n",
    "\n",
    "#Z = np.arange(0,1.0*rescale,rescale*0.01).astype(np.float64)[:,None]\n",
    "\n",
    "\n",
    "Z_time=np.array([np.datetime64('2019') - np.timedelta64(0, 'h') + np.timedelta64(int(k*60*60*24/rescale), 's') for k in Z])\n",
    "\n",
    "\n",
    "\n",
    "ax1.plot(Z_time, np.mean(all_lengths, 0),c='C0', lw=1)\n",
    "\n",
    "ax1.fill_between(Z_time[:],\n",
    "                 np.percentile(all_lengths, 0.5, axis=0)[:,0],\n",
    "                 np.percentile(all_lengths, 99.5, axis=0)[:,0],\n",
    "                 color='C0', alpha = 0.3)\n",
    "\n",
    "# #plt.xlim(0,1)\n",
    "#ax1.set_ylim(0,0.2)\n",
    "\n",
    "# #plt.xlim(0,1)\n",
    "# ax = plt.gca()\n",
    "ax1.xaxis_date()\n",
    "#ax1.yaxis.set_major_locator(ticker.MultipleLocator(0.05))\n",
    "\n",
    "\n",
    "ax1.xaxis.set_major_formatter(myFmt)\n",
    "# #plt.gcf autofmt_xdate()\n",
    "ax1.set_xlabel('time of day')\n",
    "ax1.set_ylabel('lengthscale (hours)')\n",
    "#ax1.set_yticklabels([])\n",
    "\n",
    "\n",
    "\n",
    "\n",
    "\n",
    "ax1.xaxis.set_major_formatter(myFmt)\n",
    "\n",
    "\n",
    "ax2.plot(Z_time, np.mean(all_amps, 0),c='C1', lw=1) # x3.6 to convert m/s to km/h\n",
    "\n",
    "ax2.fill_between(Z_time[:],\n",
    "                 np.percentile(all_amps, 0.5, axis=0)[:,0],\n",
    "                 np.percentile(all_amps, 99.5, axis=0)[:,0],\n",
    "                 color='C1', alpha = 0.3)\n",
    "\n",
    "# #plt.xlim(0,1)\n",
    "#ax2.set_ylim(0,0.2)\n",
    "\n",
    "# #plt.xlim(0,1)\n",
    "# ax = plt.gca()\n",
    "ax2.xaxis_date()\n",
    "#ax2.yaxis.set_major_locator(ticker.MultipleLocator(0.2))\n",
    "\n",
    "\n",
    "ax2.xaxis.set_major_formatter(myFmt)\n",
    "# #plt.gcf autofmt_xdate()\n",
    "ax2.set_xlabel('time of day')\n",
    "ax2.set_ylabel('amplitude (m/s)')\n",
    "#ax2.set_yticklabels([])\n",
    "\n",
    "\n",
    "\n",
    "\n",
    "\n",
    "\n",
    "\n",
    "plt.tight_layout(h_pad=2,w_pad=3)\n",
    "\n",
    "\n",
    "\n",
    "xp = ax1.get_position().x0\n",
    "yp = ax1.get_position().y1    \n",
    "fig.text(xp - .15, yp- .01, 'A', size=12)\n",
    "\n",
    "xp = ax2.get_position().x0\n",
    "yp = ax2.get_position().y1    \n",
    "fig.text(xp - .15, yp+ .02, 'B', size=12)\n",
    "\n",
    "#plt.savefig('../figures/sheep_combined.png', dpi=300, bbox_inches = \"tight\")\n",
    "#np.save('hmc_samples' + str(i) + '.npy', final_hmc_np)"
   ]
  },
  {
   "cell_type": "code",
   "execution_count": 4,
   "metadata": {},
   "outputs": [
    {
     "name": "stdout",
     "output_type": "stream",
     "text": [
      "1000\n",
      "1000\n"
     ]
    }
   ],
   "source": [
    "burn=0\n",
    "num_runs=2\n",
    "num_samples=1000\n",
    "samples = np.zeros((num_samples-burn,num_runs,24*2))\n",
    "samples_t = np.zeros((num_samples-burn,num_runs,24*2))\n",
    "all_lengths = np.zeros(((num_samples-burn)*num_runs,24,1))\n",
    "all_amps = np.zeros(((num_samples-burn)*num_runs,24,1))\n",
    "\n",
    "for i in range(num_runs):\n",
    "    with open ('../data/hmc_samples_p_' + str(i) + '.npy', 'rb') as fp:\n",
    "        hmcs = pickle.load(fp)\n",
    "        print(len(hmcs[3]))\n",
    "        lengths = np.load('../data/len_sheep_p_' + str(i) + '.npy')\n",
    "        amps = np.load('../data/amp_sheep_p_' + str(i) + '.npy')\n",
    "        samples[:,i,0:24] = hmcs[1][burn:,...]\n",
    "        samples[:,i,24:] =  hmcs[3][burn:,...]\n",
    "        samples_t[:,i,0:24] = lengths[...,0]#hmcs[1][burn:,...]\n",
    "        samples_t[:,i,24:] =  amps[...,0]\n",
    "    \n",
    "    all_lengths[i*(num_samples-burn):(i+1)*(num_samples-burn),...] = lengths[burn:]\n",
    "    all_amps[i*(num_samples-burn):(i+1)*(num_samples-burn),...] = amps[burn:]"
   ]
  },
  {
   "cell_type": "code",
   "execution_count": 95,
   "metadata": {},
   "outputs": [
    {
     "data": {
      "text/plain": [
       "(5000,)"
      ]
     },
     "execution_count": 95,
     "metadata": {},
     "output_type": "execute_result"
    }
   ],
   "source": [
    "hmcs[0].shape"
   ]
  },
  {
   "cell_type": "code",
   "execution_count": 7,
   "metadata": {},
   "outputs": [],
   "source": [
    "# 21/1/20 - getting very close with skip=1 - testing out NUTS next\n",
    "samples_ = tf.convert_to_tensor(samples[::1])\n",
    "rhat = tfp.mcmc.diagnostic.potential_scale_reduction(samples_, independent_chain_ndims=1)\n",
    "\n",
    "samples_t_ = tf.convert_to_tensor(samples_t[::1])\n",
    "rhat_t = tfp.mcmc.diagnostic.potential_scale_reduction(samples_t_, independent_chain_ndims=1)\n",
    "\n"
   ]
  },
  {
   "cell_type": "code",
   "execution_count": 9,
   "metadata": {},
   "outputs": [
    {
     "data": {
      "text/plain": [
       "<tf.Tensor: shape=(48,), dtype=float64, numpy=\n",
       "array([2.162, 2.431, 1.008, 1.303, 2.766, 1.485, 1.219, 1.048, 1.045,\n",
       "       4.811, 3.119, 2.047, 1.654, 1.054, 1.358, 5.469, 1.977, 1.724,\n",
       "       1.099, 1.548, 1.368, 2.622, 1.007, 2.232, 1.792, 1.012, 1.001,\n",
       "       1.228, 1.009, 1.01 , 1.001, 1.348, 1.109, 1.004, 1.029, 1.142,\n",
       "       1.01 , 1.208, 1.018, 1.01 , 3.154, 1.009, 1.002, 1.02 , 1.226,\n",
       "       1.002, 1.031, 1.006])>"
      ]
     },
     "execution_count": 9,
     "metadata": {},
     "output_type": "execute_result"
    }
   ],
   "source": [
    "rhat_t"
   ]
  },
  {
   "cell_type": "code",
   "execution_count": 6,
   "metadata": {},
   "outputs": [
    {
     "name": "stderr",
     "output_type": "stream",
     "text": [
      "/home/college/ct128w/anaconda3/envs/tf/lib/python3.7/site-packages/ipykernel_launcher.py:10: UserWarning: In Matplotlib 3.3 individual lines on a stem plot will be added as a LineCollection instead of individual lines. This significantly improves the performance of a stem plot. To remove this warning and switch to the new behaviour, set the \"use_line_collection\" keyword argument to True.\n",
      "  # Remove the CWD from sys.path while we load stuff.\n",
      "/home/college/ct128w/anaconda3/envs/tf/lib/python3.7/site-packages/ipykernel_launcher.py:13: UserWarning: In Matplotlib 3.3 individual lines on a stem plot will be added as a LineCollection instead of individual lines. This significantly improves the performance of a stem plot. To remove this warning and switch to the new behaviour, set the \"use_line_collection\" keyword argument to True.\n",
      "  del sys.path[0]\n"
     ]
    },
    {
     "ename": "ValueError",
     "evalue": "zero-size array to reduction operation minimum which has no identity",
     "output_type": "error",
     "traceback": [
      "\u001b[0;31m---------------------------------------------------------------------------\u001b[0m",
      "\u001b[0;31mValueError\u001b[0m                                Traceback (most recent call last)",
      "\u001b[0;32m<ipython-input-6-540aecbb9dbb>\u001b[0m in \u001b[0;36m<module>\u001b[0;34m\u001b[0m\n\u001b[1;32m     11\u001b[0m \u001b[0;31m#ax1.set_ylim(1,1.5)\u001b[0m\u001b[0;34m\u001b[0m\u001b[0;34m\u001b[0m\u001b[0;34m\u001b[0m\u001b[0m\n\u001b[1;32m     12\u001b[0m \u001b[0;34m\u001b[0m\u001b[0m\n\u001b[0;32m---> 13\u001b[0;31m \u001b[0max2\u001b[0m\u001b[0;34m.\u001b[0m\u001b[0mstem\u001b[0m\u001b[0;34m(\u001b[0m\u001b[0mrhat\u001b[0m\u001b[0;34m[\u001b[0m\u001b[0;36m48\u001b[0m\u001b[0;34m:\u001b[0m\u001b[0;34m]\u001b[0m\u001b[0;34m.\u001b[0m\u001b[0mnumpy\u001b[0m\u001b[0;34m(\u001b[0m\u001b[0;34m)\u001b[0m\u001b[0;34m,\u001b[0m\u001b[0mlinefmt\u001b[0m\u001b[0;34m=\u001b[0m\u001b[0;34m'C1-'\u001b[0m\u001b[0;34m,\u001b[0m\u001b[0mmarkerfmt\u001b[0m\u001b[0;34m=\u001b[0m\u001b[0;34m'C1o'\u001b[0m\u001b[0;34m)\u001b[0m\u001b[0;34m\u001b[0m\u001b[0;34m\u001b[0m\u001b[0m\n\u001b[0m\u001b[1;32m     14\u001b[0m \u001b[0;31m#ax2.set_ylim(1,1.05)\u001b[0m\u001b[0;34m\u001b[0m\u001b[0;34m\u001b[0m\u001b[0;34m\u001b[0m\u001b[0m\n\u001b[1;32m     15\u001b[0m \u001b[0;34m\u001b[0m\u001b[0m\n",
      "\u001b[0;32m~/anaconda3/envs/tf/lib/python3.7/site-packages/matplotlib/__init__.py\u001b[0m in \u001b[0;36minner\u001b[0;34m(ax, data, *args, **kwargs)\u001b[0m\n\u001b[1;32m   1597\u001b[0m     \u001b[0;32mdef\u001b[0m \u001b[0minner\u001b[0m\u001b[0;34m(\u001b[0m\u001b[0max\u001b[0m\u001b[0;34m,\u001b[0m \u001b[0;34m*\u001b[0m\u001b[0margs\u001b[0m\u001b[0;34m,\u001b[0m \u001b[0mdata\u001b[0m\u001b[0;34m=\u001b[0m\u001b[0;32mNone\u001b[0m\u001b[0;34m,\u001b[0m \u001b[0;34m**\u001b[0m\u001b[0mkwargs\u001b[0m\u001b[0;34m)\u001b[0m\u001b[0;34m:\u001b[0m\u001b[0;34m\u001b[0m\u001b[0;34m\u001b[0m\u001b[0m\n\u001b[1;32m   1598\u001b[0m         \u001b[0;32mif\u001b[0m \u001b[0mdata\u001b[0m \u001b[0;32mis\u001b[0m \u001b[0;32mNone\u001b[0m\u001b[0;34m:\u001b[0m\u001b[0;34m\u001b[0m\u001b[0;34m\u001b[0m\u001b[0m\n\u001b[0;32m-> 1599\u001b[0;31m             \u001b[0;32mreturn\u001b[0m \u001b[0mfunc\u001b[0m\u001b[0;34m(\u001b[0m\u001b[0max\u001b[0m\u001b[0;34m,\u001b[0m \u001b[0;34m*\u001b[0m\u001b[0mmap\u001b[0m\u001b[0;34m(\u001b[0m\u001b[0msanitize_sequence\u001b[0m\u001b[0;34m,\u001b[0m \u001b[0margs\u001b[0m\u001b[0;34m)\u001b[0m\u001b[0;34m,\u001b[0m \u001b[0;34m**\u001b[0m\u001b[0mkwargs\u001b[0m\u001b[0;34m)\u001b[0m\u001b[0;34m\u001b[0m\u001b[0;34m\u001b[0m\u001b[0m\n\u001b[0m\u001b[1;32m   1600\u001b[0m \u001b[0;34m\u001b[0m\u001b[0m\n\u001b[1;32m   1601\u001b[0m         \u001b[0mbound\u001b[0m \u001b[0;34m=\u001b[0m \u001b[0mnew_sig\u001b[0m\u001b[0;34m.\u001b[0m\u001b[0mbind\u001b[0m\u001b[0;34m(\u001b[0m\u001b[0max\u001b[0m\u001b[0;34m,\u001b[0m \u001b[0;34m*\u001b[0m\u001b[0margs\u001b[0m\u001b[0;34m,\u001b[0m \u001b[0;34m**\u001b[0m\u001b[0mkwargs\u001b[0m\u001b[0;34m)\u001b[0m\u001b[0;34m\u001b[0m\u001b[0;34m\u001b[0m\u001b[0m\n",
      "\u001b[0;32m~/anaconda3/envs/tf/lib/python3.7/site-packages/matplotlib/axes/_axes.py\u001b[0m in \u001b[0;36mstem\u001b[0;34m(self, linefmt, markerfmt, basefmt, bottom, label, use_line_collection, *args)\u001b[0m\n\u001b[1;32m   2849\u001b[0m                                 marker=markermarker, label=\"_nolegend_\")\n\u001b[1;32m   2850\u001b[0m \u001b[0;34m\u001b[0m\u001b[0m\n\u001b[0;32m-> 2851\u001b[0;31m         baseline, = self.plot([np.min(x), np.max(x)], [bottom, bottom],\n\u001b[0m\u001b[1;32m   2852\u001b[0m                               \u001b[0mcolor\u001b[0m\u001b[0;34m=\u001b[0m\u001b[0mbasecolor\u001b[0m\u001b[0;34m,\u001b[0m \u001b[0mlinestyle\u001b[0m\u001b[0;34m=\u001b[0m\u001b[0mbasestyle\u001b[0m\u001b[0;34m,\u001b[0m\u001b[0;34m\u001b[0m\u001b[0;34m\u001b[0m\u001b[0m\n\u001b[1;32m   2853\u001b[0m                               marker=basemarker, label=\"_nolegend_\")\n",
      "\u001b[0;32m<__array_function__ internals>\u001b[0m in \u001b[0;36mamin\u001b[0;34m(*args, **kwargs)\u001b[0m\n",
      "\u001b[0;32m~/anaconda3/envs/tf/lib/python3.7/site-packages/numpy/core/fromnumeric.py\u001b[0m in \u001b[0;36mamin\u001b[0;34m(a, axis, out, keepdims, initial, where)\u001b[0m\n\u001b[1;32m   2791\u001b[0m     \"\"\"\n\u001b[1;32m   2792\u001b[0m     return _wrapreduction(a, np.minimum, 'min', axis, None, out,\n\u001b[0;32m-> 2793\u001b[0;31m                           keepdims=keepdims, initial=initial, where=where)\n\u001b[0m\u001b[1;32m   2794\u001b[0m \u001b[0;34m\u001b[0m\u001b[0m\n\u001b[1;32m   2795\u001b[0m \u001b[0;34m\u001b[0m\u001b[0m\n",
      "\u001b[0;32m~/anaconda3/envs/tf/lib/python3.7/site-packages/numpy/core/fromnumeric.py\u001b[0m in \u001b[0;36m_wrapreduction\u001b[0;34m(obj, ufunc, method, axis, dtype, out, **kwargs)\u001b[0m\n\u001b[1;32m     88\u001b[0m                 \u001b[0;32mreturn\u001b[0m \u001b[0mreduction\u001b[0m\u001b[0;34m(\u001b[0m\u001b[0maxis\u001b[0m\u001b[0;34m=\u001b[0m\u001b[0maxis\u001b[0m\u001b[0;34m,\u001b[0m \u001b[0mout\u001b[0m\u001b[0;34m=\u001b[0m\u001b[0mout\u001b[0m\u001b[0;34m,\u001b[0m \u001b[0;34m**\u001b[0m\u001b[0mpasskwargs\u001b[0m\u001b[0;34m)\u001b[0m\u001b[0;34m\u001b[0m\u001b[0;34m\u001b[0m\u001b[0m\n\u001b[1;32m     89\u001b[0m \u001b[0;34m\u001b[0m\u001b[0m\n\u001b[0;32m---> 90\u001b[0;31m     \u001b[0;32mreturn\u001b[0m \u001b[0mufunc\u001b[0m\u001b[0;34m.\u001b[0m\u001b[0mreduce\u001b[0m\u001b[0;34m(\u001b[0m\u001b[0mobj\u001b[0m\u001b[0;34m,\u001b[0m \u001b[0maxis\u001b[0m\u001b[0;34m,\u001b[0m \u001b[0mdtype\u001b[0m\u001b[0;34m,\u001b[0m \u001b[0mout\u001b[0m\u001b[0;34m,\u001b[0m \u001b[0;34m**\u001b[0m\u001b[0mpasskwargs\u001b[0m\u001b[0;34m)\u001b[0m\u001b[0;34m\u001b[0m\u001b[0;34m\u001b[0m\u001b[0m\n\u001b[0m\u001b[1;32m     91\u001b[0m \u001b[0;34m\u001b[0m\u001b[0m\n\u001b[1;32m     92\u001b[0m \u001b[0;34m\u001b[0m\u001b[0m\n",
      "\u001b[0;31mValueError\u001b[0m: zero-size array to reduction operation minimum which has no identity"
     ]
    },
    {
     "data": {
      "image/png": "[encoded data removed]",
      "text/plain": [
       "<Figure size 576x432 with 4 Axes>"
      ]
     },
     "metadata": {
      "needs_background": "light"
     },
     "output_type": "display_data"
    }
   ],
   "source": [
    "\n",
    "\n",
    "gridsize = (2, 2)\n",
    "fig = plt.figure(figsize=(8, 6))\n",
    "ax1 = plt.subplot2grid(gridsize, (0, 0))\n",
    "ax2 = plt.subplot2grid(gridsize, (0, 1))\n",
    "ax3 = plt.subplot2grid(gridsize, (1, 0))\n",
    "ax4 = plt.subplot2grid(gridsize, (1, 1))\n",
    "\n",
    "\n",
    "\n",
    "ax1.stem(rhat[:48].numpy(),linefmt='C0-',markerfmt='C0o')\n",
    "#ax1.set_ylim(1,1.5)\n",
    "\n",
    "ax2.stem(rhat[48:].numpy(),linefmt='C1-',markerfmt='C1o')\n",
    "#ax2.set_ylim(1,1.05)\n",
    "\n",
    "\n",
    "ax3.stem(rhat_t[:48].numpy(),linefmt='C0-',markerfmt='C0o')\n",
    "#ax3.set_ylim(1,1.05)\n",
    "\n",
    "ax4.stem(rhat_t[48:].numpy(),linefmt='C1-',markerfmt='C1o')\n",
    "#ax4.set_ylim(1,1.05)\n",
    "\n",
    "\n",
    "\n",
    "\n",
    "# ax1.xaxis.set_major_locator(MaxNLocator(integer=True))\n",
    "# ax2.xaxis.set_major_locator(MaxNLocator(integer=True))\n",
    "# ax1.yaxis.set_major_locator(ticker.MultipleLocator(0.02))\n",
    "# ax2.yaxis.set_major_locator(ticker.MultipleLocator(0.02))\n",
    "\n",
    "# ax3.xaxis.set_major_locator(MaxNLocator(integer=True))\n",
    "# ax4.xaxis.set_major_locator(MaxNLocator(integer=True))\n",
    "# ax3.yaxis.set_major_locator(ticker.MultipleLocator(0.02))\n",
    "# ax4.yaxis.set_major_locator(ticker.MultipleLocator(0.02))\n",
    "\n",
    "\n",
    "ax1.set_ylabel('potential scale reduction factor')\n",
    "ax1.set_xlabel('parameter')\n",
    "\n",
    "ax2.set_ylabel('potential scale reduction factor')\n",
    "ax2.set_xlabel('parameter')\n",
    "\n",
    "ax3.set_ylabel('potential scale reduction factor')\n",
    "ax3.set_xlabel('parameter')\n",
    "\n",
    "ax4.set_ylabel('potential scale reduction factor')\n",
    "ax4.set_xlabel('parameter')\n",
    "\n",
    "\n",
    "\n",
    "plt.tight_layout(h_pad=2,w_pad=3)\n",
    "\n",
    "\n",
    "\n",
    "xp = ax1.get_position().x0\n",
    "yp = ax1.get_position().y1    \n",
    "fig.text(xp - .05, yp+ .02, 'A', size=12)\n",
    "\n",
    "xp = ax2.get_position().x0\n",
    "yp = ax2.get_position().y1    \n",
    "fig.text(xp - .05, yp+ .02, 'B', size=12)\n",
    "\n",
    "xp = ax3.get_position().x0\n",
    "yp = ax3.get_position().y1    \n",
    "fig.text(xp - .05, yp+ .02, 'C', size=12)\n",
    "\n",
    "xp = ax4.get_position().x0\n",
    "yp = ax4.get_position().y1    \n",
    "fig.text(xp - .05, yp+ .02, 'D', size=12)\n",
    "\n",
    "\n",
    "#plt.savefig('../figures/srf.png', dpi=300, bbox_inches = \"tight\")\n",
    "plt.show()\n"
   ]
  },
  {
   "cell_type": "code",
   "execution_count": null,
   "metadata": {},
   "outputs": [],
   "source": []
  }
 ],
 "metadata": {
  "kernelspec": {
   "display_name": "Python 3",
   "language": "python",
   "name": "python3"
  },
  "language_info": {
   "codemirror_mode": {
    "name": "ipython",
    "version": 3
   },
   "file_extension": ".py",
   "mimetype": "text/x-python",
   "name": "python",
   "nbconvert_exporter": "python",
   "pygments_lexer": "ipython3",
   "version": "3.7.6"
  }
 },
 "nbformat": 4,
 "nbformat_minor": 2
}
