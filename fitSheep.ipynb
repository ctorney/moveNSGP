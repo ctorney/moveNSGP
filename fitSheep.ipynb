{
 "cells": [
  {
   "cell_type": "code",
   "execution_count": 1,
   "metadata": {},
   "outputs": [],
   "source": [
    "import tensorflow_probability as tfp\n",
    "import numpy as np\n",
    "import tensorflow as tf\n",
    "\n",
    "import time\n",
    "from tqdm import tqdm\n",
    "import pickle\n",
    "\n",
    "\n",
    "import matplotlib.dates as mdates\n",
    "import matplotlib.ticker as ticker\n",
    "\n",
    "myFmt = mdates.DateFormatter('%Hh')\n",
    "\n",
    "import pandas as pd\n",
    "np.set_printoptions(suppress=True,precision=6)\n",
    "import matplotlib.pyplot as plt\n",
    "import matplotlib\n",
    "\n",
    "plt.style.use('ggplot') \n",
    "plt.style.use('seaborn-paper') \n",
    "plt.style.use('seaborn-whitegrid')\n",
    "\n",
    "import sys\n",
    "\n",
    "from tensorflow_probability import distributions as tfd\n",
    "from geopy.distance import geodesic\n",
    "\n",
    "%matplotlib inline\n",
    "\n",
    "from move_ns import moveNS\n",
    "\n"
   ]
  },
  {
   "cell_type": "markdown",
   "metadata": {},
   "source": [
    "## Load data and display individual time series lengths"
   ]
  },
  {
   "cell_type": "code",
   "execution_count": 3,
   "metadata": {},
   "outputs": [],
   "source": [
    "# set up lower level GP locations covering 24 hours\n",
    "Z = np.arange(0,24,0.5).astype(np.float64)[:,None]\n",
    "np.random.shuffle(Z)\n"
   ]
  },
  {
   "cell_type": "code",
   "execution_count": 4,
   "metadata": {},
   "outputs": [],
   "source": [
    "def setup_data(skip_i=1,skip=3):\n",
    "    \n",
    "    df = pd.read_csv('data/ovejas.csv')\n",
    "\n",
    "    df = df[df.id!=34]\n",
    "    df = df[df['id']%skip_i==0]\n",
    "\n",
    "\n",
    "#     for i in df['id'].unique():\n",
    "\n",
    "#         thisW = df[df['id']==i]\n",
    "\n",
    "#         secs =(pd.to_datetime(thisW['time'])- pd.datetime(2000,1,1)).dt.seconds.astype(float).values\n",
    "#         days = (pd.to_datetime(thisW['time'])- pd.datetime(2000,1,1)).dt.days.astype(float).values\n",
    "#         T = (days*24*60+secs/60)/(60*24) #days\n",
    "\n",
    "#         days = np.max(T)-np.min(T)\n",
    "#         print(i,days,len(thisW))\n",
    "\n",
    "\n",
    "    df['ID'] = df['id'].astype('category').cat.rename_categories(range(0, df['id'].nunique())).astype('int')\n",
    "    ID_in = df['ID'].values \n",
    "    \n",
    "    \n",
    "    \n",
    "    Xgps = df[['lat','lon']].values\n",
    "    minX = np.min(Xgps[:,0])\n",
    "    minY = np.min(Xgps[:,1])\n",
    "\n",
    "\n",
    "\n",
    "\n",
    "    secs =(pd.to_datetime(df['time'])- pd.datetime(2018,1,1)).dt.seconds.astype(float).values\n",
    "    days = (pd.to_datetime(df['time'])- pd.datetime(2018,1,1)).dt.days.astype(float).values\n",
    "    T = (days*24*60+secs/60)/(60*24) #days\n",
    "    T = T-np.min(T)\n",
    "\n",
    "    rescale = 24  # use hours to improve numerical stability\n",
    "    T = T * rescale\n",
    "\n",
    "\n",
    "    T=T[::skip,None]\n",
    "    Xgps=Xgps[::skip]\n",
    "    ID=ID_in[::skip]\n",
    "\n",
    "\n",
    "\n",
    "    # use geodesic to get the straight line distance between two points\n",
    "    Xmetres = [geodesic((xloc,minY), (minX,minY)).meters for xloc in Xgps[:,0]]\n",
    "    Ymetres = [geodesic((minX,yloc), (minX,minY)).meters for yloc in Xgps[:,1]]\n",
    "\n",
    "\n",
    "    X = np.array([Xmetres, Ymetres]).T\n",
    "    \n",
    "\n",
    "    return X, T, ID\n"
   ]
  },
  {
   "cell_type": "code",
   "execution_count": 5,
   "metadata": {},
   "outputs": [
    {
     "name": "stderr",
     "output_type": "stream",
     "text": [
      "/home/staff1/ctorney/anaconda3/envs/tf/lib/python3.7/site-packages/ipykernel_launcher.py:33: FutureWarning: The pandas.datetime class is deprecated and will be removed from pandas in a future version. Import from datetime module instead.\n",
      "/home/staff1/ctorney/anaconda3/envs/tf/lib/python3.7/site-packages/ipykernel_launcher.py:34: FutureWarning: The pandas.datetime class is deprecated and will be removed from pandas in a future version. Import from datetime module instead.\n"
     ]
    }
   ],
   "source": [
    "X,T,ID = setup_data(skip_i=8)"
   ]
  },
  {
   "cell_type": "code",
   "execution_count": 6,
   "metadata": {},
   "outputs": [
    {
     "name": "stdout",
     "output_type": "stream",
     "text": [
      "(16945, 2)\n",
      "(16945, 1)\n",
      "(48, 1)\n"
     ]
    }
   ],
   "source": [
    "print(X.shape)\n",
    "print(T.shape)\n",
    "print(Z.shape)"
   ]
  },
  {
   "cell_type": "markdown",
   "metadata": {},
   "source": [
    "## Convert IDs to sequential index and coordinates to metres"
   ]
  },
  {
   "cell_type": "code",
   "execution_count": null,
   "metadata": {},
   "outputs": [],
   "source": [
    "\n"
   ]
  },
  {
   "cell_type": "markdown",
   "metadata": {},
   "source": [
    "## Create arrays for GP"
   ]
  },
  {
   "cell_type": "code",
   "execution_count": null,
   "metadata": {},
   "outputs": [],
   "source": [
    "\n",
    "\n"
   ]
  },
  {
   "cell_type": "code",
   "execution_count": 7,
   "metadata": {},
   "outputs": [],
   "source": [
    "def sp_shift(x):\n",
    "    # softplus transform with shift \n",
    "    return tf.nn.softplus(x)+1e-4"
   ]
  },
  {
   "cell_type": "markdown",
   "metadata": {},
   "source": [
    "## Set-up the non-stationary GP"
   ]
  },
  {
   "cell_type": "code",
   "execution_count": 8,
   "metadata": {},
   "outputs": [],
   "source": [
    "\n",
    "\n",
    "def periodic_kernel(x1,x2):\n",
    "    # periodic kernel with parameter set to encode\n",
    "    # daily activity pattern (period=rescale).\n",
    "    return tfp.math.psd_kernels.ExpSinSquared(x1,x2,np.float64(24.0))\n",
    "\n",
    "# transform for parameter to ensure positive\n",
    "transforms=[sp_shift,sp_shift] \n",
    "\n",
    "# diffuse priors on parameters\n",
    "lpriors = [tfd.Normal(loc = np.float64(0.),scale=np.float64(10)),\n",
    "           tfd.Normal(loc = np.float64(0.),scale=np.float64(10)),\n",
    "           tfd.Normal(loc = np.float64(0.),scale=np.float64(10))]\n",
    "           \n",
    "apriors = [tfd.Normal(loc = np.float64(0),scale=np.float64(10.)),\n",
    "           tfd.Normal(loc = np.float64(0),scale=np.float64(10.)),\n",
    "           tfd.Normal(loc = np.float64(0.),scale=np.float64(10.))]\n",
    "\n",
    "\n",
    "lparams_init = [0.0 for p in lpriors]\n",
    "aparams_init = [0.0 for p in apriors]\n",
    "\n",
    "# create the model \n",
    "mover = moveNS(T,X,Z, ID, BATCH_SIZE=2800, velocity=True, std_obs_noise=100, mean_obs_noise=10,\n",
    "                        akernel=periodic_kernel, \n",
    "                        aparams_init=aparams_init, \n",
    "                        apriors=apriors, \n",
    "                        atransforms=transforms,\n",
    "                        lkernel=periodic_kernel, \n",
    "                        lparams_init=lparams_init, \n",
    "                        lpriors=lpriors, \n",
    "                        ltransforms=transforms)"
   ]
  },
  {
   "cell_type": "code",
   "execution_count": 9,
   "metadata": {},
   "outputs": [
    {
     "name": "stderr",
     "output_type": "stream",
     "text": [
      "Loss 235007.328125: 100%|██████████| 10000/10000 [1:20:38<00:00,  2.07it/s]\n"
     ]
    }
   ],
   "source": [
    "\n",
    "optimizer = tf.keras.optimizers.Adam(learning_rate=1e-1,beta_2=0.99)\n",
    "train_steps = 10000\n",
    "pbar = tqdm(range(train_steps))\n",
    "loss_history = np.zeros((train_steps))\n",
    "for i in pbar:\n",
    "    with tf.GradientTape() as t:\n",
    "        loss = -mover.log_posterior(*mover.kernel_params)\n",
    "    loss_history[i] = loss.numpy()\n",
    "    pbar.set_description(\"Loss %f\" % loss_history[i])\n",
    "\n",
    "    gradients = t.gradient(loss, mover.kernel_params)\n",
    "    optimizer.apply_gradients(zip(gradients, mover.kernel_params))\n",
    "\n"
   ]
  },
  {
   "cell_type": "markdown",
   "metadata": {},
   "source": [
    "## new code for full sampler "
   ]
  },
  {
   "cell_type": "code",
   "execution_count": 10,
   "metadata": {},
   "outputs": [
    {
     "data": {
      "image/png": "[encoded data removed]",
      "text/plain": [
       "<Figure size 432x288 with 1 Axes>"
      ]
     },
     "metadata": {
      "needs_background": "light"
     },
     "output_type": "display_data"
    },
    {
     "data": {
      "text/plain": [
       "235007.33"
      ]
     },
     "execution_count": 10,
     "metadata": {},
     "output_type": "execute_result"
    }
   ],
   "source": [
    "plt.plot(loss_history[9000:])\n",
    "plt.show()\n",
    "loss.numpy()"
   ]
  },
  {
   "cell_type": "code",
   "execution_count": null,
   "metadata": {},
   "outputs": [],
   "source": [
    "2*100/60"
   ]
  },
  {
   "cell_type": "code",
   "execution_count": null,
   "metadata": {},
   "outputs": [],
   "source": [
    "# opt_step = []\n",
    "# for var in optimizer.variables():\n",
    "#     if '/v:' in var.name:\n",
    "#         opt_step.append((np.sqrt(var.numpy())+1e-0)**-1)\n",
    "        \n",
    "        \n",
    "# plt.plot(opt_step[2][0:48],'.')\n",
    "# plt.plot(opt_step[6][0:48],'.')\n",
    "# #plt.ylim(-0.5,1)\n",
    "# plt.show()"
   ]
  },
  {
   "cell_type": "code",
   "execution_count": 11,
   "metadata": {},
   "outputs": [
    {
     "name": "stderr",
     "output_type": "stream",
     "text": [
      "/home/staff1/ctorney/anaconda3/envs/tf/lib/python3.7/site-packages/tensorflow_probability/python/mcmc/sample.py:336: UserWarning: Tracing all kernel results by default is deprecated. Set the `trace_fn` argument to None (the future default value) or an explicit callback that traces the values you are interested in.\n",
      "  warnings.warn(\"Tracing all kernel results by default is deprecated. Set \"\n"
     ]
    }
   ],
   "source": [
    "# sample from the posterior\n",
    "kr = mover.hmc_sample(num_samples=2, skip=0, burn_in=0, num_leapfrog_steps=1, init_step=1e-8)\n",
    "lengths = mover.get_lengthscale_samples()\n",
    "amps = mover.get_amplitude_samples()\n"
   ]
  },
  {
   "cell_type": "code",
   "execution_count": 12,
   "metadata": {},
   "outputs": [
    {
     "data": {
      "image/png": "[encoded data removed]",
      "text/plain": [
       "<Figure size 720x432 with 1 Axes>"
      ]
     },
     "metadata": {
      "needs_background": "light"
     },
     "output_type": "display_data"
    },
    {
     "data": {
      "image/png": "[encoded data removed]",
      "text/plain": [
       "<Figure size 720x432 with 1 Axes>"
      ]
     },
     "metadata": {
      "needs_background": "light"
     },
     "output_type": "display_data"
    }
   ],
   "source": [
    "#  plot the sample for checking\n",
    "plt.figure(figsize=(10,6))\n",
    "Z_time=np.array([np.datetime64('2019') + np.timedelta64(int(k*60*60), 's') for k in Z])\n",
    "\n",
    "for i in range(0,lengths.shape[0]):\n",
    "    plt.plot(Z_time[np.argsort(Z_time)],lengths[i,np.argsort(Z_time)],c='C1',alpha=0.902,linewidth=1.0)\n",
    "\n",
    "ax = plt.gca()\n",
    "ax.xaxis_date()\n",
    "ax.xaxis.set_major_formatter(myFmt)\n",
    "plt.figure(figsize=(10,6))\n",
    "\n",
    "for i in range(0,amps.shape[0]):\n",
    "    plt.plot(Z_time[np.argsort(Z_time)],amps[i,np.argsort(Z_time)],c='C1', alpha=0.902,linewidth=1.0)\n",
    "ax = plt.gca()\n",
    "ax.xaxis_date()\n",
    "ax.xaxis.set_major_formatter(myFmt)\n"
   ]
  },
  {
   "cell_type": "code",
   "execution_count": 13,
   "metadata": {},
   "outputs": [
    {
     "name": "stdout",
     "output_type": "stream",
     "text": [
      "612.4097883701324\n"
     ]
    }
   ],
   "source": [
    "\n",
    "def build_trainable_location_scale_distribution(initial_loc, initial_scale):\n",
    "    \n",
    "    with tf.name_scope('build_trainable_location_scale_distribution'):\n",
    "        dtype = tf.float32\n",
    "        initial_loc = initial_loc * tf.ones(tf.shape(initial_scale), dtype=dtype)\n",
    "        \n",
    "        initial_scale = initial_scale * tf.ones_like(initial_loc)\n",
    "\n",
    "        loc = tf.Variable(initial_value=initial_loc, name='loc')\n",
    "      \n",
    "        \n",
    "        scale=tfp.util.DeferredTensor(tf.nn.softplus,tf.Variable(initial_scale, name='scale'))\n",
    "\n",
    "        posterior_dist = tfd.Normal(loc=loc, scale=scale)\n",
    "\n",
    "        \n",
    "        posterior_dist = tfd.Independent(posterior_dist)\n",
    "        \n",
    "    return posterior_dist\n",
    "\n",
    "\n",
    "flat_component_dists = []\n",
    "\n",
    "for kparam in mover.kernel_params:\n",
    "    init_loc = kparam\n",
    "    init_scale = tf.random.uniform(shape=kparam.shape, minval=-2, maxval=2, dtype=tf.dtypes.float32)\n",
    "\n",
    "\n",
    "    flat_component_dists.append(build_trainable_location_scale_distribution(init_loc,init_scale))\n",
    "\n",
    "\n",
    "surrogate_posterior = tfd.JointDistributionSequential(flat_component_dists)\n",
    "\n",
    "\n",
    "\n",
    "def target_log_prob_fn(*inputs):\n",
    "    params = [tf.squeeze(a) for a in inputs]\n",
    "    loss = mover.log_posterior(*params)\n",
    "    \n",
    "    \n",
    "    return loss\n",
    "\n",
    "\n",
    "\n",
    "\n",
    "start = time.time()\n",
    "losses = tfp.vi.fit_surrogate_posterior(\n",
    "    target_log_prob_fn, surrogate_posterior,\n",
    "    optimizer=tf.optimizers.Adam(\n",
    "        learning_rate=0.1,        \n",
    "        beta_2=0.9),\n",
    "    num_steps=1500)\n",
    "end = time.time()\n",
    "print(end - start)\n",
    "\n",
    "\n",
    "\n"
   ]
  },
  {
   "cell_type": "code",
   "execution_count": 18,
   "metadata": {},
   "outputs": [],
   "source": [
    "sp = surrogate_posterior.sample(100)\n",
    "sp_np = [s.numpy() for s in sp]\n",
    "approximate_posterior_stddevs = [0.1*np.std(x,axis=0) for x in sp]\n"
   ]
  },
  {
   "cell_type": "code",
   "execution_count": 15,
   "metadata": {},
   "outputs": [
    {
     "name": "stderr",
     "output_type": "stream",
     "text": [
      "/home/staff1/ctorney/anaconda3/envs/tf/lib/python3.7/site-packages/ipykernel_launcher.py:33: FutureWarning: The pandas.datetime class is deprecated and will be removed from pandas in a future version. Import from datetime module instead.\n",
      "/home/staff1/ctorney/anaconda3/envs/tf/lib/python3.7/site-packages/ipykernel_launcher.py:34: FutureWarning: The pandas.datetime class is deprecated and will be removed from pandas in a future version. Import from datetime module instead.\n"
     ]
    }
   ],
   "source": [
    "X,T,ID = setup_data(skip_i=1)\n",
    "\n",
    "\n",
    "# create the model \n",
    "mover_hmc = moveNS(T,X,Z, ID, BATCH_SIZE=2800, velocity=True, std_obs_noise=100, mean_obs_noise=10,\n",
    "                        akernel=periodic_kernel, \n",
    "                        aparams_init=aparams_init, \n",
    "                        apriors=apriors, \n",
    "                        atransforms=transforms,\n",
    "                        lkernel=periodic_kernel, \n",
    "                        lparams_init=lparams_init, \n",
    "                        lpriors=lpriors, \n",
    "                        ltransforms=transforms)"
   ]
  },
  {
   "cell_type": "code",
   "execution_count": 16,
   "metadata": {},
   "outputs": [],
   "source": [
    "#set values\n",
    "\n",
    "for pk in range(len(mover.kernel_params)):\n",
    "    mover_hmc.kernel_params[pk].assign(mover.kernel_params[pk].numpy())\n"
   ]
  },
  {
   "cell_type": "code",
   "execution_count": 19,
   "metadata": {},
   "outputs": [
    {
     "name": "stderr",
     "output_type": "stream",
     "text": [
      "/home/staff1/ctorney/anaconda3/envs/tf/lib/python3.7/site-packages/tensorflow_probability/python/mcmc/sample.py:336: UserWarning: Tracing all kernel results by default is deprecated. Set the `trace_fn` argument to None (the future default value) or an explicit callback that traces the values you are interested in.\n",
      "  warnings.warn(\"Tracing all kernel results by default is deprecated. Set \"\n"
     ]
    },
    {
     "name": "stdout",
     "output_type": "stream",
     "text": [
      "0 8858.259512662888\n"
     ]
    }
   ],
   "source": [
    "\n",
    "start = time.time()\n",
    "\n",
    "num_samples=100\n",
    "burn_in=50\n",
    "num_runs=1\n",
    "rescale = 24\n",
    "\n",
    "for i in range(num_runs):\n",
    "    \n",
    "\n",
    "    kr = mover_hmc.hmc_sample(num_samples=num_samples, skip=0, burn_in=burn_in, num_leapfrog_steps=8, init_step=approximate_posterior_stddevs)\n",
    "   \n",
    "    # save the results\n",
    "    final_hmc_np = [j.numpy() for j in  mover_hmc.samples_]\n",
    "    with open('data/hmc_samples_p_' + str(i) + '.npy', 'wb') as fp:\n",
    "        pickle.dump(final_hmc_np, fp)\n",
    "        \n",
    "    lengths = mover_hmc.get_lengthscale_samples()\n",
    "    amps = mover_hmc.get_amplitude_samples()\n",
    "    np.save('data/len_sheep_p_' + str(i) + '.npy',lengths)\n",
    "    np.save('data/amp_sheep_p_' + str(i) + '.npy',amps)\n",
    "    \n",
    "    Z_pred = np.arange(0,1.0*rescale,rescale*0.001).astype(np.float64)[:,None]\n",
    "    lengths = mover_hmc.get_lengthscale_samples(X=Z_pred)\n",
    "    amps = mover_hmc.get_amplitude_samples(X=Z_pred)\n",
    "\n",
    "    np.save('data/full_len_sheep_p_' + str(i) + '.npy',lengths)\n",
    "    np.save('data/full_amp_sheep_p_' + str(i) + '.npy',amps)\n",
    "    np.save('data/Z_pred_p_' + str(i) + '.npy',Z_pred)\n",
    "\n",
    "    \n",
    "    end = time.time()\n",
    "    print(i,end - start)"
   ]
  },
  {
   "cell_type": "code",
   "execution_count": 20,
   "metadata": {},
   "outputs": [
    {
     "name": "stdout",
     "output_type": "stream",
     "text": [
      "0 2.4606276424063576\n"
     ]
    },
    {
     "data": {
      "text/plain": [
       "0.95"
      ]
     },
     "execution_count": 20,
     "metadata": {},
     "output_type": "execute_result"
    }
   ],
   "source": [
    "print(i,(end - start)/60/60)\n",
    "np.sum(kr.inner_results.is_accepted.numpy()/num_samples)\n"
   ]
  },
  {
   "cell_type": "code",
   "execution_count": null,
   "metadata": {},
   "outputs": [],
   "source": []
  },
  {
   "cell_type": "markdown",
   "metadata": {},
   "source": [
    "## end of new code"
   ]
  },
  {
   "cell_type": "code",
   "execution_count": 22,
   "metadata": {},
   "outputs": [],
   "source": [
    "opt_params = [i.numpy() for i in  mover.kernel_params]\n",
    "#opt_params.append(opt_step)\n",
    "opt_params.append(Z)\n",
    "\n",
    "with open('opt_params.npy', 'wb') as fp:\n",
    "    pickle.dump(opt_params, fp)"
   ]
  },
  {
   "cell_type": "code",
   "execution_count": 23,
   "metadata": {},
   "outputs": [],
   "source": [
    "with open ('opt_params.npy', 'rb') as fp:\n",
    "    opt_params = pickle.load(fp)\n",
    "    opt_obs_noise = opt_params[0]\n",
    "    opt_ls_mean = opt_params[1]\n",
    "    opt_ls_v = opt_params[2]\n",
    "    opt_ls_amp = sp_shift(opt_params[3]).numpy()\n",
    "    opt_ls_ls = sp_shift(opt_params[4]).numpy()\n",
    "    opt_amp_mean = opt_params[5]\n",
    "    opt_amp_v = opt_params[6]\n",
    "    opt_amp_amp = sp_shift(opt_params[7]).numpy()\n",
    "    opt_amp_ls = sp_shift(opt_params[8]).numpy()\n",
    "    \n",
    "\n",
    "#     for i in range(len(mover.kernel_params)):\n",
    "#         mover.kernel_params[i].assign(opt_params[i])\n",
    "    #opt_step = opt_params[9]\n",
    "    Z = opt_params[9]"
   ]
  },
  {
   "cell_type": "code",
   "execution_count": 24,
   "metadata": {},
   "outputs": [],
   "source": [
    "\n",
    "\n",
    "def sp_shift(x):\n",
    "    # softplus transform with shift \n",
    "    return tf.nn.softplus(x)+1e-4\n",
    "\n",
    "def ls_periodic_kernel():\n",
    "    # periodic kernel with single variable parameter. Other parameters are set \n",
    "    # to encode daily activity pattern (period=rescale).\n",
    "    # 15 minute correlation time\n",
    "    return tfp.math.psd_kernels.ExpSinSquared(np.float64(opt_ls_amp),np.float64(opt_ls_ls),np.float64(24.0))\n",
    "\n",
    "def amp_periodic_kernel():\n",
    "    # periodic kernel with single variable parameter. Other parameters are set \n",
    "    # to encode daily activity pattern (period=rescale).\n",
    "    # 15 minute correlation time\n",
    "    return tfp.math.psd_kernels.ExpSinSquared(np.float64(opt_amp_amp),np.float64(opt_amp_ls),np.float64(24.0))\n",
    "\n",
    "\n",
    "# transform for parameter to ensure positive\n",
    "transforms=[] \n",
    "\n",
    "# prior distribution on parameters - changed to 20 \n",
    "lpriors = [tfd.Normal(loc = np.float64(opt_ls_mean),scale=np.float64(0.10))]\n",
    "apriors = [tfd.Normal(loc = np.float64(opt_amp_mean),scale=np.float64(0.10))]\n",
    "\n",
    "# random initial values of mean and kernel amplitude\n",
    "lparams_init = [opt_ls_mean]\n",
    "aparams_init = [opt_amp_mean]\n",
    "\n",
    "# create the model \n",
    "\n",
    "\n",
    "\n"
   ]
  },
  {
   "cell_type": "code",
   "execution_count": 27,
   "metadata": {},
   "outputs": [
    {
     "data": {
      "text/plain": [
       "<tf.Variable 'UnreadVariable' shape=(48,) dtype=float32, numpy=\n",
       "array([ 2.140828,  4.330832,  2.227619,  0.33749 , -0.660907,  3.03839 ,\n",
       "        3.775928, -0.735294,  0.653904,  2.252011,  5.031072,  2.369927,\n",
       "        0.420844, -2.124361,  2.287744,  1.770017, -1.926058, -2.138773,\n",
       "        0.441095,  0.350999,  2.323053, -1.296747, -1.78966 , -1.284032,\n",
       "       -1.082967,  1.083274,  1.123064,  0.674088, -0.454286, -0.064574,\n",
       "        0.166759, -0.127248,  0.175802, -0.119206, -0.044434,  0.003603,\n",
       "       -0.020527,  0.006768, -0.003757,  0.055776, -0.007153,  0.012104,\n",
       "        0.005261,  0.021885,  0.002737, -0.011549,  0.001325, -0.005876],\n",
       "      dtype=float32)>"
      ]
     },
     "execution_count": 27,
     "metadata": {},
     "output_type": "execute_result"
    }
   ],
   "source": [
    "mover_hmc = moveNS(T,X,Z, ID, BATCH_SIZE=2800, velocity=True, std_obs_noise=0, mean_obs_noise=opt_obs_noise,\n",
    "                        akernel=amp_periodic_kernel, \n",
    "                        aparams_init=aparams_init, \n",
    "                        apriors=apriors, \n",
    "                        atransforms=transforms,\n",
    "                        lkernel=ls_periodic_kernel, \n",
    "                        lparams_init=lparams_init, \n",
    "                        lpriors=lpriors, \n",
    "                        ltransforms=transforms)\n",
    "\n",
    "mover_hmc.kernel_params[1].assign(opt_ls_v)\n",
    "mover_hmc.kernel_params[3].assign(opt_amp_v)"
   ]
  },
  {
   "cell_type": "code",
   "execution_count": 28,
   "metadata": {},
   "outputs": [],
   "source": [
    "\n",
    "# optimizer = tf.keras.optimizers.Adam(learning_rate=1e-1,beta_2=0.99)\n",
    "# train_steps = 1000\n",
    "# pbar = tqdm(range(train_steps))\n",
    "# loss_history = np.zeros((train_steps))\n",
    "# for i in pbar:\n",
    "#     with tf.GradientTape() as t:\n",
    "#         loss = -mover_hmc.log_posterior(*mover_hmc.kernel_params)\n",
    "#     loss_history[i] = loss.numpy()\n",
    "#     pbar.set_description(\"Loss %f\" % loss_history[i])\n",
    "\n",
    "#     gradients = t.gradient(loss, mover_hmc.kernel_params)\n",
    "#     optimizer.apply_gradients(zip(gradients, mover_hmc.kernel_params))"
   ]
  },
  {
   "cell_type": "code",
   "execution_count": 29,
   "metadata": {},
   "outputs": [
    {
     "name": "stderr",
     "output_type": "stream",
     "text": [
      "/home/staff1/ctorney/anaconda3/envs/tf/lib/python3.7/site-packages/tensorflow_probability/python/mcmc/sample.py:336: UserWarning: Tracing all kernel results by default is deprecated. Set the `trace_fn` argument to None (the future default value) or an explicit callback that traces the values you are interested in.\n",
      "  warnings.warn(\"Tracing all kernel results by default is deprecated. Set \"\n"
     ]
    }
   ],
   "source": [
    "# sample from the posterior\n",
    "# mover_hmc.kernel_params[1].assign(m1)\n",
    "# mover_hmc.kernel_params[3].assign(m2)\n",
    "kr = mover_hmc.hmc_sample(num_samples=2, skip=0, burn_in=0, num_leapfrog_steps=1, init_step=1e-8)\n",
    "lengths = mover_hmc.get_lengthscale_samples()\n",
    "amps = mover_hmc.get_amplitude_samples()"
   ]
  },
  {
   "cell_type": "code",
   "execution_count": 30,
   "metadata": {},
   "outputs": [
    {
     "data": {
      "image/png": "[encoded data removed]",
      "text/plain": [
       "<Figure size 720x432 with 1 Axes>"
      ]
     },
     "metadata": {
      "needs_background": "light"
     },
     "output_type": "display_data"
    },
    {
     "data": {
      "image/png": "[encoded data removed]",
      "text/plain": [
       "<Figure size 720x432 with 1 Axes>"
      ]
     },
     "metadata": {
      "needs_background": "light"
     },
     "output_type": "display_data"
    }
   ],
   "source": [
    "#  plot the sample for checking\n",
    "plt.figure(figsize=(10,6))\n",
    "Z_time=np.array([np.datetime64('2019') + np.timedelta64(int(k*60*60), 's') for k in Z])\n",
    "\n",
    "for i in range(0,lengths.shape[0]):\n",
    "    plt.plot(Z_time[np.argsort(Z_time)],lengths[i,np.argsort(Z_time)],c='C1',alpha=0.902,linewidth=1.0)\n",
    "\n",
    "ax = plt.gca()\n",
    "ax.xaxis_date()\n",
    "ax.xaxis.set_major_formatter(myFmt)\n",
    "plt.figure(figsize=(10,6))\n",
    "\n",
    "for i in range(0,amps.shape[0]):\n",
    "    plt.plot(Z_time[np.argsort(Z_time)],amps[i,np.argsort(Z_time)],c='C1', alpha=0.902,linewidth=1.0)\n",
    "ax = plt.gca()\n",
    "ax.xaxis_date()\n",
    "ax.xaxis.set_major_formatter(myFmt)"
   ]
  },
  {
   "cell_type": "code",
   "execution_count": null,
   "metadata": {},
   "outputs": [],
   "source": [
    "\n",
    "def build_trainable_location_scale_distribution(initial_loc, initial_scale):\n",
    "    \n",
    "    with tf.name_scope('build_trainable_location_scale_distribution'):\n",
    "        dtype = tf.float32\n",
    "        initial_loc = initial_loc * tf.ones(tf.shape(initial_scale), dtype=dtype)\n",
    "        \n",
    "        initial_scale = initial_scale * tf.ones_like(initial_loc)\n",
    "\n",
    "        loc = tf.Variable(initial_value=initial_loc, name='loc')\n",
    "      \n",
    "        \n",
    "        scale=tfp.util.DeferredTensor(tf.nn.softplus,tf.Variable(initial_scale, name='scale'))\n",
    "\n",
    "        posterior_dist = tfd.Normal(loc=loc, scale=scale)\n",
    "\n",
    "        \n",
    "        posterior_dist = tfd.Independent(posterior_dist)\n",
    "        \n",
    "    return posterior_dist\n",
    "\n",
    "\n",
    "flat_component_dists = []\n",
    "\n",
    "\n",
    "init_loc = mover_hmc.kernel_params[1]\n",
    "init_scale = tf.random.uniform(shape=mover_hmc.kernel_params[1].shape, minval=-2, maxval=2, dtype=tf.dtypes.float32)\n",
    "\n",
    "    \n",
    "flat_component_dists.append(build_trainable_location_scale_distribution(init_loc,init_scale))\n",
    "\n",
    "\n",
    "init_loc = mover_hmc.kernel_params[3]\n",
    "init_scale = tf.random.uniform(shape=mover_hmc.kernel_params[3].shape, minval=-2, maxval=2, dtype=tf.dtypes.float32)\n",
    "\n",
    "    \n",
    "flat_component_dists.append(build_trainable_location_scale_distribution(init_loc,init_scale))\n",
    "\n",
    "surrogate_posterior = tfd.JointDistributionSequential(flat_component_dists)\n",
    "\n",
    "\n",
    "\n",
    "def target_log_prob_fn(*inputs):\n",
    "    params = []\n",
    "    #print(inputs)\n",
    "    #print('----------')\n",
    "    params.append(mover_hmc.kernel_params[0])\n",
    "    params.append(tf.squeeze(inputs[0]))\n",
    "    params.append(mover_hmc.kernel_params[2])\n",
    "    params.append(tf.squeeze(inputs[1]))\n",
    "    #params = [tf.squeeze(a) for a in inputs]\n",
    "    loss = mover_hmc.log_posterior(*params)\n",
    "    \n",
    "    #print(loss)\n",
    "    return loss\n",
    "\n",
    "\n",
    "\n",
    "\n",
    "start = time.time()\n",
    "losses = tfp.vi.fit_surrogate_posterior(\n",
    "    target_log_prob_fn, surrogate_posterior,\n",
    "    optimizer=tf.optimizers.Adam(\n",
    "        learning_rate=0.1,\n",
    "        # Decay second-moment estimates to aid optimizing scale parameters.\n",
    "        beta_2=0.9),\n",
    "    num_steps=1500)\n",
    "end = time.time()\n",
    "print(end - start)\n",
    "\n",
    "\n",
    "\n"
   ]
  },
  {
   "cell_type": "code",
   "execution_count": null,
   "metadata": {},
   "outputs": [],
   "source": [
    "sp = surrogate_posterior.sample(100)\n",
    "sp_np = [s.numpy() for s in sp]\n",
    "approximate_posterior_stddevs = [np.std(x) for x in sp]\n",
    "s1 = np.std(sp_np[0],axis=0)\n",
    "m1 = np.mean(sp_np[0],axis=0)\n",
    "\n",
    "s2 = np.std(sp_np[1],axis=0)\n",
    "m2 = np.mean(sp_np[1],axis=0)\n",
    "\n",
    "#plt.plot(Z[np.argsort(Z,axis=0)][:,0],m1[np.argsort(Z,axis=0)][:,0])\n",
    "plt.plot(Z[np.argsort(Z,axis=0)][:,0],surrogate_posterior.mean()[0].numpy()[np.argsort(Z,axis=0)][:,0])\n",
    "plt.plot(Z[np.argsort(Z,axis=0)][:,0],mover_hmc.kernel_params[1].numpy()[np.argsort(Z,axis=0)][:,0])\n",
    "\n",
    "plt.show()\n",
    "\n",
    "plt.plot(Z[np.argsort(Z,axis=0)][:,0],s1[np.argsort(Z,axis=0)][:,0])\n",
    "plt.plot(Z[np.argsort(Z,axis=0)][:,0],s2[np.argsort(Z,axis=0)][:,0])\n",
    "\n",
    "#opt_amp_mean"
   ]
  },
  {
   "cell_type": "code",
   "execution_count": null,
   "metadata": {},
   "outputs": [],
   "source": [
    "X,T,ID = setup_data(skip_i=1)\n",
    "\n",
    "# opt_ls_v = mover_hmc.kernel_params[1].numpy()\n",
    "# opt_amp_v = mover_hmc.kernel_params[3].numpy()\n",
    "\n",
    "mover_hmc = []\n",
    "\n",
    "mover_hmc = moveNS(T,X,Z, ID, BATCH_SIZE=2800, data_steps = [1], velocity=True, std_obs_noise=0, mean_obs_noise=opt_obs_noise,\n",
    "                        akernel=amp_periodic_kernel, \n",
    "                        aparams_init=aparams_init, \n",
    "                        apriors=apriors, \n",
    "                        atransforms=transforms,\n",
    "                        lkernel=ls_periodic_kernel, \n",
    "                        lparams_init=lparams_init, \n",
    "                        lpriors=lpriors, \n",
    "                        ltransforms=transforms)\n",
    "\n",
    "\n",
    "mover_hmc.kernel_params[1].assign(opt_ls_v)\n",
    "mover_hmc.kernel_params[3].assign(opt_amp_v)"
   ]
  },
  {
   "cell_type": "markdown",
   "metadata": {},
   "source": [
    "## Run the sampler"
   ]
  },
  {
   "cell_type": "code",
   "execution_count": null,
   "metadata": {},
   "outputs": [],
   "source": [
    "\n",
    "start = time.time()\n",
    "\n",
    "num_samples=1000\n",
    "burn_in=500\n",
    "num_runs=4\n",
    "rescale = 24\n",
    "\n",
    "for i in range(num_runs):\n",
    "    \n",
    "    steps = []\n",
    "    for j, param in enumerate(mover_hmc.kernel_params):\n",
    "        if j==1:\n",
    "            steps.append(s1)\n",
    "        elif j==3:\n",
    "            steps.append(s2)\n",
    "        else:\n",
    "            steps.append(0)\n",
    "    kr = mover_hmc.hmc_sample(num_samples=num_samples, skip=0, burn_in=burn_in, num_leapfrog_steps=8, init_step=steps)\n",
    "   \n",
    "    # save the results\n",
    "    final_hmc_np = [j.numpy() for j in  mover_hmc.samples_]\n",
    "    with open('data/hmc_samples_p_' + str(i) + '.npy', 'wb') as fp:\n",
    "        pickle.dump(final_hmc_np, fp)\n",
    "        \n",
    "    lengths = mover_hmc.get_lengthscale_samples()\n",
    "    amps = mover_hmc.get_amplitude_samples()\n",
    "    np.save('data/len_sheep_p_' + str(i) + '.npy',lengths)\n",
    "    np.save('data/amp_sheep_p_' + str(i) + '.npy',amps)\n",
    "    \n",
    "    Z_pred = np.arange(0,1.0*rescale,rescale*0.001).astype(np.float64)[:,None]\n",
    "    lengths = mover_hmc.get_lengthscale_samples(X=Z_pred)\n",
    "    amps = mover_hmc.get_amplitude_samples(X=Z_pred)\n",
    "\n",
    "    np.save('data/full_len_sheep_p_' + str(i) + '.npy',lengths)\n",
    "    np.save('data/full_amp_sheep_p_' + str(i) + '.npy',amps)\n",
    "    np.save('data/Z_pred_p_' + str(i) + '.npy',Z_pred)\n",
    "\n",
    "    \n",
    "    end = time.time()\n",
    "    print(i,end - start)"
   ]
  },
  {
   "cell_type": "code",
   "execution_count": null,
   "metadata": {},
   "outputs": [],
   "source": [
    "\n",
    "print(i,0.8*1500*(end - start)/60/60/400)\n",
    "np.sum(kr.inner_results.is_accepted.numpy()/num_samples)\n"
   ]
  },
  {
   "cell_type": "code",
   "execution_count": 21,
   "metadata": {},
   "outputs": [
    {
     "data": {
      "image/png": "[encoded data removed]",
      "text/plain": [
       "<Figure size 288x432 with 2 Axes>"
      ]
     },
     "metadata": {
      "needs_background": "light"
     },
     "output_type": "display_data"
    }
   ],
   "source": [
    "\n",
    "\n",
    "\n",
    "#amps = np.load('data/amps.npy')\n",
    "\n",
    "\n",
    "gridsize = (2, 1)\n",
    "fig = plt.figure(figsize=(4, 6))\n",
    "ax1 = plt.subplot2grid(gridsize, (0, 0))\n",
    "ax2 = plt.subplot2grid(gridsize, (1, 0))\n",
    "\n",
    "\n",
    "\n",
    "Z_time=np.array([np.datetime64('2019') - np.timedelta64(0, 'h') + np.timedelta64(int(k*60*60*24/rescale), 's') for k in Z_pred])\n",
    "\n",
    "\n",
    "\n",
    "ax1.plot(Z_time, np.mean(lengths, 0),c='C0', lw=1)\n",
    "\n",
    "ax1.fill_between(Z_time[:],\n",
    "                 np.percentile(lengths, 2.5, axis=0)[:,0],\n",
    "                 np.percentile(lengths, 97.5, axis=0)[:,0],\n",
    "                 color='C0', alpha = 0.3)\n",
    "\n",
    "# #plt.xlim(0,1)\n",
    "#ax1.set_ylim(0,0.2)\n",
    "\n",
    "# #plt.xlim(0,1)\n",
    "# ax = plt.gca()\n",
    "ax1.xaxis_date()\n",
    "#ax1.yaxis.set_major_locator(ticker.MultipleLocator(0.05))\n",
    "\n",
    "\n",
    "ax1.xaxis.set_major_formatter(myFmt)\n",
    "# #plt.gcf autofmt_xdate()\n",
    "ax1.set_xlabel('time of day')\n",
    "ax1.set_ylabel('lengthscale (hours)')\n",
    "#ax1.set_yticklabels([])\n",
    "\n",
    "\n",
    "\n",
    "\n",
    "\n",
    "ax1.xaxis.set_major_formatter(myFmt)\n",
    "\n",
    "\n",
    "ax2.plot(Z_time, np.mean(amps/1000, 0),c='C1', lw=1) # x3.6 to convert m/s to km/h\n",
    "\n",
    "ax2.fill_between(Z_time[:],\n",
    "                 np.percentile(amps/1000, 2.5, axis=0)[:,0],\n",
    "                 np.percentile(amps/1000, 97.5, axis=0)[:,0],\n",
    "                 color='C1', alpha = 0.3)\n",
    "\n",
    "# #plt.xlim(0,1)\n",
    "#ax2.set_ylim(0,0.2)\n",
    "\n",
    "# #plt.xlim(0,1)\n",
    "# ax = plt.gca()\n",
    "ax2.xaxis_date()\n",
    "ax2.yaxis.set_major_locator(ticker.MultipleLocator(0.1))\n",
    "\n",
    "\n",
    "ax2.xaxis.set_major_formatter(myFmt)\n",
    "# #plt.gcf autofmt_xdate()\n",
    "ax2.set_xlabel('time of day')\n",
    "ax2.set_ylabel('amplitude (km/h)')\n",
    "#ax2.set_yticklabels([])\n",
    "\n",
    "\n",
    "\n",
    "\n",
    "\n",
    "\n",
    "\n",
    "plt.tight_layout(h_pad=2,w_pad=3)\n",
    "\n",
    "\n",
    "\n",
    "xp = ax1.get_position().x0\n",
    "yp = ax1.get_position().y1    \n",
    "fig.text(xp - .09, yp+ .02, 'A', size=12)\n",
    "\n",
    "xp = ax2.get_position().x0\n",
    "yp = ax2.get_position().y1    \n",
    "fig.text(xp - .09, yp+ .02, 'B', size=12)\n",
    "\n",
    "plt.savefig('figures/sheep_combined.png', dpi=300, bbox_inches = \"tight\")\n",
    "#np.save('hmc_samples' + str(i) + '.npy', final_hmc_np)"
   ]
  },
  {
   "cell_type": "code",
   "execution_count": null,
   "metadata": {},
   "outputs": [],
   "source": [
    "plt.plot(kr.new_step_size[1][-1,:10].numpy())\n",
    "plt.plot(0.3*opt_step[2][0:10])"
   ]
  },
  {
   "cell_type": "code",
   "execution_count": null,
   "metadata": {},
   "outputs": [],
   "source": []
  },
  {
   "cell_type": "code",
   "execution_count": null,
   "metadata": {},
   "outputs": [],
   "source": []
  },
  {
   "cell_type": "code",
   "execution_count": null,
   "metadata": {},
   "outputs": [],
   "source": []
  },
  {
   "cell_type": "code",
   "execution_count": null,
   "metadata": {},
   "outputs": [],
   "source": []
  },
  {
   "cell_type": "code",
   "execution_count": null,
   "metadata": {},
   "outputs": [],
   "source": [
    "\n"
   ]
  },
  {
   "cell_type": "code",
   "execution_count": null,
   "metadata": {},
   "outputs": [],
   "source": []
  },
  {
   "cell_type": "code",
   "execution_count": null,
   "metadata": {},
   "outputs": [],
   "source": []
  },
  {
   "cell_type": "code",
   "execution_count": null,
   "metadata": {},
   "outputs": [],
   "source": []
  },
  {
   "cell_type": "code",
   "execution_count": null,
   "metadata": {},
   "outputs": [],
   "source": [
    "\n"
   ]
  },
  {
   "cell_type": "code",
   "execution_count": null,
   "metadata": {},
   "outputs": [],
   "source": [
    "plt.plot(m1)\n",
    "plt.plot(opt_ls_v)\n",
    "plt.show()\n",
    "plt.plot(m2)\n",
    "plt.plot(mover_hmc.kernel_params[3].numpy())\n",
    "plt.show()\n"
   ]
  },
  {
   "cell_type": "code",
   "execution_count": null,
   "metadata": {},
   "outputs": [],
   "source": [
    "plt.plot(opt_step[2])\n",
    "plt.plot(s1)\n",
    "#plt.show()\n",
    "\n",
    "plt.plot(opt_step[6])\n",
    "plt.plot(s2,label='vi')\n",
    "plt.legend()\n",
    "plt.show()"
   ]
  },
  {
   "cell_type": "code",
   "execution_count": null,
   "metadata": {},
   "outputs": [],
   "source": [
    "\n",
    "start = time.time()\n",
    "\n",
    "num_samples=500#00\n",
    "burn_in=500#00\n",
    "num_runs=1\n",
    "\n",
    "for i in range(num_runs):\n",
    "    steps = []\n",
    "    for j, param in enumerate(mover_hmc.kernel_params):\n",
    "        if j==1:\n",
    "            steps.append(1e-3*((opt_step[0])))#*(opt_step[0]))#/np.max(opt_step[0]))# (np.abs(gradients[2].numpy())**-1)/np.max(np.abs(gradients[2].numpy())**-1)) # np.full(shape=i.shape,fill_value=2e-3))#2e-3))\n",
    "        elif j==3:\n",
    "            steps.append(1e-3*((opt_step[1])))#/np.max(opt_step[1]))#(np.abs(gradients[5].numpy())**-1)/np.max(np.abs(gradients[5].numpy())**-1)) # np.full(shape=i.shape,fill_value=2e-3))#2e-3))\n",
    "        else:\n",
    "            steps.append(0)#1e-4)\n",
    "    kr = mover_hmc.hmc_sample(num_samples=num_samples, skip=0, burn_in=burn_in, num_leapfrog_steps=5, init_step=steps)#1e-4)\n",
    "   \n",
    "    # save the results\n",
    "    final_hmc_np = [j.numpy() for j in  mover_hmc.samples_]\n",
    "    with open('hmc_samples_p_' + str(i) + '.npy', 'wb') as fp:\n",
    "        pickle.dump(final_hmc_np, fp)\n",
    "        \n",
    "    lengths = mover_hmc.get_lengthscale_samples()\n",
    "    amps = mover_hmc.get_amplitude_samples()\n",
    "    np.save('data/len_sheep_p_' + str(i) + '.npy',lengths)\n",
    "    np.save('data/amp_sheep_p_' + str(i) + '.npy',amps)\n",
    "    \n",
    "    end = time.time()\n",
    "    print(i,end - start)"
   ]
  },
  {
   "cell_type": "code",
   "execution_count": null,
   "metadata": {},
   "outputs": [],
   "source": [
    "print(i,(end - start)/60)\n",
    "np.sum(kr.inner_results.is_accepted.numpy()/num_samples)\n"
   ]
  },
  {
   "cell_type": "code",
   "execution_count": null,
   "metadata": {},
   "outputs": [],
   "source": []
  },
  {
   "cell_type": "code",
   "execution_count": null,
   "metadata": {},
   "outputs": [],
   "source": [
    "# plt.hist(lengths,bins=100)\n",
    "# plt.show()\n",
    "\n",
    "\n",
    "import matplotlib.dates as mdates\n",
    "myFmt = mdates.DateFormatter('%H:%M')\n",
    "\n",
    "plt.figure(figsize=(10,6))\n",
    "\n",
    "Z2 = Z % 24\n",
    "Z_time=np.array([np.datetime64('2019') + np.timedelta64(int(k*60*60*24/rescale), 's') for k in Z_pred])\n",
    "\n",
    "\n",
    "#for i in np.unique(ID):\n",
    "    \n",
    "    #plt.plot(T[i==ID],X[i==ID,0],label='x-position')\n",
    "    #plt.plot(X[i==ID,0],X[i==ID,1],label='y-position',lw=1)\n",
    "#plt.legend(loc='best')\n",
    "\n",
    "#plt.axis('equal')\n",
    "\n",
    "#plt.xlim(0,1)\n",
    "#plt.ylim(0,4)\n",
    "#plt.xlabel('time (days)')\n",
    "#plt.show()\n",
    "\n",
    "for i in range(0,lengths.shape[0]):\n",
    "    #if i>50:\n",
    "        #plt.plot(means[i,:,0],means[i,:,1],c='C1', alpha=0.1,linewidth=1.0)\n",
    "    plt.plot(Z_time,lengths[i,:],'-',c='C0', alpha=0.5,linewidth=1.0)\n",
    "ax = plt.gca()\n",
    "ax.xaxis_date()\n",
    "#plt.ylim(0,0.1)\n",
    "ax.xaxis.set_major_formatter(myFmt)\n",
    "plt.figure(figsize=(10,6))\n",
    "#for i in np.unique(ID):\n",
    "    \n",
    "    #plt.plot(T[i==ID],X[i==ID,0],label='x-position')\n",
    "    #plt.plot(X[i==ID,0],X[i==ID,1],label='y-position',lw=1)\n",
    "#plt.legend(loc='best')\n",
    "\n",
    "#plt.axis('equal')\n",
    "\n",
    "#plt.xlim(0,1)\n",
    "\n",
    "#plt.xlabel('time (days)')\n",
    "#plt.show()\n",
    "#plt.ylim(0,0.2)\n",
    "for i in range(0,amps.shape[0]):\n",
    "    #if i>50:\n",
    "#     #plt.plot(means[i,:,0],means[i,:,1],c='C1', alpha=0.1,linewidth=1.0)\n",
    "     plt.plot(Z_time,amps[i,:],'-',c='C1', alpha=0.5,linewidth=1.0)\n",
    "ax = plt.gca()\n",
    "ax.xaxis_date()\n",
    "ax.xaxis.set_major_formatter(myFmt)"
   ]
  },
  {
   "cell_type": "code",
   "execution_count": null,
   "metadata": {},
   "outputs": [],
   "source": [
    "with open ('opt_params.npy', 'rb') as fp:\n",
    "    opt_params = pickle.load(fp)\n",
    " \n",
    "    opt_obs_noise = opt_params[0]\n",
    "    opt_ls_mean = opt_params[1]\n",
    "    opt_ls_v = opt_params[2]\n",
    "    opt_ls_amp = (opt_params[3]).numpy()\n",
    "    opt_ls_ls = (opt_params[4]).numpy()\n",
    "    opt_amp_mean = opt_params[5]\n",
    "    opt_amp_v = opt_params[6]\n",
    "    opt_amp_amp = (opt_params[7]).numpy()\n",
    "    opt_amp_ls = (opt_params[8]).numpy()\n",
    "    opt_step = opt_params[9]"
   ]
  },
  {
   "cell_type": "code",
   "execution_count": null,
   "metadata": {},
   "outputs": [],
   "source": [
    "def sp_shift(x):\n",
    "    # softplus transform with shift \n",
    "    return tf.nn.softplus(x)+1e-4\n",
    "\n",
    "def periodic_kernel(x1,x2):\n",
    "    # periodic kernel with single variable parameter. Other parameters are set \n",
    "    # to encode daily activity pattern (period=rescale).\n",
    "    # 15 minute correlation time\n",
    "    \n",
    "    \n",
    "    return tfk.ExpSinSquared(x1,x2,np.float64(rescale*1.0))\n",
    "\n",
    "\n",
    "# transform for parameter to ensure positive\n",
    "transforms=[sp_shift,sp_shift] \n",
    "mtransforms=[sp_shift,sp_shift] \n",
    "\n",
    "# prior distribution on parameters - changed to 20 \n",
    "lpriors = [tfd.Normal(loc = np.float64(0.),scale=np.float64(10)),\n",
    "           tfd.Normal(loc = np.float64(0.),scale=np.float64(10)),\n",
    "           tfd.Normal(loc = np.float64(0.),scale=np.float64(10))]\n",
    "           \n",
    "apriors = [tfd.Normal(loc = np.float64(0),scale=np.float64(10.)),\n",
    "           tfd.Normal(loc = np.float64(0),scale=np.float64(10.)),\n",
    "           tfd.Normal(loc = np.float64(0.),scale=np.float64(10.))]\n",
    "\n",
    "\n",
    "\n",
    "# random initial values of mean and kernel amplitude\n",
    "#lparams_init = [p.sample().numpy()/10.0 for p in lpriors]\n",
    "#aparams_init = [p.sample().numpy()/10.0 for p in apriors]\n",
    "\n",
    "# random initial values of mean and kernel amplitude\n",
    "lparams_init = [opt_ls_mean,opt_ls_amp,opt_ls_ls]\n",
    "aparams_init = [opt_amp_mean,opt_amp_amp,opt_amp_ls]\n",
    "\n",
    "#params_init = [1.0]# for p in lpriors]\n",
    "#params_init = [stdX]#, 0.0]\n",
    "\n",
    "# create the model \n",
    "\n",
    "mover_hmc = moveNS(T,X,Z, ID, BATCH_SIZE=2800, data_steps = [1], velocity=True, std_obs_noise=100, mean_obs_noise=10,\n",
    "                        akernel=periodic_kernel, \n",
    "                        aparams_init=aparams_init, \n",
    "                        apriors=apriors, \n",
    "                        atransforms=transforms,\n",
    "                        lkernel=periodic_kernel, \n",
    "                        lparams_init=lparams_init, \n",
    "                        lpriors=lpriors, \n",
    "                        ltransforms=transforms)#,\n",
    "                        #mkernel=rbf_kernel, \n",
    "                        #mparams_init=mparams_init, \n",
    "                        #mpriors=mpriors, \n",
    "                        #mtransforms=mtransforms)\n",
    "                \n",
    "mover_hmc.kernel_params[0].assign(opt_obs_noise)                \n",
    "mover_hmc.kernel_params[2].assign(opt_ls_v)\n",
    "mover_hmc.kernel_params[6].assign(opt_amp_v)"
   ]
  },
  {
   "cell_type": "code",
   "execution_count": null,
   "metadata": {},
   "outputs": [],
   "source": []
  },
  {
   "cell_type": "code",
   "execution_count": null,
   "metadata": {},
   "outputs": [],
   "source": [
    "21*20/60"
   ]
  },
  {
   "cell_type": "code",
   "execution_count": null,
   "metadata": {},
   "outputs": [],
   "source": [
    "surrogate_posterior = build_factored_surrogate_posterior(\n",
    "    event_shape=[[], [], []],\n",
    "    constraining_bijectors=[None, None,None])\n",
    "# losses = tfp.vi.fit_surrogate_posterior(\n",
    "#     mover.log_posterior, surrogate_posterior,\n",
    "#     optimizer=tf.optimizers.Adam(\n",
    "#         learning_rate=0.1,\n",
    "#         # Decay second-moment estimates to aid optimizing scale parameters.\n",
    "#         beta_2=0.9),\n",
    "#     num_steps=1000)\n",
    "# approximate_posterior_stddevs = [np.std(x) for x in surrogate_posterior.sample(50)]"
   ]
  },
  {
   "cell_type": "code",
   "execution_count": null,
   "metadata": {},
   "outputs": [],
   "source": [
    "plt.plot(kr.new_step_size[2].numpy()[-1,:10])\n",
    "plt.plot(opt_step[2][0:10],'.')\n"
   ]
  },
  {
   "cell_type": "code",
   "execution_count": null,
   "metadata": {},
   "outputs": [],
   "source": []
  },
  {
   "cell_type": "code",
   "execution_count": null,
   "metadata": {},
   "outputs": [],
   "source": [
    "\n",
    "\n",
    "plt.figure(figsize=(10,6))\n",
    "\n",
    "\n",
    "for i in np.unique(ID):\n",
    "    plt.plot(T[i==ID],X[i==ID,0],'.',label='x-position')\n",
    "    #break\n",
    "for i in range(0,means.shape[0]):\n",
    "\n",
    "    \n",
    "    plt.plot(Z,means[i,:,0],c='C1', alpha=0.9002,linewidth=1.0)\n",
    "\n",
    "\n",
    "#plt.axis('equal')\n",
    "plt.xlabel('time')\n",
    "plt.ylabel('x-location')\n",
    "plt.show()\n",
    "plt.figure(figsize=(10,6))\n",
    "\n",
    "for i in np.unique(ID):\n",
    "    plt.plot(T[i==ID],X[i==ID,1],'.',label='x-position')\n",
    "for i in range(0,means.shape[0]):\n",
    "\n",
    "    plt.plot(Z,means[i,:,1],c='C1', alpha=0.9002,linewidth=1.0)\n",
    "    \n",
    "\n",
    "#plt.xlim(0,148)\n",
    "#plt.axis('equal')\n",
    "plt.xlabel('time')\n",
    "plt.ylabel('y-location')\n",
    "plt.show()\n"
   ]
  },
  {
   "cell_type": "code",
   "execution_count": null,
   "metadata": {},
   "outputs": [],
   "source": [
    "Z"
   ]
  },
  {
   "cell_type": "code",
   "execution_count": null,
   "metadata": {},
   "outputs": [],
   "source": [
    "# plot the trace\n",
    "for i in range(len(mover.samples_)):\n",
    "    plt.plot(mover.samples_[i].numpy())\n",
    "    plt.show()\n"
   ]
  },
  {
   "cell_type": "code",
   "execution_count": null,
   "metadata": {},
   "outputs": [],
   "source": [
    "mover.samples_[3].numpy()"
   ]
  },
  {
   "cell_type": "code",
   "execution_count": null,
   "metadata": {},
   "outputs": [],
   "source": [
    "k = periodic_kernel(15.0)\n",
    "tf.matmul(tf.linalg.cholesky(k.matrix(Z,Z)),tf.expand_dims(tf.cast(mover.kernel_params[2],tf.float64),-1))"
   ]
  },
  {
   "cell_type": "code",
   "execution_count": null,
   "metadata": {},
   "outputs": [],
   "source": [
    "nl = []\n",
    "shapes = []\n",
    "for mk in mover.kernel_params:\n",
    "    if len(mk.shape)==0:\n",
    "        mk2 = tf.expand_dims(mk,-1)\n",
    "        nl.append(mk2)\n",
    "        shapes.append(mk2.get_shape().as_list()[0])\n",
    "    else:\n",
    "        nl.append(mk)\n",
    "        shapes.append(mk.get_shape().as_list()[0])\n",
    "#for mk in nl:\n",
    "#    shapes.append(mk.shape)\n",
    "params = tf.concat(nl,axis=0)\n",
    "print(params.shape)\n",
    "\n",
    "\n",
    "# The objective function and the gradient.\n",
    "\n",
    "def objective_fn(position):\n",
    "    position_as_list = [tf.squeeze(x) for x in tf.split(position,shapes)]\n",
    "    \n",
    "\n",
    "\n",
    "    #for i in range(len(position_as_list)):\n",
    "    #    mover.kernel_params[i].assign(position_as_list[i].numpy())\n",
    "    \n",
    "    with tf.GradientTape() as t:\n",
    "        t.watch(position_as_list)\n",
    "        loss = -mover.log_posterior(*position_as_list)\n",
    "    \n",
    "    gradients = t.gradient(loss, position_as_list)\n",
    "    \n",
    "    #g_list = []\n",
    "#\n",
    "#    for g in gradients:\n",
    "#        if len(g.shape)==0:\n",
    "#            g2 = tf.expand_dims(g,-1)\n",
    "#            g_list.append(g2)\n",
    "##        \n",
    "#        else:\n",
    "#            g_list.append(g)\n",
    "        \n",
    "    return loss, gradients#tf.concat(g_list,axis=0)\n",
    "\n",
    "start = params\n",
    "optim_results = tfp.optimizer.lbfgs_minimize(objective_fn, \n",
    "                                                initial_position=start, \n",
    "                                                num_correction_pairs=10,\n",
    "                                                tolerance=1e-1)\n",
    "\n",
    "# Check that the search converged\n",
    "print(optim_results.converged.numpy())\n",
    "# True\n",
    "\n",
    "# Check that the argmin is close to the actual value.\n",
    "#print(np.allclose(optim_results.position.numpy(), minimum.numpy()))\n",
    "# True\n",
    "\n",
    "\n",
    "\n",
    "\n"
   ]
  },
  {
   "cell_type": "code",
   "execution_count": null,
   "metadata": {},
   "outputs": [],
   "source": [
    "optim_results.position.numpy()"
   ]
  },
  {
   "cell_type": "code",
   "execution_count": null,
   "metadata": {},
   "outputs": [],
   "source": [
    "import tensorflow as tf\n",
    "import tensorflow_probability as tfp\n",
    "import numpy as np\n",
    "\n",
    "# A high-dimensional quadratic bowl.\n",
    "ndims = 60\n",
    "minimum = tf.ones([ndims], dtype='float64')\n",
    "scales = tf.range(ndims, dtype='float64') + 1.0\n",
    "\n",
    "# The objective function and the gradient.\n",
    "@tf.function\n",
    "def quadratic(x):\n",
    "    value = tf.reduce_sum(scales * (x - minimum) ** 2)\n",
    "    return value, tf.gradients(value, x)[0]\n",
    "\n",
    "start = tf.range(ndims, 0, -1, dtype='float64')\n",
    "optim_results = tfp.optimizer.lbfgs_minimize(\n",
    "  quadratic, initial_position=start, num_correction_pairs=10,\n",
    "  tolerance=1e-8)\n",
    "\n",
    "# Check that the search converged\n",
    "print(optim_results.converged.numpy())\n",
    "# True\n",
    "\n",
    "# Check that the argmin is close to the actual value.\n",
    "print(np.allclose(optim_results.position.numpy(), minimum.numpy()))\n",
    "\n",
    "quadratic(start)"
   ]
  },
  {
   "cell_type": "markdown",
   "metadata": {},
   "source": [
    "## Diagnostics"
   ]
  },
  {
   "cell_type": "code",
   "execution_count": null,
   "metadata": {},
   "outputs": [],
   "source": [
    "def sp(x):\n",
    "    # softplus transform with shift \n",
    "    return tf.nn.softplus(x)+1e-4\n",
    "\n",
    "def periodic_kernel(x1):\n",
    "    # locally periodic kernel with single variable parameter. Other parameters are set \n",
    "    # to encode annual activity pattern (period=365), RBF kernel is set to allow for \n",
    "    # slow varying mean locations (2-year lengthscale).\n",
    "    \n",
    "    return tfk.ExpSinSquared(x1,np.float64(np.sqrt(np.pi/96.)),np.float64(1.0))\n",
    "\n",
    "\n",
    "for run in range(5):\n",
    "\n",
    "    # initial value of kernel amplitude\n",
    "    lparams_init=[np.random.uniform(0,10.0)] \n",
    "    aparams_init=[np.random.uniform(0,10.0)] \n",
    "\n",
    "    # transform for parameter to ensure positive\n",
    "    transforms=[sp] \n",
    "\n",
    "    # prior distribution on parameter \n",
    "    priors = [tfd.Uniform(low=np.float64(0.), high=np.float64(100.0))]\n",
    "\n",
    "    # create the model \n",
    "    mover = moveNS(T,X,Z, ID, BATCH_SIZE=1000, velocity=True, \n",
    "                           akernel=periodic_kernel, \n",
    "                           aparams_init=lparams_init, \n",
    "                           apriors=priors, \n",
    "                           atransforms=transforms,\n",
    "                           lkernel=periodic_kernel, \n",
    "                           lparams_init=aparams_init, \n",
    "                           lpriors=priors, \n",
    "                           ltransforms=transforms)\n",
    "\n",
    "\n",
    "\n",
    "    start = time.time()\n",
    "\n",
    "    # sample from the posterior\n",
    "    mover.hmc_sample(num_samples=1000, skip=0, burn_in=500, init_step=1e-5)\n",
    "    #mover.hmc_sample(num_samples=3, skip=0, burn_in=0)\n",
    "    end = time.time()\n",
    "    print(end - start)\n",
    "\n",
    "    np.save('data/samples_sheep' + str(run) + '.npy',mover.samples_)"
   ]
  },
  {
   "cell_type": "code",
   "execution_count": null,
   "metadata": {},
   "outputs": [],
   "source": []
  },
  {
   "cell_type": "code",
   "execution_count": null,
   "metadata": {},
   "outputs": [],
   "source": []
  },
  {
   "cell_type": "code",
   "execution_count": null,
   "metadata": {},
   "outputs": [],
   "source": [
    "save_sam[0][0]"
   ]
  },
  {
   "cell_type": "code",
   "execution_count": null,
   "metadata": {},
   "outputs": [],
   "source": [
    "len(mover.kernel_params)"
   ]
  },
  {
   "cell_type": "code",
   "execution_count": null,
   "metadata": {},
   "outputs": [],
   "source": [
    "mover.kernel_params[2]#.assign(0.4)"
   ]
  },
  {
   "cell_type": "code",
   "execution_count": null,
   "metadata": {},
   "outputs": [],
   "source": [
    "for i in range(7):\n",
    "    mover.kernel_params[i].assign(save_sam[i][-1])"
   ]
  },
  {
   "cell_type": "code",
   "execution_count": null,
   "metadata": {},
   "outputs": [],
   "source": [
    "mover.kernel_params[1]"
   ]
  },
  {
   "cell_type": "code",
   "execution_count": null,
   "metadata": {},
   "outputs": [],
   "source": [
    "mover.samples_[1]"
   ]
  },
  {
   "cell_type": "code",
   "execution_count": null,
   "metadata": {},
   "outputs": [],
   "source": [
    "T"
   ]
  },
  {
   "cell_type": "code",
   "execution_count": null,
   "metadata": {},
   "outputs": [],
   "source": [
    "1/(T[2]-T[1])"
   ]
  },
  {
   "cell_type": "code",
   "execution_count": null,
   "metadata": {},
   "outputs": [],
   "source": [
    "X[2]-X[1]"
   ]
  },
  {
   "cell_type": "code",
   "execution_count": null,
   "metadata": {},
   "outputs": [],
   "source": []
  }
 ],
 "metadata": {
  "kernelspec": {
   "display_name": "Python 3",
   "language": "python",
   "name": "python3"
  },
  "language_info": {
   "codemirror_mode": {
    "name": "ipython",
    "version": 3
   },
   "file_extension": ".py",
   "mimetype": "text/x-python",
   "name": "python",
   "nbconvert_exporter": "python",
   "pygments_lexer": "ipython3",
   "version": "3.7.7"
  }
 },
 "nbformat": 4,
 "nbformat_minor": 2
}
