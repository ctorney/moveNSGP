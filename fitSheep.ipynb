{
 "cells": [
  {
   "cell_type": "code",
   "execution_count": 1,
   "metadata": {},
   "outputs": [],
   "source": [
    "import tensorflow_probability as tfp\n",
    "import numpy as np\n",
    "import tensorflow as tf\n",
    "\n",
    "import time\n",
    "from tqdm import tqdm\n",
    "import pickle\n",
    "\n",
    "from math import *\n",
    "\n",
    "import matplotlib.dates as mdates\n",
    "import matplotlib.ticker as ticker\n",
    "\n",
    "myFmt = mdates.DateFormatter('%Hh')\n",
    "\n",
    "import pandas as pd\n",
    "np.set_printoptions(suppress=True,precision=6)\n",
    "import matplotlib.pyplot as plt\n",
    "import matplotlib\n",
    "\n",
    "plt.style.use('ggplot') \n",
    "plt.style.use('seaborn-paper') \n",
    "plt.style.use('seaborn-whitegrid')\n",
    "\n",
    "import sys\n",
    "\n",
    "from tensorflow_probability import distributions as tfd\n",
    "from geopy.distance import geodesic\n",
    "\n",
    "%matplotlib inline\n",
    "\n",
    "from move_ns import moveNS"
   ]
  },
  {
   "cell_type": "markdown",
   "metadata": {},
   "source": [
    "## Load data and display individual time series lengths"
   ]
  },
  {
   "cell_type": "code",
   "execution_count": 2,
   "metadata": {},
   "outputs": [],
   "source": [
    "# set up lower level GP locations covering 24 hours\n",
    "Z = np.linspace(0,24,num=25,endpoint=False).astype(np.float64)[:,None]\n",
    "#np.random.shuffle(Z)\n"
   ]
  },
  {
   "cell_type": "code",
   "execution_count": 3,
   "metadata": {},
   "outputs": [],
   "source": [
    "def setup_data(skip_i=1,skip=3):\n",
    "    \n",
    "    df = pd.read_csv('data/ovejas.csv')\n",
    "\n",
    "    df = df[df.id!=34]\n",
    "    \n",
    "    \n",
    "\n",
    "\n",
    "\n",
    "    df['ID'] = df['id'].astype('category').cat.rename_categories(range(0, df['id'].nunique())).astype('int')\n",
    "    df = df[df['ID']%skip_i==0]\n",
    "    #df = df[df['ID'].isin(np.arange(0,20,2))]\n",
    "    \n",
    "    ID = df['ID'].values \n",
    "    \n",
    "    \n",
    "    \n",
    "    Xgps = df[['lat','lon']].values\n",
    "    minX = np.min(Xgps[:,0])\n",
    "    minY = np.min(Xgps[:,1])\n",
    "\n",
    "\n",
    "\n",
    "\n",
    "    secs =(pd.to_datetime(df['time'])- pd.datetime(2018,1,1)).dt.seconds.astype(float).values\n",
    "    days = (pd.to_datetime(df['time'])- pd.datetime(2018,1,1)).dt.days.astype(float).values\n",
    "    T = (days*24*60+secs/60)/(60*24) #days\n",
    "    T = T-np.min(T)\n",
    "\n",
    "    rescale = 24  # use hours to improve numerical stability\n",
    "    T = T * rescale\n",
    "\n",
    "\n",
    "    \n",
    "\n",
    "\n",
    "\n",
    "\n",
    "    # use geodesic to get the straight line distance between two points\n",
    "    Xmetres = np.array([geodesic((xloc,minY), (minX,minY)).meters for xloc in Xgps[:,0]])\n",
    "    Ymetres = np.array([geodesic((minX,yloc), (minX,minY)).meters for yloc in Xgps[:,1]])\n",
    "\n",
    "    \n",
    "\n",
    "\n",
    "    X = np.array([Xmetres, Ymetres]).T\n",
    "    \n",
    "    T=T[::skip,None]\n",
    "    X=X[::skip]\n",
    "    ID=ID[::skip]\n",
    "\n",
    "    return X, T, ID\n"
   ]
  },
  {
   "cell_type": "code",
   "execution_count": 4,
   "metadata": {},
   "outputs": [
    {
     "data": {
      "text/plain": [
       "array([ 0,  2,  4,  6,  8, 10, 12, 14, 16, 18])"
      ]
     },
     "execution_count": 4,
     "metadata": {},
     "output_type": "execute_result"
    }
   ],
   "source": [
    "np.arange(0,20,2)"
   ]
  },
  {
   "cell_type": "code",
   "execution_count": 16,
   "metadata": {},
   "outputs": [
    {
     "name": "stderr",
     "output_type": "stream",
     "text": [
      "<ipython-input-3-3da508b15eb6>:26: FutureWarning: The pandas.datetime class is deprecated and will be removed from pandas in a future version. Import from datetime module instead.\n",
      "  secs =(pd.to_datetime(df['time'])- pd.datetime(2018,1,1)).dt.seconds.astype(float).values\n",
      "<ipython-input-3-3da508b15eb6>:27: FutureWarning: The pandas.datetime class is deprecated and will be removed from pandas in a future version. Import from datetime module instead.\n",
      "  days = (pd.to_datetime(df['time'])- pd.datetime(2018,1,1)).dt.days.astype(float).values\n"
     ]
    },
    {
     "name": "stdout",
     "output_type": "stream",
     "text": [
      "(225953, 2)\n"
     ]
    }
   ],
   "source": [
    "X,T,ID = setup_data(skip_i=1,skip=2)\n",
    "X[:,0] = X[:,0]-X[:,0].mean()\n",
    "X[:,1] = X[:,1]-X[:,1].mean()\n",
    "X[:,0] = X[:,0]/1000\n",
    "X[:,1] = X[:,1]/1000\n",
    "\n",
    "print(X.shape)"
   ]
  },
  {
   "cell_type": "code",
   "execution_count": 17,
   "metadata": {},
   "outputs": [],
   "source": [
    "def sp_shift(x):\n",
    "    # softplus transform with shift \n",
    "    return tf.nn.softplus(x)+1e-4"
   ]
  },
  {
   "cell_type": "markdown",
   "metadata": {},
   "source": [
    "## Set-up the non-stationary GP"
   ]
  },
  {
   "cell_type": "code",
   "execution_count": 32,
   "metadata": {},
   "outputs": [],
   "source": [
    "\n",
    "\n",
    "def periodic_kernel(x1,x2):\n",
    "    # periodic kernel with parameter set to encode\n",
    "    # daily activity pattern (period=rescale).\n",
    "    return tfp.math.psd_kernels.ExpSinSquared(x1,x2,np.float64(24.0))\n",
    "\n",
    "# transform for parameter to ensure positive\n",
    "transforms=[sp_shift,sp_shift] \n",
    "#transforms=[sp_shift] \n",
    "\n",
    "# diffuse priors on parameters\n",
    "lpriors = [tfd.Normal(loc = np.float64(0),scale=np.float64(1)),\n",
    "           tfd.Normal(loc = np.float64(0),scale=np.float64(10.))]\n",
    "           \n",
    "apriors = [tfd.Normal(loc = np.float64(0.),scale=np.float64(1)),\n",
    "           tfd.Normal(loc = np.float64(0),scale=np.float64(10.))]\n",
    "\n",
    "\n",
    "lparams_init = [0.0,0.0]\n",
    "aparams_init = [0.0,0.0]\n",
    "\n",
    "\n",
    "# create the model #2880\n",
    "mover = moveNS(T,X,Z, ID, BATCH_SIZE=1000, MIN_REMAIN=500,velocity=True, std_obs_noise=100, mean_obs_noise=10,\n",
    "                        akernel=periodic_kernel, \n",
    "                        aparams_init=aparams_init, \n",
    "                        apriors=apriors, \n",
    "                        atransforms=transforms,\n",
    "                        lkernel=periodic_kernel, \n",
    "                        lparams_init=lparams_init, \n",
    "                        lpriors=lpriors, \n",
    "                        ltransforms=transforms)\n",
    "\n",
    "\n",
    "#-mover.log_posterior(*mover.kernel_params)\n"
   ]
  },
  {
   "cell_type": "code",
   "execution_count": null,
   "metadata": {},
   "outputs": [
    {
     "name": "stderr",
     "output_type": "stream",
     "text": [
      "Loss 152143.739039:  12%|█▏        | 233/2000 [09:58<1:15:13,  2.55s/it]"
     ]
    }
   ],
   "source": [
    "\n",
    "learning_rate = tf.optimizers.schedules.ExponentialDecay(\n",
    "    initial_learning_rate=1e-1,\n",
    "    decay_steps=50,\n",
    "    decay_rate=0.99,\n",
    "    staircase=True)\n",
    "\n",
    "\n",
    "optimizer = tf.keras.optimizers.Adam(learning_rate=learning_rate,beta_2=0.99)\n",
    "train_steps = 2000\n",
    "pbar = tqdm(range(train_steps))\n",
    "loss_history = np.zeros((train_steps))\n",
    "for i in pbar:\n",
    "    with tf.GradientTape() as t:\n",
    "        loss = -mover.log_posterior(*mover.kernel_params)\n",
    "    loss_history[i] = loss.numpy()\n",
    "    pbar.set_description(\"Loss %f\" % (loss_history[i]))\n",
    "\n",
    "    gradients = t.gradient(loss, mover.kernel_params)\n",
    "    optimizer.apply_gradients(zip(gradients, mover.kernel_params))\n",
    "#n=3.5\n"
   ]
  },
  {
   "cell_type": "code",
   "execution_count": null,
   "metadata": {},
   "outputs": [],
   "source": [
    "plt.plot(loss_history[800:])"
   ]
  },
  {
   "cell_type": "code",
   "execution_count": null,
   "metadata": {},
   "outputs": [],
   "source": [
    "lengths = mover.get_lengthscale()\n",
    "plt.plot(Z,lengths,'o',c='b')\n",
    "Zin = np.linspace(0,24,num=500,endpoint=False).astype(np.float64)[:,None]\n",
    "\n",
    "lengths = mover.get_lengthscale(X=Zin)\n",
    "plt.plot(Zin,lengths)\n",
    "plt.show()\n",
    "\n",
    "amps = mover.get_amplitude()\n",
    "plt.plot(Z,amps,'o',c='b')\n",
    "Zin = np.linspace(0,24,num=500,endpoint=False).astype(np.float64)[:,None]\n",
    "amps = mover.get_amplitude(X=Zin)\n",
    "plt.plot(Zin,amps)\n",
    "plt.show()\n"
   ]
  },
  {
   "cell_type": "code",
   "execution_count": null,
   "metadata": {},
   "outputs": [],
   "source": [
    "opt_params = [i.numpy() for i in  mover.kernel_params]\n",
    "\n",
    "with open('opt_params.npy', 'wb') as fp:\n",
    "    pickle.dump(opt_params, fp)\n",
    "\n"
   ]
  },
  {
   "cell_type": "code",
   "execution_count": null,
   "metadata": {},
   "outputs": [],
   "source": [
    "with open ('opt_params.npy', 'rb') as fp:\n",
    "    opt_params = pickle.load(fp)\n",
    "    opt_obs_noise = opt_params[0]\n",
    "    opt_ls_v = opt_params[1]\n",
    "    opt_ls_amp = sp_shift(opt_params[2]).numpy()\n",
    "    opt_ls_ls = sp_shift(opt_params[3]).numpy()\n",
    "    opt_amp_v = opt_params[4]\n",
    "    opt_amp_amp = sp_shift(opt_params[5]).numpy()\n",
    "    opt_amp_ls = sp_shift(opt_params[6]).numpy()\n",
    "    \n"
   ]
  },
  {
   "cell_type": "code",
   "execution_count": null,
   "metadata": {},
   "outputs": [],
   "source": [
    "\n",
    "def ls_periodic_kernel():\n",
    "    # periodic kernel with single variable parameter. Other parameters are set \n",
    "    # to encode daily activity pattern (period=rescale).\n",
    "    # 15 minute correlation time\n",
    "    return tfp.math.psd_kernels.ExpSinSquared(np.float64(opt_ls_amp),np.float64(opt_ls_ls),np.float64(24.0))\n",
    "\n",
    "def amp_periodic_kernel():\n",
    "    # periodic kernel with single variable parameter. Other parameters are set \n",
    "    # to encode daily activity pattern (period=rescale).\n",
    "    # 15 minute correlation time\n",
    "    return tfp.math.psd_kernels.ExpSinSquared(np.float64(opt_amp_amp),np.float64(opt_amp_ls),np.float64(24.0))\n",
    "\n",
    "\n",
    "# transform for parameter to ensure positive\n",
    "transforms=[] \n",
    "\n",
    "# prior distribution on parameters - changed to 20 \n",
    "lpriors =[]#tfd.Normal(loc = np.float64(opt_ls_mean),scale=np.float64(10))]\n",
    "apriors =[]#tfd.Normal(loc = np.float64(opt_amp_mean),scale=np.float64(10))]\n",
    "\n",
    "# random initial values of mean and kernel amplitude\n",
    "lparams_init =[]\n",
    "aparams_init = []\n",
    "\n",
    "# create the model \n",
    "\n",
    "\n",
    "mover_hmc = moveNS(T,X,Z, ID, BATCH_SIZE=1000, MIN_REMAIN= 500, velocity=True, std_obs_noise=0, mean_obs_noise=opt_obs_noise,\n",
    "                        akernel=amp_periodic_kernel, \n",
    "                        aparams_init=aparams_init, \n",
    "                        apriors=apriors, \n",
    "                        atransforms=transforms,\n",
    "                        lkernel=ls_periodic_kernel, \n",
    "                        lparams_init=lparams_init, \n",
    "                        lpriors=lpriors, \n",
    "                        ltransforms=transforms)\n",
    "\n",
    "mover_hmc.kernel_params[0].assign(opt_ls_v)\n",
    "mover_hmc.kernel_params[1].assign(opt_amp_v)"
   ]
  },
  {
   "cell_type": "code",
   "execution_count": null,
   "metadata": {},
   "outputs": [],
   "source": [
    "mover_hmc.mala_sample(num_samples=500,skip=10,burn_in=20000)\n"
   ]
  },
  {
   "cell_type": "code",
   "execution_count": null,
   "metadata": {},
   "outputs": [],
   "source": [
    "\n",
    "\n",
    "\n",
    "def log_normal_pdf_unn(x, mean, variance, inv_variance=None):\n",
    "    \"\"\"\n",
    "    log of unnormalized pdf of a normal distribution.\n",
    "\n",
    "    Parameters\n",
    "    ----------\n",
    "    x\n",
    "        Where to evaluate the Normal.\n",
    "    mean, variance:\n",
    "        parameters of the gaussian.\n",
    "    inv_variance\n",
    "        Inverse of the variance (to avoid computing it again and again in certain cases).\n",
    "\n",
    "    Returns\n",
    "    -------\n",
    "    float: the result.\n",
    "    \"\"\"\n",
    "    if inv_variance is None:\n",
    "        inv_variance = np.linalg.inv(variance)\n",
    "    return -1 / 2 * (x - mean) @ (inv_variance @ (x - mean))\n",
    "\n",
    "\n",
    "\n",
    "\n",
    "\n",
    "def projection_operators(epsilon_1, A_1):\n",
    "    \"\"\"\n",
    "    Return the projection functions defined in the article.\n",
    "\n",
    "    Parameters\n",
    "    ----------\n",
    "    epsilon_1, A_1:\n",
    "        The two scaling operators.\n",
    "\n",
    "    Returns\n",
    "    -------\n",
    "    proj_sigma: Projection on segment epsilon_1, A_1\n",
    "    proj_gamma: Projection on cone of definite matrix of norm < 1_1\n",
    "    proj_mu: Projection on centered ball of radius A_1\n",
    "    \"\"\"\n",
    "\n",
    "    def proj_sigma(x: float) -> float:\n",
    "        if x < epsilon_1:\n",
    "            return epsilon_1\n",
    "        elif x > A_1:\n",
    "            return A_1\n",
    "        else:\n",
    "            return x\n",
    "\n",
    "    def proj_gamma(x: np.ndarray) -> np.ndarray:\n",
    "        assert x.ndim == 2\n",
    "        norm = np.linalg.norm(x, ord='fro')  # Frobenius norm\n",
    "        if norm > A_1:\n",
    "            print(f\"Projection on Gamma! norm={norm:.1e}\")\n",
    "            return A_1 / norm * x\n",
    "        else:\n",
    "            return x\n",
    "\n",
    "    def proj_mu(x: np.ndarray) -> np.ndarray:\n",
    "        assert x.ndim == 1\n",
    "        norm = np.linalg.norm(x, ord=2)\n",
    "        if norm > A_1:\n",
    "            print(f\"Projection on mu! norm={norm:.1e}\")\n",
    "            return A_1 / norm * x\n",
    "        else:\n",
    "            return x\n",
    "\n",
    "    return proj_sigma, proj_gamma, proj_mu\n",
    "\n",
    "\n",
    "\n",
    "    \n",
    "\n",
    "\n",
    "class AdaptiveMALA():\n",
    "    def __init__(self, state, log_pdf,\n",
    "                 drift,\n",
    "                 epsilon_1=1e-5,\n",
    "                 epsilon_2=1e-6,\n",
    "                 A_1=1e7,\n",
    "                 tau_bar=0.574,\n",
    "                 mu_0=None,\n",
    "                 gamma_0=None,\n",
    "                 sigma_0=1,\n",
    "                 robbins_monroe=10,\n",
    "                 threshold_start_estimate=100,\n",
    "                 threshold_use_estimate=200,\n",
    "                 ):\n",
    "        \"\"\"\n",
    "        Adaptative MALA sampler, described in [1].\n",
    "\n",
    "        Parameters\n",
    "        ----------\n",
    "        state: initial state to start in.\n",
    "        pi: Callable. Unnormalized pdf of the distribution we want to approximate.\n",
    "        log_pi: log of the distribution we want to approximate\n",
    "        drift: Callable.\n",
    "        epsilon_1, epsilon_2, A_1: parameters of the HM algorithm. Must verify: 0 < epsilon_1 < A_1, 0 < epsilon_2.\n",
    "        tau_bar: target optimal acceptation rate.\n",
    "        mu_0, gamma_0, sigma_0: initial values for the parameters.\n",
    "        robbins_monroe: constant c_0 for the robbins monroe coefficients: g_n = c_0/n\n",
    "        threshold_use_estimate: int corresponding to the number of steps after which we start updating the covariance\n",
    "        matrix\n",
    "\n",
    "        References\n",
    "        ----------\n",
    "        [1] An adaptive version for the Metropolis adjusted Langevin algorithm with a truncated drift, Yves F. Atchadé\n",
    "\n",
    "        \"\"\"\n",
    "        \n",
    "        self.dims = state.shape[0]\n",
    "        self.state = state\n",
    "        self.log_pdf = log_pdf\n",
    "        self.acceptance_rate = 0\n",
    "        self.steps = 0\n",
    "        self.history = {'state': [state], 'acceptance rate': []}\n",
    "\n",
    "        if mu_0 is None:\n",
    "            mu_0 = state\n",
    "        if gamma_0 is None:\n",
    "            gamma_0 = np.eye(self.dims)\n",
    "\n",
    "        self.drift = drift\n",
    "        self.tau_bar = tau_bar\n",
    "        self.gamma = gamma_0\n",
    "        self.sigma = sigma_0\n",
    "        self.A_1 = A_1\n",
    "        self.epsilon_1 = epsilon_1\n",
    "        self.epsilon_2 = epsilon_2\n",
    "        self.c_0 = robbins_monroe\n",
    "        self._gamma_estimate = self.gamma.copy()\n",
    "        self.params_history = {'gamma': [gamma_0.copy()],'sigma': [sigma_0]}\n",
    "\n",
    "\n",
    "        self.epsilon_1 = epsilon_1\n",
    "\n",
    "        self.mu = mu_0\n",
    "        self.proj_sigma, self.proj_gamma, self.proj_mu = projection_operators(epsilon_1, A_1)\n",
    "        self.threshold_use_estimate = threshold_use_estimate\n",
    "        self.threshold_start_estimate = threshold_start_estimate\n",
    "        self.params_history['mu'] = [mu_0.copy()]\n",
    "\n",
    "    \n",
    "    def run_sampler(self,n_samples, n_burn, thin=1):\n",
    "        \"\"\"\n",
    "        Draw samples from the chain.\n",
    "\n",
    "        Returns\n",
    "        -------\n",
    "        The new state.\n",
    "        \"\"\"\n",
    "        self.steps = 0\n",
    "        \n",
    "        samples = np.zeros((n_samples,self.dims))\n",
    "        \n",
    "        # total iterations for number of samples\n",
    "        iters = (n_samples * thin) + n_burn\n",
    "        \n",
    "        \n",
    "        pbar = tqdm(range(iters))\n",
    "        self.state_log_pdf = self.log_pdf(self.state)\n",
    "        self.state_drift = self.drift(self.state)\n",
    "        for i in pbar:\n",
    "            self.steps += 1\n",
    "            self.proposal = self.proposal_sampler()\n",
    "            self.proposal_log_pdf = self.log_pdf(self.proposal)\n",
    "            self.proposal_drift = self.drift(self.proposal)\n",
    "\n",
    "            alpha = self.acceptance_ratio()\n",
    "            \n",
    "            u = np.random.uniform(0, 1)\n",
    "            if u <= alpha:\n",
    "                self.state = self.proposal\n",
    "                self.acceptance_rate = ((self.steps - 1) * self.acceptance_rate + 1) / self.steps\n",
    "                self.state_log_pdf = self.proposal_log_pdf.copy()\n",
    "                self.state_drift = self.proposal_drift.copy()\n",
    "\n",
    "            else:\n",
    "                self.acceptance_rate = ((self.steps - 1) * self.acceptance_rate) / self.steps\n",
    "            pbar.set_description(\"AR %f SS %f\" % (self.acceptance_rate,self.sigma))\n",
    "\n",
    "            self.history['state'].append(self.state.copy())\n",
    "            self.history['acceptance rate'].append(self.acceptance_rate)\n",
    "\n",
    "            #print(self.state[0])\n",
    "            if i >= n_burn and i % thin == 0:\n",
    "                samples[(i - n_burn) // thin] = self.state\n",
    "\n",
    "            if i < n_burn:\n",
    "                self.update_params(alpha=alpha)\n",
    "            assert np.isfinite(self.state).all()\n",
    "            assert np.isfinite(self.gamma).all()\n",
    "\n",
    "        return samples\n",
    "    \n",
    "\n",
    "    \n",
    "    def acceptance_ratio(self):\n",
    "        \"\"\"\n",
    "        Compute the alpha parameter for the proposal, given the state we are in (self.state).\n",
    "\n",
    "        Parameters\n",
    "        ----------\n",
    "        proposal\n",
    "            The proposal value, given by e.g. proposal_sampler()\n",
    "        log\n",
    "            Computing acceptance_ratio using log trick\n",
    "\n",
    "        Returns\n",
    "        -------\n",
    "        A float between 0 and 1.\n",
    "        \"\"\"\n",
    "        \n",
    "        arg_exp = self.proposal_log_pdf - self.state_log_pdf \\\n",
    "                  + self.fwd_log_proposal_value() - self.bkwd_log_proposal_value()\n",
    "        #arg_exp = arg_exp.numpy()\n",
    "        if np.isfinite(arg_exp):\n",
    "            alpha = np.exp(min(0, arg_exp))\n",
    "        else:\n",
    "            alpha=0\n",
    "        \n",
    "        return alpha\n",
    "    \n",
    "    def proposal_sampler(self) -> np.ndarray:\n",
    "        big_lambda = self.gamma + self.epsilon_2 * np.eye(self.dims)\n",
    "        mean = self.state + self.sigma ** 2 / 2 * big_lambda @ self.state_drift\n",
    "        variance = self.sigma ** 2 * big_lambda\n",
    "        sample = np.random.multivariate_normal(mean=mean, cov=variance)\n",
    "        return sample\n",
    "\n",
    "    def fwd_log_proposal_value(self):\n",
    "        big_lambda = self.gamma + self.epsilon_2 * np.eye(self.dims)\n",
    "        mean = self.proposal + self.sigma ** 2 / 2 * big_lambda @ self.proposal_drift\n",
    "        variance = self.sigma ** 2 * big_lambda\n",
    "        value = log_normal_pdf_unn(self.state, mean, variance)\n",
    "        return value\n",
    "\n",
    "    def bkwd_log_proposal_value(self):\n",
    "        big_lambda = self.gamma + self.epsilon_2 * np.eye(self.dims)\n",
    "        mean = self.state + self.sigma ** 2 / 2 * big_lambda @ self.state_drift\n",
    "        variance = self.sigma ** 2 * big_lambda\n",
    "        value = log_normal_pdf_unn(self.proposal, mean, variance)\n",
    "        return value\n",
    "    \n",
    "    def log_proposal_value(self, x, y):\n",
    "        big_lambda = self.gamma + self.epsilon_2 * np.eye(self.dims)\n",
    "        mean = x + self.sigma ** 2 / 2 * big_lambda @ self.drift(x)\n",
    "        variance = self.sigma ** 2 * big_lambda\n",
    "        value = log_normal_pdf_unn(y, mean, variance)\n",
    "        return value\n",
    "\n",
    "\n",
    "    def update_params(self, alpha):\n",
    "        \n",
    "        \"\"\"\n",
    "\n",
    "\n",
    "        Parameters\n",
    "        ----------\n",
    "        model: instance of AdaptiveMALA or AdaptiveSymmetricRW\n",
    "        alpha: the acceptance ratio\n",
    "\n",
    "        Updates the parameters of the instance.\n",
    "        \"\"\"\n",
    "        coeff = self.c_0 / self.steps\n",
    "\n",
    "        \n",
    "\n",
    "\n",
    "        # _gamma_estimate holds the estimation of the covariance matrix.\n",
    "        # It is different from gamma: indeed, we want to estimate the covariance matrix without using it at first.\n",
    "        if self.steps > self.threshold_start_estimate:\n",
    "            coeff_gamma = self.c_0 / (self.steps - self.threshold_start_estimate)\n",
    "            covariance = (self.state - self.mu)[:, np.newaxis] @ (self.state - self.mu)[np.newaxis, :]\n",
    "            #covariance = np.diag((self.state - self.mu)**2)\n",
    "\n",
    "            self._gamma_estimate = self.proj_gamma(self._gamma_estimate + coeff_gamma * (covariance - self._gamma_estimate))\n",
    "        if self.steps > self.threshold_use_estimate:\n",
    "            self.gamma = self._gamma_estimate\n",
    "        \n",
    "        \n",
    "        self.mu = self.proj_mu(self.mu + coeff * (self.state - self.mu))\n",
    "\n",
    "        self.params_history['gamma'].append(self.gamma.copy())\n",
    "        self.params_history['mu'].append(self.mu.copy())\n",
    "\n",
    "        \n",
    "        self.sigma = self.proj_sigma(self.sigma + coeff * (alpha - self.tau_bar))\n",
    "        self.params_history['sigma'].append(self.sigma)"
   ]
  },
  {
   "cell_type": "code",
   "execution_count": null,
   "metadata": {},
   "outputs": [],
   "source": []
  },
  {
   "cell_type": "code",
   "execution_count": null,
   "metadata": {},
   "outputs": [],
   "source": []
  },
  {
   "cell_type": "code",
   "execution_count": null,
   "metadata": {},
   "outputs": [],
   "source": []
  },
  {
   "cell_type": "code",
   "execution_count": null,
   "metadata": {},
   "outputs": [],
   "source": [
    "\n",
    "\n",
    "def to_numpy(params):\n",
    "    return np.hstack([mk.numpy() for mk in params])\n",
    "\n",
    "def set_state(array):\n",
    "    \n",
    "    dims=[]\n",
    "    for a in mover_hmc.kernel_params:\n",
    "        if tf.rank(a)==0:\n",
    "            dims.append(1)\n",
    "        else:\n",
    "            dims.append(a.shape[0])\n",
    "    dims=np.cumsum(dims)[:-1]\n",
    "    for a, b in zip(np.split(array,dims), mover_hmc.kernel_params):\n",
    "        b.assign(a.squeeze())\n",
    "    return\n",
    "    \n",
    "    \n",
    "def drift(x):\n",
    "    delta = 1000\n",
    "    set_state(x)\n",
    "    \n",
    "    with tf.GradientTape() as t:\n",
    "        logpdf = mover_hmc.log_posterior(*mover_hmc.kernel_params)\n",
    "    \n",
    "    gradients = t.gradient(logpdf, mover_hmc.kernel_params)\n",
    "    grad_log_pdf_x = to_numpy(gradients)\n",
    "    \n",
    "    \n",
    "    return delta * grad_log_pdf_x / max(delta, np.linalg.norm(grad_log_pdf_x))\n",
    "\n",
    "def log_pdf(x):\n",
    "    set_state(x)\n",
    "    return mover_hmc.log_posterior(*mover_hmc.kernel_params).numpy()"
   ]
  },
  {
   "cell_type": "code",
   "execution_count": null,
   "metadata": {},
   "outputs": [],
   "source": [
    "#initial_state= to_numpy(mover.kernel_params)\n",
    "opt_params = [i.numpy() for i in  mover.kernel_params]\n",
    "opt_ls_v = opt_params[1]\n",
    "opt_amp_v = opt_params[4]\n",
    "    \n",
    "initial_state=np.hstack([opt_ls_v,opt_amp_v])\n",
    "\n",
    "adapt_t_mala_model = AdaptiveMALA(drift=drift,\n",
    "                                    log_pdf=log_pdf, \n",
    "                                    state= initial_state,\n",
    "                                    sigma_0=1,\n",
    "                                    threshold_start_estimate=500,\n",
    "                                    threshold_use_estimate=1000)"
   ]
  },
  {
   "cell_type": "code",
   "execution_count": null,
   "metadata": {},
   "outputs": [],
   "source": [
    "\n",
    "amala_samples = adapt_t_mala_model.run_sampler(500,20000,10)"
   ]
  },
  {
   "cell_type": "code",
   "execution_count": null,
   "metadata": {},
   "outputs": [],
   "source": [
    "pamala_samples.shape"
   ]
  },
  {
   "cell_type": "code",
   "execution_count": null,
   "metadata": {},
   "outputs": [],
   "source": [
    "dims=[]\n",
    "for a in mover_hmc.kernel_params:\n",
    "    if tf.rank(a)==0:\n",
    "        dims.append(1)\n",
    "    else:\n",
    "        dims.append(a.shape[0])\n",
    "dims=np.cumsum(dims)[:-1]"
   ]
  },
  {
   "cell_type": "code",
   "execution_count": null,
   "metadata": {},
   "outputs": [],
   "source": [
    "samples2 = [tf.convert_to_tensor(a,dtype=tf.float64) for a in np.split(amala_samples,dims,axis=-1)]"
   ]
  },
  {
   "cell_type": "code",
   "execution_count": null,
   "metadata": {},
   "outputs": [],
   "source": [
    "samples2"
   ]
  },
  {
   "cell_type": "code",
   "execution_count": null,
   "metadata": {},
   "outputs": [],
   "source": [
    "set_state(init_cond)"
   ]
  },
  {
   "cell_type": "code",
   "execution_count": null,
   "metadata": {},
   "outputs": [],
   "source": [
    "init_cond = to_numpy(mover.kernel_params)"
   ]
  },
  {
   "cell_type": "code",
   "execution_count": null,
   "metadata": {},
   "outputs": [],
   "source": [
    "mover.kernel_params\n"
   ]
  },
  {
   "cell_type": "code",
   "execution_count": 30,
   "metadata": {},
   "outputs": [
    {
     "data": {
      "image/png": "[encoded data removed]",
      "text/plain": [
       "<Figure size 432x288 with 1 Axes>"
      ]
     },
     "metadata": {
      "needs_background": "light"
     },
     "output_type": "display_data"
    },
    {
     "data": {
      "image/png": "[encoded data removed]",
      "text/plain": [
       "<Figure size 432x288 with 1 Axes>"
      ]
     },
     "metadata": {
      "needs_background": "light"
     },
     "output_type": "display_data"
    }
   ],
   "source": [
    "lengths = mover_hmc.get_lengthscale()\n",
    "plt.plot(Z,lengths,'o',c='b')\n",
    "Zin = np.linspace(0,24,num=500,endpoint=False).astype(np.float64)[:,None]\n",
    "\n",
    "lengths = mover.get_lengthscale(X=Zin)\n",
    "plt.plot(Zin,lengths)\n",
    "plt.show()\n",
    "\n",
    "amps = mover_hmc.get_amplitude()\n",
    "plt.plot(Z,amps,'o',c='b')\n",
    "Zin = np.linspace(0,24,num=500,endpoint=False).astype(np.float64)[:,None]\n",
    "amps = mover.get_amplitude(X=Zin)\n",
    "plt.plot(Zin,amps)\n",
    "plt.show()\n"
   ]
  },
  {
   "cell_type": "code",
   "execution_count": null,
   "metadata": {},
   "outputs": [],
   "source": [
    "opt_params = [i.numpy() for i in  mover.kernel_params]\n",
    "\n",
    "with open('opt_params.npy', 'wb') as fp:\n",
    "    pickle.dump(opt_params, fp)\n",
    "\n"
   ]
  },
  {
   "cell_type": "code",
   "execution_count": null,
   "metadata": {},
   "outputs": [],
   "source": [
    "with open ('opt_params.npy', 'rb') as fp:\n",
    "    opt_params = pickle.load(fp)\n",
    "    opt_obs_noise = opt_params[0]\n",
    "    opt_ls_v = opt_params[1]\n",
    "    opt_ls_amp = sp_shift(opt_params[2]).numpy()\n",
    "    opt_ls_ls = sp_shift(opt_params[3]).numpy()\n",
    "    opt_amp_v = opt_params[4]\n",
    "    opt_amp_amp = sp_shift(opt_params[5]).numpy()\n",
    "    opt_amp_ls = sp_shift(opt_params[6]).numpy()\n",
    "    \n"
   ]
  },
  {
   "cell_type": "code",
   "execution_count": null,
   "metadata": {},
   "outputs": [],
   "source": [
    "X,T,ID = setup_data(skip_i=1,skip=2)\n",
    "X[:,0] = X[:,0]-X[:,0].mean()\n",
    "X[:,1] = X[:,1]-X[:,1].mean()\n",
    "X[:,0] = X[:,0]/1000\n",
    "X[:,1] = X[:,1]/1000\n",
    "\n",
    "print(X.shape)"
   ]
  },
  {
   "cell_type": "code",
   "execution_count": null,
   "metadata": {},
   "outputs": [],
   "source": [
    "\n",
    "def ls_periodic_kernel():\n",
    "    # periodic kernel with single variable parameter. Other parameters are set \n",
    "    # to encode daily activity pattern (period=rescale).\n",
    "    # 15 minute correlation time\n",
    "    return tfp.math.psd_kernels.ExpSinSquared(np.float64(opt_ls_amp),np.float64(opt_ls_ls),np.float64(24.0))\n",
    "\n",
    "def amp_periodic_kernel():\n",
    "    # periodic kernel with single variable parameter. Other parameters are set \n",
    "    # to encode daily activity pattern (period=rescale).\n",
    "    # 15 minute correlation time\n",
    "    return tfp.math.psd_kernels.ExpSinSquared(np.float64(opt_amp_amp),np.float64(opt_amp_ls),np.float64(24.0))\n",
    "\n",
    "\n",
    "# transform for parameter to ensure positive\n",
    "transforms=[] \n",
    "\n",
    "# prior distribution on parameters - changed to 20 \n",
    "lpriors =[]#tfd.Normal(loc = np.float64(opt_ls_mean),scale=np.float64(10))]\n",
    "apriors =[]#tfd.Normal(loc = np.float64(opt_amp_mean),scale=np.float64(10))]\n",
    "\n",
    "# random initial values of mean and kernel amplitude\n",
    "lparams_init =[]\n",
    "aparams_init = []\n",
    "\n",
    "# create the model \n",
    "\n",
    "\n",
    "mover_hmc = moveNS(T,X,Z, ID, BATCH_SIZE=1000, MIN_REMAIN= 500, velocity=True, std_obs_noise=0, mean_obs_noise=opt_obs_noise,\n",
    "                        akernel=amp_periodic_kernel, \n",
    "                        aparams_init=aparams_init, \n",
    "                        apriors=apriors, \n",
    "                        atransforms=transforms,\n",
    "                        lkernel=ls_periodic_kernel, \n",
    "                        lparams_init=lparams_init, \n",
    "                        lpriors=lpriors, \n",
    "                        ltransforms=transforms)\n",
    "\n",
    "mover_hmc.kernel_params[0].assign(opt_ls_v)\n",
    "mover_hmc.kernel_params[1].assign(opt_amp_v)"
   ]
  },
  {
   "cell_type": "code",
   "execution_count": null,
   "metadata": {},
   "outputs": [],
   "source": [
    "\n",
    "learning_rate = tf.optimizers.schedules.ExponentialDecay(\n",
    "    initial_learning_rate=1e-3,\n",
    "    decay_steps=50,\n",
    "    decay_rate=0.99,\n",
    "    staircase=True)\n",
    "\n",
    "\n",
    "optimizer = tf.keras.optimizers.Adam(learning_rate=learning_rate,beta_2=0.99)\n",
    "train_steps = 100\n",
    "pbar = tqdm(range(train_steps))\n",
    "loss_history = np.zeros((train_steps))\n",
    "for i in pbar:\n",
    "    with tf.GradientTape() as t:\n",
    "        loss = -mover_hmc.log_posterior(*mover_hmc.kernel_params)\n",
    "    loss_history[i] = loss.numpy()\n",
    "    pbar.set_description(\"Loss %f\" % (loss_history[i]))\n",
    "    #pbar.set_description(\"Loss %f %f\" % (loss_history[i],gradients[1].numpy()[0]))\n",
    "\n",
    "    gradients = t.gradient(loss, mover_hmc.kernel_params)\n",
    "    optimizer.apply_gradients(zip(gradients, mover_hmc.kernel_params))\n",
    "#n=3.5\n"
   ]
  },
  {
   "cell_type": "code",
   "execution_count": null,
   "metadata": {},
   "outputs": [],
   "source": [
    "lengths = mover_hmc.get_lengthscale()\n",
    "plt.plot(Z,lengths,'o',c='b')\n",
    "Zin = np.linspace(0,24,num=500,endpoint=False).astype(np.float64)[:,None]\n",
    "\n",
    "lengths = mover_hmc.get_lengthscale(X=Zin)\n",
    "plt.plot(Zin,lengths)\n",
    "plt.show()\n",
    "\n",
    "amps = mover_hmc.get_amplitude()\n",
    "plt.plot(Z,amps,'o',c='b')\n",
    "Zin = np.linspace(0,24,num=500,endpoint=False).astype(np.float64)[:,None]\n",
    "amps = mover_hmc.get_amplitude(X=Zin)\n",
    "plt.plot(Zin,amps)\n",
    "plt.show()\n"
   ]
  },
  {
   "cell_type": "code",
   "execution_count": null,
   "metadata": {},
   "outputs": [],
   "source": [
    "\n",
    "\n",
    "\n",
    "def log_normal_pdf_unn(x, mean, variance, inv_variance=None):\n",
    "    \"\"\"\n",
    "    log of unnormalized pdf of a normal distribution.\n",
    "\n",
    "    Parameters\n",
    "    ----------\n",
    "    x\n",
    "        Where to evaluate the Normal.\n",
    "    mean, variance:\n",
    "        parameters of the gaussian.\n",
    "    inv_variance\n",
    "        Inverse of the variance (to avoid computing it again and again in certain cases).\n",
    "\n",
    "    Returns\n",
    "    -------\n",
    "    float: the result.\n",
    "    \"\"\"\n",
    "    if inv_variance is None:\n",
    "        inv_variance = np.linalg.inv(variance)\n",
    "    return -1 / 2 * (x - mean) @ (inv_variance @ (x - mean))\n",
    "\n",
    "\n",
    "\n",
    "\n",
    "\n",
    "def projection_operators(epsilon_1, A_1):\n",
    "    \"\"\"\n",
    "    Return the projection functions defined in the article.\n",
    "\n",
    "    Parameters\n",
    "    ----------\n",
    "    epsilon_1, A_1:\n",
    "        The two scaling operators.\n",
    "\n",
    "    Returns\n",
    "    -------\n",
    "    proj_sigma: Projection on segment epsilon_1, A_1\n",
    "    proj_gamma: Projection on cone of definite matrix of norm < 1_1\n",
    "    proj_mu: Projection on centered ball of radius A_1\n",
    "    \"\"\"\n",
    "\n",
    "    def proj_sigma(x: float) -> float:\n",
    "        if x < epsilon_1:\n",
    "            return epsilon_1\n",
    "        elif x > A_1:\n",
    "            return A_1\n",
    "        else:\n",
    "            return x\n",
    "\n",
    "    def proj_gamma(x: np.ndarray) -> np.ndarray:\n",
    "        assert x.ndim == 2\n",
    "        norm = np.linalg.norm(x, ord='fro')  # Frobenius norm\n",
    "        if norm > A_1:\n",
    "            print(f\"Projection on Gamma! norm={norm:.1e}\")\n",
    "            return A_1 / norm * x\n",
    "        else:\n",
    "            return x\n",
    "\n",
    "    def proj_mu(x: np.ndarray) -> np.ndarray:\n",
    "        assert x.ndim == 1\n",
    "        norm = np.linalg.norm(x, ord=2)\n",
    "        if norm > A_1:\n",
    "            print(f\"Projection on mu! norm={norm:.1e}\")\n",
    "            return A_1 / norm * x\n",
    "        else:\n",
    "            return x\n",
    "\n",
    "    return proj_sigma, proj_gamma, proj_mu\n",
    "\n",
    "\n",
    "\n",
    "    \n",
    "\n",
    "\n",
    "class AdaptiveMALA():\n",
    "    def __init__(self, state, log_pdf,\n",
    "                 drift,\n",
    "                 epsilon_1=1e-5,\n",
    "                 epsilon_2=1e-6,\n",
    "                 A_1=1e7,\n",
    "                 tau_bar=0.574,\n",
    "                 mu_0=None,\n",
    "                 gamma_0=None,\n",
    "                 sigma_0=1,\n",
    "                 robbins_monroe=10,\n",
    "                 threshold_start_estimate=100,\n",
    "                 threshold_use_estimate=200,\n",
    "                 ):\n",
    "        \"\"\"\n",
    "        Adaptative MALA sampler, described in [1].\n",
    "\n",
    "        Parameters\n",
    "        ----------\n",
    "        state: initial state to start in.\n",
    "        pi: Callable. Unnormalized pdf of the distribution we want to approximate.\n",
    "        log_pi: log of the distribution we want to approximate\n",
    "        drift: Callable.\n",
    "        epsilon_1, epsilon_2, A_1: parameters of the HM algorithm. Must verify: 0 < epsilon_1 < A_1, 0 < epsilon_2.\n",
    "        tau_bar: target optimal acceptation rate.\n",
    "        mu_0, gamma_0, sigma_0: initial values for the parameters.\n",
    "        robbins_monroe: constant c_0 for the robbins monroe coefficients: g_n = c_0/n\n",
    "        threshold_use_estimate: int corresponding to the number of steps after which we start updating the covariance\n",
    "        matrix\n",
    "\n",
    "        References\n",
    "        ----------\n",
    "        [1] An adaptive version for the Metropolis adjusted Langevin algorithm with a truncated drift, Yves F. Atchadé\n",
    "\n",
    "        \"\"\"\n",
    "        #super(AdaptiveMALA, self).__init__(state, pi, log_pi, drift, tau_bar, gamma_0, sigma_0, epsilon_2,\n",
    "                                           #robbins_monroe)\n",
    "        #super(AdaptiveMALA, self).__init__(state, pi, log_pi)\n",
    "        self.dims = state.shape[0]\n",
    "        self.state = state\n",
    "        self.log_pdf = log_pdf\n",
    "        self.acceptance_rate = 0\n",
    "        self.steps = 0\n",
    "        self.history = {'state': [state], 'acceptance rate': []}\n",
    "\n",
    "        if mu_0 is None:\n",
    "            mu_0 = state\n",
    "        if gamma_0 is None:\n",
    "            gamma_0 = np.eye(self.dims)\n",
    "\n",
    "        self.drift = drift\n",
    "        self.tau_bar = tau_bar\n",
    "        self.gamma = gamma_0\n",
    "        self.sigma = sigma_0\n",
    "        self.A_1 = A_1\n",
    "        self.epsilon_1 = epsilon_1\n",
    "        self.epsilon_2 = epsilon_2\n",
    "        self.c_0 = robbins_monroe\n",
    "        self._gamma_estimate = self.gamma.copy()\n",
    "        self.params_history = {'gamma': [gamma_0.copy()],'sigma': [sigma_0]}\n",
    "\n",
    "\n",
    "        self.epsilon_1 = epsilon_1\n",
    "\n",
    "        self.mu = mu_0\n",
    "        self.proj_sigma, self.proj_gamma, self.proj_mu = projection_operators(epsilon_1, A_1)\n",
    "        self.threshold_use_estimate = threshold_use_estimate\n",
    "        self.threshold_start_estimate = threshold_start_estimate\n",
    "        self.params_history['mu'] = [mu_0.copy()]\n",
    "\n",
    "    \n",
    "    def run_sampler(self,n_samples, n_burn, thin=1):\n",
    "        \"\"\"\n",
    "        Draw samples from the chain.\n",
    "\n",
    "        Returns\n",
    "        -------\n",
    "        The new state.\n",
    "        \"\"\"\n",
    "        self.steps = 0\n",
    "        \n",
    "        samples = np.zeros((n_samples,self.dims))\n",
    "        \n",
    "        # total iterations for number of samples\n",
    "        iters = (n_samples * thin) + n_burn\n",
    "        \n",
    "        \n",
    "        pbar = tqdm(range(iters))\n",
    "        self.state_log_pdf = self.log_pdf(self.state)\n",
    "        self.state_drift = self.drift(self.state)\n",
    "        for i in pbar:\n",
    "            self.steps += 1\n",
    "            self.proposal = self.proposal_sampler()\n",
    "            self.proposal_log_pdf = self.log_pdf(self.proposal)\n",
    "            self.proposal_drift = self.drift(self.proposal)\n",
    "\n",
    "            alpha = self.acceptance_ratio()\n",
    "            \n",
    "            u = np.random.uniform(0, 1)\n",
    "            if u <= alpha:\n",
    "                self.state = self.proposal\n",
    "                self.acceptance_rate = ((self.steps - 1) * self.acceptance_rate + 1) / self.steps\n",
    "                self.state_log_pdf = self.proposal_log_pdf.copy()\n",
    "                self.state_drift = self.proposal_drift.copy()\n",
    "\n",
    "            else:\n",
    "                self.acceptance_rate = ((self.steps - 1) * self.acceptance_rate) / self.steps\n",
    "            pbar.set_description(\"AR %f SS %f\" % (self.acceptance_rate,self.sigma))\n",
    "\n",
    "            self.history['state'].append(self.state.copy())\n",
    "            self.history['acceptance rate'].append(self.acceptance_rate)\n",
    "\n",
    "            #print(self.state[0])\n",
    "            if i >= n_burn and i % thin == 0:\n",
    "                samples[(i - n_burn) // thin] = self.state\n",
    "\n",
    "            #if i < n_burn:\n",
    "            self.update_params(alpha=alpha)\n",
    "            assert np.isfinite(self.state).all()\n",
    "            assert np.isfinite(self.gamma).all()\n",
    "\n",
    "        return samples\n",
    "    \n",
    "\n",
    "    \n",
    "    def acceptance_ratio(self):\n",
    "        \"\"\"\n",
    "        Compute the alpha parameter for the proposal, given the state we are in (self.state).\n",
    "\n",
    "        Parameters\n",
    "        ----------\n",
    "        proposal\n",
    "            The proposal value, given by e.g. proposal_sampler()\n",
    "        log\n",
    "            Computing acceptance_ratio using log trick\n",
    "\n",
    "        Returns\n",
    "        -------\n",
    "        A float between 0 and 1.\n",
    "        \"\"\"\n",
    "        \n",
    "        arg_exp = self.proposal_log_pdf - self.state_log_pdf \\\n",
    "                  + self.fwd_log_proposal_value() - self.bkwd_log_proposal_value()\n",
    "        #arg_exp = arg_exp.numpy()\n",
    "        if np.isfinite(arg_exp):\n",
    "            alpha = np.exp(min(0, arg_exp))\n",
    "        else:\n",
    "            alpha=0\n",
    "        \n",
    "        return alpha\n",
    "    \n",
    "    def proposal_sampler(self) -> np.ndarray:\n",
    "        big_lambda = self.gamma + self.epsilon_2 * np.eye(self.dims)\n",
    "        mean = self.state + self.sigma ** 2 / 2 * big_lambda @ self.state_drift\n",
    "        variance = self.sigma ** 2 * big_lambda\n",
    "        sample = np.random.multivariate_normal(mean=mean, cov=variance)\n",
    "        return sample\n",
    "\n",
    "    def fwd_log_proposal_value(self):\n",
    "        big_lambda = self.gamma + self.epsilon_2 * np.eye(self.dims)\n",
    "        mean = self.proposal + self.sigma ** 2 / 2 * big_lambda @ self.proposal_drift\n",
    "        variance = self.sigma ** 2 * big_lambda\n",
    "        value = log_normal_pdf_unn(self.state, mean, variance)\n",
    "        return value\n",
    "\n",
    "    def bkwd_log_proposal_value(self):\n",
    "        big_lambda = self.gamma + self.epsilon_2 * np.eye(self.dims)\n",
    "        mean = self.state + self.sigma ** 2 / 2 * big_lambda @ self.state_drift\n",
    "        variance = self.sigma ** 2 * big_lambda\n",
    "        value = log_normal_pdf_unn(self.proposal, mean, variance)\n",
    "        return value\n",
    "    \n",
    "    def log_proposal_value(self, x, y):\n",
    "        big_lambda = self.gamma + self.epsilon_2 * np.eye(self.dims)\n",
    "        mean = x + self.sigma ** 2 / 2 * big_lambda @ self.drift(x)\n",
    "        variance = self.sigma ** 2 * big_lambda\n",
    "        value = log_normal_pdf_unn(y, mean, variance)\n",
    "        return value\n",
    "\n",
    "\n",
    "    def update_params(self, alpha):\n",
    "        \n",
    "        \"\"\"\n",
    "\n",
    "\n",
    "        Parameters\n",
    "        ----------\n",
    "        model: instance of AdaptiveMALA or AdaptiveSymmetricRW\n",
    "        alpha: the acceptance ratio\n",
    "\n",
    "        Updates the parameters of the instance.\n",
    "        \"\"\"\n",
    "        coeff = self.c_0 / self.steps\n",
    "\n",
    "        \n",
    "\n",
    "\n",
    "        # _gamma_estimate holds the estimation of the covariance matrix.\n",
    "        # It is different from gamma: indeed, we want to estimate the covariance matrix without using it at first.\n",
    "        if self.steps > self.threshold_start_estimate:\n",
    "            coeff_gamma = self.c_0 / (self.steps - self.threshold_start_estimate)\n",
    "            covariance = (self.state - self.mu)[:, np.newaxis] @ (self.state - self.mu)[np.newaxis, :]\n",
    "            #covariance = np.diag((self.state - self.mu)**2)\n",
    "\n",
    "            self._gamma_estimate = self.proj_gamma(self._gamma_estimate + coeff_gamma * (covariance - self._gamma_estimate))\n",
    "        if self.steps > self.threshold_use_estimate:\n",
    "            self.gamma = self._gamma_estimate\n",
    "        \n",
    "        \n",
    "        self.mu = self.proj_mu(self.mu + coeff * (self.state - self.mu))\n",
    "\n",
    "        self.params_history['gamma'].append(self.gamma.copy())\n",
    "        self.params_history['mu'].append(self.mu.copy())\n",
    "\n",
    "        \n",
    "        self.sigma = self.proj_sigma(self.sigma + coeff * (alpha - self.tau_bar))\n",
    "        self.params_history['sigma'].append(self.sigma)"
   ]
  },
  {
   "cell_type": "code",
   "execution_count": null,
   "metadata": {},
   "outputs": [],
   "source": [
    "\n",
    "\n",
    "def to_numpy(params):\n",
    "    return np.hstack([mk.numpy() for mk in params])\n",
    "\n",
    "def set_state(array):\n",
    "    for a, b in zip(np.split(array,[25]), mover_hmc.kernel_params):\n",
    "        b.assign(a)\n",
    "    return\n",
    "    \n",
    "    \n",
    "def drift(x):\n",
    "    delta = 1000\n",
    "    set_state(x)\n",
    "    \n",
    "    with tf.GradientTape() as t:\n",
    "        logpdf = mover_hmc.log_posterior(*mover_hmc.kernel_params)\n",
    "    \n",
    "    gradients = t.gradient(logpdf, mover_hmc.kernel_params)\n",
    "    grad_log_pdf_x = to_numpy(gradients)\n",
    "    \n",
    "    \n",
    "    return delta * grad_log_pdf_x / max(delta, np.linalg.norm(grad_log_pdf_x))\n",
    "\n",
    "def log_pdf(x):\n",
    "    set_state(x)\n",
    "    return mover_hmc.log_posterior(*mover_hmc.kernel_params).numpy()"
   ]
  },
  {
   "cell_type": "code",
   "execution_count": null,
   "metadata": {},
   "outputs": [],
   "source": [
    "initial_state=np.hstack([opt_ls_v,opt_amp_v])\n",
    "\n",
    "adapt_t_mala_model = AdaptiveMALA(drift=drift,log_pdf=log_pdf, state= initial_state,sigma_0=1,threshold_start_estimate=100,\n",
    "                 threshold_use_estimate=200,\n",
    "                 )"
   ]
  },
  {
   "cell_type": "code",
   "execution_count": null,
   "metadata": {},
   "outputs": [],
   "source": [
    "initial_state=np.hstack([opt_ls_v,opt_amp_v])\n",
    "\n",
    "adapt_t_mala_model = AdaptiveMALA(drift=drift,log_pdf=log_pdf, state= initial_state,sigma_0=1,threshold_start_estimate=100,\n",
    "                 threshold_use_estimate=200,\n",
    "                 )\n",
    "amala_samples = adapt_t_mala_model.run_sampler(5000,10000,1)\n",
    "#amala_samples = adapt_t_mala_model.run_sampler(10,10,1)"
   ]
  },
  {
   "cell_type": "code",
   "execution_count": null,
   "metadata": {},
   "outputs": [],
   "source": [
    "np.hstack([mk.numpy() for mk in mover.kernel_params])\n"
   ]
  },
  {
   "cell_type": "code",
   "execution_count": null,
   "metadata": {},
   "outputs": [],
   "source": [
    "adapt_t_mala_model.log_proposal_value(p,adapt_t_mala_model.state)"
   ]
  },
  {
   "cell_type": "code",
   "execution_count": null,
   "metadata": {},
   "outputs": [],
   "source": [
    "adapt_t_mala_model.acceptance_ratio(p)"
   ]
  },
  {
   "cell_type": "code",
   "execution_count": null,
   "metadata": {},
   "outputs": [],
   "source": [
    "arg_exp = adapt_t_mala_model.log_pdf(p) - adapt_t_mala_model.log_pdf(adapt_t_mala_model.state) \\\n",
    "          + adapt_t_mala_model.log_proposal_value(p, adapt_t_mala_model.state) - adapt_t_mala_model.log_proposal_value(adapt_t_mala_model.state, p)\n",
    "arg_exp = arg_exp.numpy()"
   ]
  },
  {
   "cell_type": "code",
   "execution_count": null,
   "metadata": {},
   "outputs": [],
   "source": [
    "\n",
    "\n",
    "np.isfinite(arg_exp)"
   ]
  },
  {
   "cell_type": "code",
   "execution_count": null,
   "metadata": {},
   "outputs": [],
   "source": [
    "plt.plot(amala_samples[:,26])\n",
    "plt.show()"
   ]
  },
  {
   "cell_type": "code",
   "execution_count": null,
   "metadata": {},
   "outputs": [],
   "source": [
    "amala_samples.shape"
   ]
  },
  {
   "cell_type": "code",
   "execution_count": null,
   "metadata": {},
   "outputs": [],
   "source": [
    "adapt_t_mala_model.acceptance_ratio(adapt_t_mala_model.proposal_sampler())"
   ]
  },
  {
   "cell_type": "code",
   "execution_count": null,
   "metadata": {},
   "outputs": [],
   "source": [
    "adapt_t_mala_model._gamma_estimate"
   ]
  },
  {
   "cell_type": "code",
   "execution_count": null,
   "metadata": {},
   "outputs": [],
   "source": [
    "samples2 = [tf.convert_to_tensor(a[4000:,],dtype=tf.float64) for a in np.split(amala_samples,[25],axis=-1)]"
   ]
  },
  {
   "cell_type": "code",
   "execution_count": null,
   "metadata": {},
   "outputs": [],
   "source": [
    "samples2"
   ]
  },
  {
   "cell_type": "code",
   "execution_count": null,
   "metadata": {},
   "outputs": [],
   "source": [
    "mover_hmc.kernel_params"
   ]
  },
  {
   "cell_type": "code",
   "execution_count": null,
   "metadata": {},
   "outputs": [],
   "source": [
    "with tf.GradientTape() as t:\n",
    "    loss = -mover_hmc.log_posterior(*mover_hmc.kernel_params)\n",
    "    \n",
    "gradients = t.gradient(loss, mover_hmc.kernel_params)"
   ]
  },
  {
   "cell_type": "code",
   "execution_count": null,
   "metadata": {},
   "outputs": [],
   "source": [
    "np.linalg.norm(to_numpy(gradients))"
   ]
  },
  {
   "cell_type": "code",
   "execution_count": null,
   "metadata": {},
   "outputs": [],
   "source": [
    "loss"
   ]
  },
  {
   "cell_type": "code",
   "execution_count": null,
   "metadata": {},
   "outputs": [],
   "source": [
    "np.split(state,[25])"
   ]
  },
  {
   "cell_type": "code",
   "execution_count": null,
   "metadata": {},
   "outputs": [],
   "source": [
    "tf.stack([tf.expand_dims(a,-1) for a in mover_hmc.kernel_params],axis=-1)"
   ]
  },
  {
   "cell_type": "code",
   "execution_count": null,
   "metadata": {},
   "outputs": [],
   "source": []
  },
  {
   "cell_type": "code",
   "execution_count": null,
   "metadata": {},
   "outputs": [],
   "source": [
    "\n",
    "\n",
    "def build_trainable_location_scale_distribution(initial_loc, initial_scale):\n",
    "    \n",
    "    with tf.name_scope('build_trainable_location_scale_distribution'):\n",
    "        dtype = tf.float64\n",
    "        initial_loc = initial_loc * tf.ones(tf.shape(initial_scale), dtype=dtype)\n",
    "        \n",
    "        initial_scale = initial_scale * tf.ones_like(initial_loc)\n",
    "\n",
    "        loc = tf.Variable(initial_value=initial_loc, name='loc')\n",
    "      \n",
    "        \n",
    "        scale=tfp.util.DeferredTensor(tf.Variable(initial_scale, name='scale'),tf.nn.softplus)\n",
    "\n",
    "        posterior_dist = tfd.Normal(loc=loc, scale=scale)\n",
    "\n",
    "        \n",
    "        posterior_dist = tfd.Independent(posterior_dist)\n",
    "        \n",
    "    return posterior_dist\n",
    "\n",
    "\n",
    "flat_component_dists = []\n",
    "\n",
    "\n",
    "init_loc = mover_hmc.kernel_params[0]\n",
    "init_scale = tf.random.uniform(shape=mover_hmc.kernel_params[0].shape, minval=-2, maxval=2, dtype=tf.dtypes.float64)\n",
    "\n",
    "    \n",
    "flat_component_dists.append(build_trainable_location_scale_distribution(init_loc,init_scale))\n",
    "\n",
    "\n",
    "init_loc = mover_hmc.kernel_params[1]\n",
    "init_scale = tf.random.uniform(shape=mover_hmc.kernel_params[1].shape, minval=-2, maxval=2, dtype=tf.dtypes.float64)\n",
    "\n",
    "    \n",
    "flat_component_dists.append(build_trainable_location_scale_distribution(init_loc,init_scale))\n",
    "\n",
    "surrogate_posterior = tfd.JointDistributionSequential(flat_component_dists)\n",
    "\n",
    "\n",
    "\n",
    "def target_log_prob_fn(*inputs):\n",
    "    #params = []\n",
    "    #print(inputs)\n",
    "    #print('----------')\n",
    "    #params.append(mover_hmc.kernel_params[0])\n",
    "    #params.append(mover_hmc.kernel_params[1])\n",
    "    params = [tf.squeeze(a) for a in inputs]\n",
    "    loss = mover_hmc.log_posterior(*params)\n",
    "    \n",
    "    #print(loss)\n",
    "    return loss\n",
    "\n",
    "\n"
   ]
  },
  {
   "cell_type": "code",
   "execution_count": null,
   "metadata": {},
   "outputs": [],
   "source": [
    "\n",
    "\n",
    "# def build_trainable_location_scale_distribution(initial_loc, initial_scale):\n",
    "    \n",
    "#     with tf.name_scope('build_trainable_location_scale_distribution'):\n",
    "#         dtype = tf.float64\n",
    "#         initial_loc = initial_loc * tf.ones(tf.shape(initial_scale), dtype=dtype)\n",
    "        \n",
    "#         initial_scale = initial_scale * tf.ones_like(initial_loc)\n",
    "\n",
    "#         loc = tf.Variable(initial_value=initial_loc, name='loc')\n",
    "      \n",
    "        \n",
    "#         scale=tfp.util.DeferredTensor(tf.Variable(initial_scale, name='scale'),tf.nn.softplus)\n",
    "\n",
    "#         posterior_dist = tfd.MultivariateNormalTriL(loc=loc, scale_tril=scale)\n",
    "\n",
    "        \n",
    "#         posterior_dist = tfd.Independent(posterior_dist)\n",
    "        \n",
    "#     return posterior_dist\n",
    "\n",
    "\n",
    "# flat_component_dists = []\n",
    "\n",
    "\n",
    "# init_loc = mover_hmc.kernel_params[0]\n",
    "# init_scale = tf.random.uniform(shape=(mover_hmc.kernel_params[0].shape[0],mover_hmc.kernel_params[0].shape[0]), minval=-2, maxval=2, dtype=tf.dtypes.float64)\n",
    "\n",
    "    \n",
    "# flat_component_dists.append(build_trainable_location_scale_distribution(init_loc,init_scale))\n",
    "\n",
    "\n",
    "# init_loc = mover_hmc.kernel_params[1]\n",
    "# init_scale = tf.random.uniform(shape=(mover_hmc.kernel_params[1].shape[0],mover_hmc.kernel_params[1].shape[0]), minval=-2, maxval=2, dtype=tf.dtypes.float64)\n",
    "\n",
    "    \n",
    "# flat_component_dists.append(build_trainable_location_scale_distribution(init_loc,init_scale))\n",
    "\n",
    "# surrogate_posterior = tfd.JointDistributionSequential(flat_component_dists)\n",
    "\n",
    "\n",
    "\n",
    "# def target_log_prob_fn(*inputs):\n",
    "#     #params = []\n",
    "#     #print(inputs)\n",
    "#     #print('----------')\n",
    "#     #params.append(mover_hmc.kernel_params[0])\n",
    "#     #params.append(mover_hmc.kernel_params[1])\n",
    "#     params = [tf.squeeze(a) for a in inputs]\n",
    "#     loss = mover_hmc.log_posterior(*params)\n",
    "    \n",
    "#     #print(loss)\n",
    "#     return loss\n",
    "\n",
    "\n"
   ]
  },
  {
   "cell_type": "code",
   "execution_count": null,
   "metadata": {},
   "outputs": [],
   "source": [
    "surrogate_posterior.sample()"
   ]
  },
  {
   "cell_type": "code",
   "execution_count": null,
   "metadata": {},
   "outputs": [],
   "source": [
    "mover_hmc.kernel_params[0].shape[0]"
   ]
  },
  {
   "cell_type": "code",
   "execution_count": null,
   "metadata": {},
   "outputs": [],
   "source": [
    "\n",
    "\n",
    "start = time.time()\n",
    "losses = tfp.vi.fit_surrogate_posterior(\n",
    "    target_log_prob_fn, surrogate_posterior,\n",
    "    optimizer=tf.optimizers.Adam(\n",
    "        learning_rate=0.1,\n",
    "        # Decay second-moment estimates to aid optimizing scale parameters.\n",
    "        beta_2=0.9),\n",
    "    num_steps=5000)\n",
    "end = time.time()\n",
    "print(end - start)\n",
    "\n"
   ]
  },
  {
   "cell_type": "code",
   "execution_count": null,
   "metadata": {},
   "outputs": [],
   "source": [
    "sp = surrogate_posterior.sample(10000)\n",
    "sp_np = [s.numpy() for s in sp]\n",
    "\n",
    "opt_step_size = [np.std(sp,axis=0) for sp in sp_np]"
   ]
  },
  {
   "cell_type": "code",
   "execution_count": null,
   "metadata": {},
   "outputs": [],
   "source": [
    "#opt_step_size = [np.min(oss,0.1) for oss in opt_step_size]\n",
    "#opt_step_size[0][opt_step_size[0]>0.1]=0.1\n",
    "#opt_step_size[1][opt_step_size[1]>0.1]=0.1\n",
    "\n",
    "plt.plot(opt_step_size[0])\n",
    "plt.plot(opt_step_size[1])"
   ]
  },
  {
   "cell_type": "code",
   "execution_count": null,
   "metadata": {},
   "outputs": [],
   "source": [
    "5e-2**0.5"
   ]
  },
  {
   "cell_type": "code",
   "execution_count": null,
   "metadata": {},
   "outputs": [],
   "source": [
    "num_samples=1000\n",
    "burn=1000#250\n",
    "mover_hmc.num_samples = num_samples\n",
    "\n",
    "#v=0.15\n",
    "#s=1\n",
    "\n",
    "def volatility_fn(*x):\n",
    "  # Stack the input tensors together\n",
    "  #return [1. / (0.5 + 0.1 * tf.math.abs(y)) for y in x]\n",
    "    #return [1 for vv in opt_step_size]\n",
    "    return [(vv) for vv in opt_step_size]\n",
    "\n",
    "\n",
    "ss=np.float64(5)\n",
    "step_size = [ss for a in opt_step_size]\n",
    "inner_kernel = tfp.mcmc.HamiltonianMonteCarlo(target_log_prob_fn=mover_hmc.log_posterior, step_size=bb, num_leapfrog_steps=3)#max_tree_depth=4)\n",
    "#inner_kernel = tfp.mcmc.MetropolisAdjustedLangevinAlgorithm(target_log_prob_fn=mover_hmc.log_posterior,step_size=step_size,volatility_fn=volatility_fn)\n",
    "#)#, step_size=steps)#max_tree_depth=4)\n",
    "kernel = tfp.mcmc.DualAveragingStepSizeAdaptation(inner_kernel, num_adaptation_steps=int(burn * 0.8))\n",
    "start = time.time()\n",
    "\n",
    "samples, kernel_results = tfp.mcmc.sample_chain(num_results=num_samples, num_burnin_steps=burn, num_steps_between_results=0, current_state=mover_hmc.kernel_params, kernel=kernel)\n",
    "end = time.time()\n",
    "\n",
    "print(end - start)\n",
    "mover_hmc.samples_ = samples\n",
    "print(np.sum(kernel_results.inner_results.is_accepted.numpy()/num_samples))\n",
    "tfp.mcmc.effective_sample_size(samples)\n"
   ]
  },
  {
   "cell_type": "code",
   "execution_count": null,
   "metadata": {},
   "outputs": [],
   "source": [
    "print(end - start)\n",
    "mover_hmc.samples_ = samples\n",
    "print(np.sum(kernel_results.inner_results.is_accepted.numpy()/num_samples))\n",
    "tfp.mcmc.effective_sample_size(samples)"
   ]
  },
  {
   "cell_type": "code",
   "execution_count": null,
   "metadata": {},
   "outputs": [],
   "source": [
    "kernel_results.inner_results.is_accepted"
   ]
  },
  {
   "cell_type": "code",
   "execution_count": null,
   "metadata": {},
   "outputs": [],
   "source": [
    "samples2[0]"
   ]
  },
  {
   "cell_type": "code",
   "execution_count": null,
   "metadata": {},
   "outputs": [],
   "source": [
    "#print((end - start)/60)\n",
    "mover_hmc.num_samples = 500\n",
    "mover_hmc.samples_ = samples2\n",
    "#print(np.sum(kernel_results.is_accepted.numpy()/num_samples))\n",
    "tfp.mcmc.effective_sample_size(samples2)"
   ]
  },
  {
   "cell_type": "code",
   "execution_count": null,
   "metadata": {},
   "outputs": [],
   "source": [
    "print((end - start)/60)\n",
    "mover_hmc.num_samples = 2000\n",
    "mover_hmc.samples_ = samples2\n",
    "print(np.sum(kernel_results.is_accepted.numpy()/num_samples))\n",
    "tfp.mcmc.effective_sample_size(samples2)"
   ]
  },
  {
   "cell_type": "code",
   "execution_count": null,
   "metadata": {},
   "outputs": [],
   "source": [
    "50*676/60/60"
   ]
  },
  {
   "cell_type": "code",
   "execution_count": null,
   "metadata": {},
   "outputs": [],
   "source": [
    "plt.plot(samples2[0][:,])\n",
    "plt.show()\n",
    "plt.plot(samples2[0][:,0])\n",
    "plt.show()"
   ]
  },
  {
   "cell_type": "code",
   "execution_count": 24,
   "metadata": {},
   "outputs": [
    {
     "data": {
      "image/png": "[encoded data removed]",
      "text/plain": [
       "<Figure size 720x432 with 1 Axes>"
      ]
     },
     "metadata": {
      "needs_background": "light"
     },
     "output_type": "display_data"
    },
    {
     "data": {
      "image/png": "[encoded data removed]",
      "text/plain": [
       "<Figure size 720x432 with 1 Axes>"
      ]
     },
     "metadata": {
      "needs_background": "light"
     },
     "output_type": "display_data"
    }
   ],
   "source": [
    "\n",
    "lengths =(mover.get_lengthscale_samples(X=Zin))\n",
    "amps = (mover.get_amplitude_samples(X=Zin))\n",
    "#  plot the sample for checking\n",
    "plt.figure(figsize=(10,6))\n",
    "Z_time=np.array([np.datetime64('2019') + np.timedelta64(int(k*60*60), 's') for k in Zin])\n",
    "\n",
    "for i in range(0,lengths.shape[0]):\n",
    "    plt.plot(Z_time[np.argsort(Z_time)],lengths[i,np.argsort(Z_time)],c='C1',alpha=0.02,linewidth=1.0)\n",
    "\n",
    "ax = plt.gca()\n",
    "ax.xaxis_date()\n",
    "ax.xaxis.set_major_formatter(myFmt)\n",
    "plt.figure(figsize=(10,6))\n",
    "\n",
    "for i in range(0,amps.shape[0]):\n",
    "    plt.plot(Z_time[np.argsort(Z_time)],amps[i,np.argsort(Z_time)],c='C1', alpha=0.02,linewidth=1.0)\n",
    "ax = plt.gca()\n",
    "ax.xaxis_date()\n",
    "ax.xaxis.set_major_formatter(myFmt)"
   ]
  },
  {
   "cell_type": "code",
   "execution_count": null,
   "metadata": {},
   "outputs": [],
   "source": [
    "batch_sz=10\n",
    "ls_function = np.zeros((mover.num_samples,np.shape(mover.Z_.numpy())[0],1))\n",
    "\n",
    "for i in range(0,mover.num_samples,batch_sz):\n",
    "\n",
    "    ls_latents_sample = mover.samples_[mover.l_start][i:i+batch_sz]\n",
    "    ls_params = []\n",
    "    for j in range(len(mover.ltransforms)):\n",
    "        ls_params.append(mover.samples_[mover.l_start+1+j][i:i+batch_sz,0])\n",
    "\n",
    "    ls_function[i:i+batch_sz] = mover.get_lengthscale_batch(ls_latents_sample, ls_params)"
   ]
  },
  {
   "cell_type": "code",
   "execution_count": null,
   "metadata": {},
   "outputs": [],
   "source": [
    "ls_params"
   ]
  },
  {
   "cell_type": "code",
   "execution_count": null,
   "metadata": {},
   "outputs": [],
   "source": [
    "\n",
    "kernel_batches = mover.lkernel(*[tf.cast(t(p),tf.float64) for t,p in zip(mover.ltransforms, ls_params)])\n",
    "K_batch = kernel_batches.matrix(mover.Z_,mover.Z_)\n",
    "L_batch = tf.linalg.cholesky(K_batch + tf.eye(tf.shape(input=mover.Z_)[0], dtype=tf.float64) * mover.jitter_level)\n",
    "f_batch =  tf.matmul(tf.cast(L_batch,tf.float64), tf.expand_dims(tf.cast(ls_latents_sample,tf.float64),-1))\n",
    "# if X is not None:\n",
    "#     f_batch = tf.expand_dims(tfd.GaussianProcessRegressionModel(kernel = kernel_batches,\n",
    "#                                                                 mean_fn = lambda _: tf.reduce_mean(f_batch),\n",
    "#                                                                 index_points = X,  \n",
    "#                                                                 observations = f_batch[...,0], \n",
    "#                                                                 observation_index_points=mover.Z_).mean(),-1)\n",
    "\n",
    "f_batch = tf.math.exp(f_batch)# + tf.expand_dims(tf.expand_dims(tf.cast(ls_mean_sample,tf.float64),-1),-1))\n",
    "    \n"
   ]
  },
  {
   "cell_type": "code",
   "execution_count": null,
   "metadata": {},
   "outputs": [],
   "source": [
    "tf.matmul(tf.squeeze(tf.cast(L_batch,tf.float64)), tf.expand_dims(tf.cast(ls_latents_sample,tf.float64),-1))"
   ]
  },
  {
   "cell_type": "code",
   "execution_count": null,
   "metadata": {},
   "outputs": [],
   "source": [
    "tf.matmul(tf.cast(L_batch,tf.float64), tf.expand_dims(tf.cast(ls_latents_sample,tf.float64),-1))"
   ]
  },
  {
   "cell_type": "code",
   "execution_count": null,
   "metadata": {},
   "outputs": [],
   "source": [
    "ess=tfp.mcmc.effective_sample_size(samples)\n",
    "plt.plot(mover_hmc.kernel_params[0].numpy(),ess[0],'.')\n",
    "plt.ylim(0,20)"
   ]
  },
  {
   "cell_type": "code",
   "execution_count": 25,
   "metadata": {},
   "outputs": [
    {
     "name": "stdout",
     "output_type": "stream",
     "text": [
      "tf.Tensor(\n",
      "[[20.674095]\n",
      " [19.737753]\n",
      " [19.273901]\n",
      " [20.348425]\n",
      " [24.591201]\n",
      " [31.988383]\n",
      " [34.753674]\n",
      " [31.313986]\n",
      " [26.400472]\n",
      " [20.811858]\n",
      " [16.201991]\n",
      " [13.5125  ]\n",
      " [10.957685]\n",
      " [ 5.781815]\n",
      " [15.712603]\n",
      " [12.199116]\n",
      " [ 6.833402]\n",
      " [19.624745]\n",
      " [26.800699]\n",
      " [10.160473]\n",
      " [17.643842]\n",
      " [34.628986]\n",
      " [ 7.568584]\n",
      " [14.789849]\n",
      " [20.183788]], shape=(25, 1), dtype=float64)\n",
      "tf.Tensor(\n",
      "[[ 5.342908]\n",
      " [ 7.427637]\n",
      " [ 6.530282]\n",
      " [ 4.157907]\n",
      " [ 3.679837]\n",
      " [ 3.666985]\n",
      " [ 3.748772]\n",
      " [ 3.814841]\n",
      " [ 3.888242]\n",
      " [ 4.007382]\n",
      " [ 4.19593 ]\n",
      " [ 4.403672]\n",
      " [ 4.774092]\n",
      " [19.172334]\n",
      " [ 5.494397]\n",
      " [27.833945]\n",
      " [14.200336]\n",
      " [20.588473]\n",
      " [24.180489]\n",
      " [16.91506 ]\n",
      " [78.580138]\n",
      " [20.088612]\n",
      " [42.863366]\n",
      " [10.369039]\n",
      " [ 7.606518]], shape=(25, 1), dtype=float64)\n"
     ]
    }
   ],
   "source": [
    "\n",
    "lengths =(mover.get_lengthscale_samples())\n",
    "amps = (mover.get_amplitude_samples())\n",
    "\n",
    "print(tfp.mcmc.effective_sample_size(lengths))\n",
    "print(tfp.mcmc.effective_sample_size(amps))"
   ]
  },
  {
   "cell_type": "code",
   "execution_count": null,
   "metadata": {},
   "outputs": [],
   "source": [
    "## compare full covar to this"
   ]
  },
  {
   "cell_type": "code",
   "execution_count": null,
   "metadata": {},
   "outputs": [],
   "source": [
    "\n",
    "lengths =(mover_hmc.get_lengthscale_samples())\n",
    "amps = (mover_hmc.get_amplitude_samples())\n",
    "\n",
    "print(tfp.mcmc.effective_sample_size(lengths))\n",
    "print(tfp.mcmc.effective_sample_size(amps))"
   ]
  },
  {
   "cell_type": "code",
   "execution_count": null,
   "metadata": {},
   "outputs": [],
   "source": [
    "aa = [np.std(s.numpy()[:,:],axis=0) for s in samples]\n",
    "#bb = [np.std(s.numpy()[:,:],axis=0) for s in samples]\n",
    "\n",
    "# opt_step=[]\n",
    "# for a in aa:\n",
    "#     opt_step.append(1e-3*a)\n",
    "# opt_step\n",
    "#plt.plot(aa[1])\n",
    "plt.plot(bb[0])#/np.max(bb[1]))\n",
    "plt.plot(aa[0])#/np.max(bb[1]))\n",
    "\n",
    "plt.plot(opt_step_size[0]/np.max(opt_step_size[0]),'.')\n",
    "#plt.ylim(0,0.1)"
   ]
  },
  {
   "cell_type": "code",
   "execution_count": null,
   "metadata": {},
   "outputs": [],
   "source": [
    "num_samples=600\n",
    "burn=0#250\n",
    "mover_hmc.num_samples = num_samples\n",
    "\n",
    "#v=0.15\n",
    "#s=1\n",
    "\n",
    "def volatility_fn(*x):\n",
    "  # Stack the input tensors together\n",
    "  #return [1. / (0.5 + 0.1 * tf.math.abs(y)) for y in x]\n",
    "    #return [1 for vv in opt_step_size]\n",
    "    return [(vv) for vv in bb]\n",
    "\n",
    "\n",
    "ss=np.float64(5e-3)\n",
    "step_size = [ss for a in opt_step_size]\n",
    "#inner_kernel = tfp.mcmc.HamiltonianMonteCarlo(target_log_prob_fn=mover_hmc.log_posterior, step_size=steps, num_leapfrog_steps=10)#max_tree_depth=4)\n",
    "inner_kernel = tfp.mcmc.MetropolisAdjustedLangevinAlgorithm(target_log_prob_fn=mover_hmc.log_posterior,step_size=step_size,volatility_fn=volatility_fn)\n",
    "#)#, step_size=steps)#max_tree_depth=4)\n",
    "kernel = tfp.mcmc.DualAveragingStepSizeAdaptation(inner_kernel, num_adaptation_steps=int(burn * 0.8))\n",
    "start = time.time()\n",
    "\n",
    "samples, kernel_results = tfp.mcmc.sample_chain(num_results=num_samples, num_burnin_steps=burn, num_steps_between_results=100, current_state=mover_hmc.kernel_params, kernel=inner_kernel)\n",
    "end = time.time()\n",
    "\n",
    "print(end - start)\n",
    "mover_hmc.samples_ = samples\n",
    "print(np.sum(kernel_results.is_accepted.numpy()/num_samples))\n",
    "tfp.mcmc.effective_sample_size(samples)\n"
   ]
  },
  {
   "cell_type": "code",
   "execution_count": null,
   "metadata": {},
   "outputs": [],
   "source": [
    "plt.plot(samples[0][:,])\n",
    "plt.show()\n",
    "plt.plot(samples[0][:,3])\n",
    "plt.show()"
   ]
  },
  {
   "cell_type": "code",
   "execution_count": null,
   "metadata": {},
   "outputs": [],
   "source": []
  },
  {
   "cell_type": "code",
   "execution_count": null,
   "metadata": {},
   "outputs": [],
   "source": []
  },
  {
   "cell_type": "code",
   "execution_count": null,
   "metadata": {},
   "outputs": [],
   "source": []
  },
  {
   "cell_type": "code",
   "execution_count": null,
   "metadata": {},
   "outputs": [],
   "source": []
  },
  {
   "cell_type": "code",
   "execution_count": null,
   "metadata": {},
   "outputs": [],
   "source": []
  },
  {
   "cell_type": "code",
   "execution_count": null,
   "metadata": {},
   "outputs": [],
   "source": []
  },
  {
   "cell_type": "code",
   "execution_count": null,
   "metadata": {},
   "outputs": [],
   "source": [
    "gradients"
   ]
  },
  {
   "cell_type": "code",
   "execution_count": null,
   "metadata": {},
   "outputs": [],
   "source": [
    "plt.plot(loss_history[800:])"
   ]
  },
  {
   "cell_type": "code",
   "execution_count": null,
   "metadata": {},
   "outputs": [],
   "source": [
    "lengths = mover_hmc.get_lengthscale()\n",
    "plt.plot(Z,lengths,'o',c='b')\n",
    "Zin = np.linspace(0,24,num=500,endpoint=False).astype(np.float64)[:,None]\n",
    "\n",
    "lengths = mover_hmc.get_lengthscale(X=Zin)\n",
    "plt.plot(Zin,lengths)\n",
    "plt.show()\n",
    "\n",
    "amps = mover_hmc.get_amplitude()\n",
    "plt.plot(Z,amps,'o',c='b')\n",
    "Zin = np.linspace(0,24,num=500,endpoint=False).astype(np.float64)[:,None]\n",
    "amps = mover_hmc.get_amplitude(X=Zin)\n",
    "plt.plot(Zin,amps)\n",
    "plt.show()\n"
   ]
  },
  {
   "cell_type": "code",
   "execution_count": null,
   "metadata": {},
   "outputs": [],
   "source": [
    "opt_step = []\n",
    "ss=1e-6\n",
    "for var in optimizer.variables():\n",
    "    #print(var)\n",
    "    if '/m:' in var.name:\n",
    "        opt_step.append(ss*(np.sqrt(np.abs((var.numpy()))))**-1)\n",
    "        \n",
    "        \n",
    "plt.plot(opt_step[2][0:],'.')\n",
    "#plt.show()\n",
    "plt.plot(opt_step[6][0:],'.')\n",
    "plt.show()\n",
    "#plt.ylim(-0.5,1)\n",
    "#plt.show()\n",
    "\n",
    "for o in opt_step:\n",
    "    print(o)"
   ]
  },
  {
   "cell_type": "code",
   "execution_count": null,
   "metadata": {},
   "outputs": [],
   "source": [
    "amp_params = [kernel_params[i] for i in range(mover_hmc.a_start+2,mover_hmc.m_start)]\n",
    "\n",
    "\n",
    "K_amp = mover_hmc.akernel(*[t(p) for t,p in zip(mover_hmc.atransforms, amp_params)])\n",
    "L_amp = tf.linalg.cholesky(K_amp.matrix(mover_hmc.Z_,mover_hmc.Z_) + tf.eye(tf.shape(input=mover_hmc.Z_)[0], dtype=tf.float64) * mover_hmc.jitter_level)\n",
    "amp_dist = tfd.MultivariateNormalTriL(scale_tril=L_amp)\n",
    "\n",
    "\n",
    "ls_params = [kernel_params[i] for i in range(mover_hmc.l_start+2,mover_hmc.a_start)]\n",
    "\n",
    "K_ls = mover_hmc.lkernel(*[t(p) for t,p in zip(mover_hmc.ltransforms, ls_params)])\n",
    "L_ls = tf.linalg.cholesky(K_ls.matrix(mover_hmc.Z_,mover_hmc.Z_) + tf.eye(tf.shape(input=mover_hmc.Z_)[0], dtype=tf.float64) * mover_hmc.jitter_level)\n",
    "\n",
    "ls_dist = tfd.MultivariateNormalTriL(scale_tril=L_ls)"
   ]
  },
  {
   "cell_type": "code",
   "execution_count": null,
   "metadata": {},
   "outputs": [],
   "source": [
    "print(opt_amp_amp)\n",
    "print(opt_ls_amp)"
   ]
  },
  {
   "cell_type": "code",
   "execution_count": null,
   "metadata": {},
   "outputs": [],
   "source": [
    "ss=1e-2\n",
    "ss_l = ss/opt_ls_amp\n",
    "ss_amp = ss/opt_amp_amp\n",
    "\n",
    "def _fn(state_parts, seed):\n",
    "    \n",
    "    next_state_parts = []\n",
    "    for j, param in enumerate(state_parts):\n",
    "        if j==1:\n",
    "            next_state_parts.append(state_parts[j] + 2*ss_l*ls_dist.sample())# + 1e-1*gradients[j])\n",
    "        elif j==3:\n",
    "            next_state_parts.append(state_parts[j] + ss_amp*amp_dist.sample())\n",
    "        else:\n",
    "            next_state_parts.append(state_parts[j])\n",
    "\n",
    "    return next_state_parts\n",
    "\n",
    "\n",
    "num_samples=10#00#500\n",
    "burn=0\n",
    "mover_hmc.num_samples = num_samples\n",
    "#skip100,nsamp1000 - gives min ess of 8 looks like with burn in would be ok\n",
    "\n",
    "kernel = tfp.mcmc.RandomWalkMetropolis(target_log_prob_fn=mover_hmc.log_posterior, new_state_fn=_fn)\n",
    "\n",
    "start = time.time()\n",
    "\n",
    "samples, kernel_results = tfp.mcmc.sample_chain(num_results=num_samples, num_burnin_steps=burn, num_steps_between_results=1, current_state=mover_hmc.kernel_params, kernel=kernel)\n",
    "end = time.time()\n",
    "print(end - start)\n",
    "mover_hmc.samples_ = samples\n",
    "print(np.sum(kernel_results.is_accepted.numpy()/num_samples))"
   ]
  },
  {
   "cell_type": "code",
   "execution_count": null,
   "metadata": {},
   "outputs": [],
   "source": [
    "10000*5619/60/60/2000\n",
    "print((end - start)/60/60)\n",
    "print(np.sum(kernel_results.is_accepted.numpy()/num_samples))"
   ]
  },
  {
   "cell_type": "code",
   "execution_count": null,
   "metadata": {},
   "outputs": [],
   "source": [
    "lengths = mover_hmc.get_lengthscale_samples(X=Zin)\n",
    "amps = mover_hmc.get_amplitude_samples(X=Zin)\n",
    "#  plot the sample for checking\n",
    "plt.figure(figsize=(10,6))\n",
    "Z_time=np.array([np.datetime64('2019') + np.timedelta64(int(k*60*60), 's') for k in Zin])\n",
    "\n",
    "for i in range(800,lengths.shape[0]):\n",
    "    plt.plot(Z_time[np.argsort(Z_time)],lengths[i,np.argsort(Z_time)],c='C1',alpha=0.02,linewidth=1.0)\n",
    "\n",
    "ax = plt.gca()\n",
    "ax.xaxis_date()\n",
    "ax.xaxis.set_major_formatter(myFmt)\n",
    "plt.figure(figsize=(10,6))\n",
    "\n",
    "for i in range(800,amps.shape[0]):\n",
    "    plt.plot(Z_time[np.argsort(Z_time)],amps[i,np.argsort(Z_time)],c='C1', alpha=0.02,linewidth=1.0)\n",
    "ax = plt.gca()\n",
    "ax.xaxis_date()\n",
    "ax.xaxis.set_major_formatter(myFmt)"
   ]
  },
  {
   "cell_type": "code",
   "execution_count": null,
   "metadata": {},
   "outputs": [],
   "source": [
    "tfp.mcmc.effective_sample_size(samples[1][800:])"
   ]
  },
  {
   "cell_type": "code",
   "execution_count": null,
   "metadata": {},
   "outputs": [],
   "source": [
    "plt.plot(samples[1][:,:])"
   ]
  },
  {
   "cell_type": "code",
   "execution_count": null,
   "metadata": {},
   "outputs": [],
   "source": [
    "lengths = mover_hmc.get_lengthscale_samples()\n"
   ]
  },
  {
   "cell_type": "code",
   "execution_count": null,
   "metadata": {},
   "outputs": [],
   "source": [
    "num_samples=1000#000#00#00#0#500\n",
    "burn=1#1000#000#5#0\n",
    "mover_hmc.num_samples = num_samples\n",
    "steps = []\n",
    "\n",
    "#ss = opt_step#np.float64(1e-5)\n",
    "def volatility_fn(*x):\n",
    "  # Stack the input tensors together\n",
    "  #return [1. / (0.5 + 0.1 * tf.math.abs(y)) for y in x]\n",
    "    \n",
    "    vol = []\n",
    "    for i in range(len(x)):\n",
    "        if i==1:\n",
    "            vol.append(1e-2*tf.eye(tf.shape(x[i])[0],dtype=tf.float64))\n",
    "        else:\n",
    "            vol.append(1e-2)\n",
    "    return vol\n",
    "\n",
    "\n",
    "vol = volatility_fn(*mover_hmc.kernel_params)"
   ]
  },
  {
   "cell_type": "code",
   "execution_count": null,
   "metadata": {},
   "outputs": [],
   "source": [
    "\n",
    "ss=np.float64(1e-2)\n",
    "steps=[]\n",
    "for i in range(len(mover_hmc.kernel_params)):\n",
    "    if i==1:\n",
    "        steps.append(ss*tf.ones((tf.shape(mover_hmc.kernel_params[i])[0],1),dtype=tf.float64))\n",
    "    else:\n",
    "        steps.append(ss)\n",
    "#inner_kernel = tfp.mcmc.HamiltonianMonteCarlo(target_log_prob_fn=mover_hmc.log_posterior, step_size=steps, num_leapfrog_steps=10)#max_tree_depth=4)\n",
    "inner_kernel = tfp.mcmc.MetropolisAdjustedLangevinAlgorithm(target_log_prob_fn=mover_hmc.log_posterior,step_size=steps,volatility_fn=volatility_fn)\n",
    "#)#, step_size=steps)#max_tree_depth=4)\n",
    "kernel = tfp.mcmc.DualAveragingStepSizeAdaptation(inner_kernel, num_adaptation_steps=int(burn * 0.8))\n",
    "start = time.time()\n",
    "\n",
    "samples, kernel_results = tfp.mcmc.sample_chain(num_results=num_samples, num_burnin_steps=burn, num_steps_between_results=0, current_state=mover_hmc.kernel_params, kernel=inner_kernel)\n",
    "end = time.time()\n",
    "print(end - start)\n",
    "mover_hmc.samples_ = samples\n",
    "print(np.sum(kernel_results.is_accepted.numpy()/num_samples))\n",
    "tfp.mcmc.effective_sample_size(samples)"
   ]
  },
  {
   "cell_type": "code",
   "execution_count": null,
   "metadata": {},
   "outputs": [],
   "source": [
    "ss=np.float64(1e-2)\n",
    "steps=[]\n",
    "for i in range(len(mover_hmc.kernel_params)):\n",
    "    if i==1:\n",
    "        steps.append(ss*tf.ones((tf.shape(mover_hmc.kernel_params[i])[0],1),dtype=tf.float64))\n",
    "    else:\n",
    "        steps.append(ss)\n",
    "\n",
    "tf.matmul(vol[1],steps[1])"
   ]
  },
  {
   "cell_type": "code",
   "execution_count": null,
   "metadata": {},
   "outputs": [],
   "source": [
    "# sample from the posterior\n",
    "start = time.time()\n",
    "num_samples=5000\n",
    "burn_in=2000\n",
    "kr = mover.hmc_sample(num_samples=num_samples, skip=0, burn_in=burn_in, num_leapfrog_steps=10, init_step=opt_step)\n",
    "end = time.time()\n",
    "print(end - start)\n",
    "print(np.sum(kr.inner_results.is_accepted.numpy()/num_samples))\n"
   ]
  },
  {
   "cell_type": "code",
   "execution_count": null,
   "metadata": {},
   "outputs": [],
   "source": [
    "7000*1121/60/60/200"
   ]
  },
  {
   "cell_type": "code",
   "execution_count": null,
   "metadata": {},
   "outputs": [],
   "source": [
    "#lengths = mover_hmc.samples_[1]\n",
    "\n",
    "for i in range(0,lengths.shape[0]):\n",
    "    plt.plot(Z,lengths[i,:],c='C1',alpha=0.02,linewidth=1.0)"
   ]
  },
  {
   "cell_type": "code",
   "execution_count": null,
   "metadata": {},
   "outputs": [],
   "source": [
    "\n",
    "lengths = mover.get_lengthscale_samples(X=Zin)\n",
    "amps = mover.get_amplitude_samples(X=Zin)\n",
    "#  plot the sample for checking\n",
    "plt.figure(figsize=(10,6))\n",
    "Z_time=np.array([np.datetime64('2019') + np.timedelta64(int(k*60*60), 's') for k in Zin])\n",
    "\n",
    "for i in range(0,lengths.shape[0]):\n",
    "    plt.plot(Z_time[np.argsort(Z_time)],lengths[i,np.argsort(Z_time)],c='C1',alpha=0.02,linewidth=1.0)\n",
    "\n",
    "ax = plt.gca()\n",
    "ax.xaxis_date()\n",
    "ax.xaxis.set_major_formatter(myFmt)\n",
    "plt.figure(figsize=(10,6))\n",
    "\n",
    "for i in range(0,amps.shape[0]):\n",
    "    plt.plot(Z_time[np.argsort(Z_time)],amps[i,np.argsort(Z_time)],c='C1', alpha=0.02,linewidth=1.0)\n",
    "ax = plt.gca()\n",
    "ax.xaxis_date()\n",
    "ax.xaxis.set_major_formatter(myFmt)"
   ]
  },
  {
   "cell_type": "code",
   "execution_count": null,
   "metadata": {},
   "outputs": [],
   "source": [
    "np.shape(mover.Z_.numpy())"
   ]
  },
  {
   "cell_type": "code",
   "execution_count": null,
   "metadata": {},
   "outputs": [],
   "source": [
    "lengths = mover.get_lengthscale_samples()\n",
    "tfp.mcmc.effective_sample_size(lengths)#[1].numpy()[39]"
   ]
  },
  {
   "cell_type": "code",
   "execution_count": null,
   "metadata": {},
   "outputs": [],
   "source": [
    "\n",
    "step_size = []\n",
    "for s in mover.samples_:\n",
    "    \n",
    "    step_size.append(np.std(s,axis=0))"
   ]
  },
  {
   "cell_type": "code",
   "execution_count": null,
   "metadata": {},
   "outputs": [],
   "source": [
    "for s in step_size: print(s)"
   ]
  },
  {
   "cell_type": "code",
   "execution_count": null,
   "metadata": {},
   "outputs": [],
   "source": [
    "# sample from the posterior\n",
    "start = time.time()\n",
    "num_samples=1000\n",
    "burn_in=600\n",
    "kr = mover.hmc_sample(num_samples=num_samples, skip=0, burn_in=burn_in, num_leapfrog_steps=10, init_step=step_size)\n",
    "end = time.time()\n",
    "print(end - start)\n",
    "print(np.sum(kr.inner_results.is_accepted.numpy()/num_samples))\n"
   ]
  },
  {
   "cell_type": "code",
   "execution_count": null,
   "metadata": {},
   "outputs": [],
   "source": [
    "\n",
    "lengths = mover.get_lengthscale_samples()\n",
    "amps = mover.get_amplitude_samples()\n",
    "#  plot the sample for checking\n",
    "plt.figure(figsize=(10,6))\n",
    "Z_time=np.array([np.datetime64('2019') + np.timedelta64(int(k*60*60), 's') for k in Z])\n",
    "\n",
    "for i in range(0,lengths.shape[0]):\n",
    "    plt.plot(Z_time[np.argsort(Z_time)],lengths[i,np.argsort(Z_time)],c='C1',alpha=0.902,linewidth=1.0)\n",
    "\n",
    "ax = plt.gca()\n",
    "ax.xaxis_date()\n",
    "ax.xaxis.set_major_formatter(myFmt)\n",
    "plt.figure(figsize=(10,6))\n",
    "\n",
    "for i in range(0,amps.shape[0]):\n",
    "    plt.plot(Z_time[np.argsort(Z_time)],amps[i,np.argsort(Z_time)],c='C1', alpha=0.902,linewidth=1.0)\n",
    "ax = plt.gca()\n",
    "ax.xaxis_date()\n",
    "ax.xaxis.set_major_formatter(myFmt)"
   ]
  },
  {
   "cell_type": "code",
   "execution_count": null,
   "metadata": {},
   "outputs": [],
   "source": [
    "aa=tfp.mcmc.effective_sample_size(mover.samples_)#[1].numpy()[39]\n",
    "\n",
    "plt.plot(aa[1],step_size[1],'.')\n",
    "tfp.mcmc.effective_sample_size(mover.samples_)"
   ]
  },
  {
   "cell_type": "code",
   "execution_count": null,
   "metadata": {},
   "outputs": [],
   "source": [
    "plt.plot(mover.samples_[2][:,].numpy())\n",
    "plt.show()"
   ]
  },
  {
   "cell_type": "code",
   "execution_count": null,
   "metadata": {},
   "outputs": [],
   "source": [
    "kr.new_step_size[1][0,39]"
   ]
  },
  {
   "cell_type": "code",
   "execution_count": null,
   "metadata": {},
   "outputs": [],
   "source": [
    "\n",
    "opt_step = []\n",
    "for var in optimizer.variables():\n",
    "    if '/v:' in var.name:\n",
    "        opt_step.append((np.sqrt((var.numpy())))**-1)\n",
    "        \n",
    "        \n",
    "plt.plot(opt_step[1][0:],'.')\n",
    "#plt.show()\n",
    "plt.plot(opt_step[4][0:],'.')\n",
    "plt.show()\n",
    "#plt.ylim(-0.5,1)\n",
    "#plt.show()\n",
    "\n",
    "for o in opt_step:\n",
    "    print(o)"
   ]
  },
  {
   "cell_type": "code",
   "execution_count": null,
   "metadata": {},
   "outputs": [],
   "source": [
    "plt.plot(loss_history[200:])\n",
    "plt.show()\n",
    "loss.numpy()"
   ]
  },
  {
   "cell_type": "code",
   "execution_count": null,
   "metadata": {},
   "outputs": [],
   "source": [
    "1600*942/40/60/60\n"
   ]
  },
  {
   "cell_type": "code",
   "execution_count": null,
   "metadata": {},
   "outputs": [],
   "source": [
    "np.exp(mover.kernel_params[mover.l_start].numpy())"
   ]
  },
  {
   "cell_type": "code",
   "execution_count": null,
   "metadata": {},
   "outputs": [],
   "source": [
    "plt.plot(Z,(mover.kernel_params[2]).numpy(),'-o')\n",
    "#plt.ylim(0,0.5)\n",
    "plt.show()\n",
    "plt.plot(Z,(mover.kernel_params[6]).numpy(),'-o')\n",
    "plt.show()\n",
    "#6"
   ]
  },
  {
   "cell_type": "code",
   "execution_count": null,
   "metadata": {},
   "outputs": [],
   "source": [
    "\n",
    "\n",
    "opt_step = []\n",
    "for var in optimizer.variables():\n",
    "    if '/v:' in var.name:\n",
    "        opt_step.append((np.sqrt((var.numpy()))+1e-16)**-1)\n",
    "        \n",
    "        \n",
    "plt.plot(opt_step[3][0:25],'.')\n",
    "#plt.plot(opt_step[6][0:25],'.')\n",
    "#plt.ylim(-0.5,1)\n",
    "#plt.show()\n",
    "\n",
    "for o in opt_step:\n",
    "    print(o.dtype)"
   ]
  },
  {
   "cell_type": "code",
   "execution_count": null,
   "metadata": {},
   "outputs": [],
   "source": [
    "optimizer.variables()"
   ]
  },
  {
   "cell_type": "code",
   "execution_count": null,
   "metadata": {},
   "outputs": [],
   "source": [
    "for i in range(len(opt_step)):\n",
    "    o=opt_step[i]\n",
    "    if len(o.shape):\n",
    "        o[o>1]=1\n",
    "    opt_step[i]=o#opt_step[i]*0+1e-2\n",
    "    print(opt_step[i])"
   ]
  },
  {
   "cell_type": "code",
   "execution_count": null,
   "metadata": {},
   "outputs": [],
   "source": [
    "for j, param in enumerate(mover.kernel_params):\n",
    "    print(j,(param.numpy()),param.shape)"
   ]
  },
  {
   "cell_type": "code",
   "execution_count": null,
   "metadata": {},
   "outputs": [],
   "source": [
    "tf.math.exp(-1.5)"
   ]
  },
  {
   "cell_type": "code",
   "execution_count": null,
   "metadata": {},
   "outputs": [],
   "source": [
    "\n",
    "# with open('opt_step.npy', 'wb') as fp:\n",
    "#     pickle.dump(opt_step, fp)"
   ]
  },
  {
   "cell_type": "code",
   "execution_count": null,
   "metadata": {},
   "outputs": [],
   "source": [
    "\n",
    "    \n",
    "# with open ('opt_step.npy', 'rb') as fp:\n",
    "#     opt_step = pickle.load(fp)\n",
    "#mover.log_posterior(*mover.kernel_params)\n"
   ]
  },
  {
   "cell_type": "code",
   "execution_count": null,
   "metadata": {},
   "outputs": [],
   "source": [
    "opt_ls_mean"
   ]
  },
  {
   "cell_type": "code",
   "execution_count": null,
   "metadata": {},
   "outputs": [],
   "source": [
    "mover.log_posterior(*mover.kernel_params)\n"
   ]
  },
  {
   "cell_type": "code",
   "execution_count": null,
   "metadata": {},
   "outputs": [],
   "source": [
    "\n",
    "\n"
   ]
  },
  {
   "cell_type": "code",
   "execution_count": null,
   "metadata": {},
   "outputs": [],
   "source": [
    "mover_hmc.kernel_params.log_posterior(*mover_hmc.kernel_params)"
   ]
  },
  {
   "cell_type": "code",
   "execution_count": null,
   "metadata": {},
   "outputs": [],
   "source": [
    "# lengths = mover_hmc.get_lengthscale()\n",
    "# plt.plot(Z,lengths,'o',c='b')\n",
    "# Zin = np.linspace(0,24,num=500,endpoint=False).astype(np.float64)[:,None]\n",
    "\n",
    "# lengths = mover_hmc.get_lengthscale(X=Zin)\n",
    "# plt.plot(Zin,lengths)\n",
    "# plt.show()\n",
    "\n",
    "amps = mover_hmc.get_amplitude()\n",
    "plt.plot(Z,amps,'o',c='b')\n",
    "Zin = np.linspace(0,24,num=500,endpoint=False).astype(np.float64)[:,None]\n",
    "amps = mover_hmc.get_amplitude(X=Zin)\n",
    "plt.plot(Zin,amps)\n",
    "plt.show()\n",
    "\n"
   ]
  },
  {
   "cell_type": "code",
   "execution_count": null,
   "metadata": {},
   "outputs": [],
   "source": [
    "num_samples=2000#0#500\n",
    "burn=0#5#0\n",
    "mover_hmc.num_samples = num_samples\n",
    "steps = []\n",
    "\n",
    "ss = np.float64(1e-5)\n",
    "def volatility_fn(*x):\n",
    "  # Stack the input tensors together\n",
    "  #return [1. / (0.5 + 0.1 * tf.math.abs(y)) for y in x]\n",
    "  return [1. for y in x]\n",
    "\n",
    "for j, param in enumerate(mover_hmc.kernel_params):\n",
    "    if j==1:\n",
    "        steps.append(ss)\n",
    "    elif j==3:\n",
    "        steps.append(ss)\n",
    "    else:\n",
    "        steps.append(ss)\n",
    "#inner_kernel = tfp.mcmc.HamiltonianMonteCarlo(target_log_prob_fn=mover_hmc.log_posterior, step_size=steps, num_leapfrog_steps=10)#max_tree_depth=4)\n",
    "inner_kernel = tfp.mcmc.MetropolisAdjustedLangevinAlgorithm(target_log_prob_fn=mover_hmc.log_posterior,step_size=ss,volatility_fn=volatility_fn)\n",
    "#)#, step_size=steps)#max_tree_depth=4)\n",
    "kernel = tfp.mcmc.DualAveragingStepSizeAdaptation(inner_kernel, num_adaptation_steps=int(burn * 0.8))\n",
    "start = time.time()\n",
    "\n",
    "samples, kernel_results = tfp.mcmc.sample_chain(num_results=num_samples, num_burnin_steps=burn, num_steps_between_results=0, current_state=mover_hmc.kernel_params, kernel=inner_kernel)\n",
    "end = time.time()\n",
    "print(end - start)\n",
    "mover_hmc.samples_ = samples\n",
    "print(np.sum(kernel_results.is_accepted.numpy()/num_samples))\n",
    "tfp.mcmc.effective_sample_size(samples)"
   ]
  },
  {
   "cell_type": "code",
   "execution_count": null,
   "metadata": {},
   "outputs": [],
   "source": [
    "tfp.mcmc.effective_sample_size(samples)[1].numpy()[39]"
   ]
  },
  {
   "cell_type": "code",
   "execution_count": null,
   "metadata": {},
   "outputs": [],
   "source": [
    "lengths = mover_hmc.get_lengthscale_samples()\n",
    "amps = mover_hmc.get_amplitude_samples()\n",
    "\n",
    "aa=tfp.mcmc.effective_sample_size(lengths).numpy()\n",
    "plt.plot(Z,aa,'.')\n",
    "aa=tfp.mcmc.effective_sample_size(amps).numpy()\n",
    "plt.plot(Z,aa,'.')\n",
    "\n",
    "plt.show()\n",
    "plt.plot(Z,lengths[0,...],'.')\n",
    "\n",
    "plt.plot(Z,amps[0,...],'.')\n",
    "\n",
    "plt.show()\n",
    "plt.plot(Z,mover_hmc.samples_[1][0,...],'.')\n",
    "plt.show()\n",
    "\n",
    "aa=tfp.mcmc.effective_sample_size(lengths).numpy()\n",
    "plt.plot(Z,aa,'.')\n",
    "#plt.plot(Z,amps[0,...],'.')"
   ]
  },
  {
   "cell_type": "code",
   "execution_count": null,
   "metadata": {},
   "outputs": [],
   "source": [
    "def cauchy_new_state_fn(scale, dtype):\n",
    "  cauchy = tfd.Normal(loc=np.float64(0), scale=np.float64(scale))\n",
    "  def _fn(state_parts, seed):\n",
    "    next_state_parts = []\n",
    "    part_seeds = tfp.random.split_seed(\n",
    "        seed, n=len(state_parts), salt='rwmcauchy')\n",
    "    for sp, ps in zip(state_parts, part_seeds):\n",
    "      next_state_parts.append(sp + cauchy.sample(\n",
    "        sample_shape=sp.shape, seed=ps))\n",
    "    return next_state_parts\n",
    "  return _fn"
   ]
  },
  {
   "cell_type": "code",
   "execution_count": null,
   "metadata": {},
   "outputs": [],
   "source": []
  },
  {
   "cell_type": "code",
   "execution_count": null,
   "metadata": {},
   "outputs": [],
   "source": [
    "tfp.mcmc.effective_sample_size(samples)"
   ]
  },
  {
   "cell_type": "code",
   "execution_count": null,
   "metadata": {},
   "outputs": [],
   "source": [
    "print(end - start)\n"
   ]
  },
  {
   "cell_type": "code",
   "execution_count": null,
   "metadata": {},
   "outputs": [],
   "source": [
    "learning_rate = tf.optimizers.schedules.ExponentialDecay(\n",
    "    initial_learning_rate=1e-3,\n",
    "    decay_steps=10,\n",
    "    decay_rate=0.99,\n",
    "    staircase=True)\n",
    "\n",
    "\n",
    "optimizer = tf.keras.optimizers.RMSprop(learning_rate=1e-3)#,beta_2=0.99)\n",
    "train_steps = 500#00#00\n",
    "pbar = tqdm(range(train_steps))\n",
    "loss_history = np.zeros((train_steps))\n",
    "for i in pbar:\n",
    "    with tf.GradientTape() as t:\n",
    "        loss = -mover_hmc.log_posterior(*mover_hmc.kernel_params)\n",
    "    loss_history[i] = loss.numpy()#mover_hmc.kernel_params[1].numpy()[39]\n",
    "    pbar.set_description(\"Loss %f\" % loss_history[i])\n",
    "\n",
    "    gradients = t.gradient(loss, mover_hmc.kernel_params)\n",
    "    optimizer.apply_gradients(zip(gradients, mover_hmc.kernel_params))\n",
    "    #print(gradients)\n",
    "#n=3.5\n"
   ]
  },
  {
   "cell_type": "code",
   "execution_count": null,
   "metadata": {},
   "outputs": [],
   "source": [
    "plt.plot(loss_history[50:])\n",
    "plt.show()"
   ]
  },
  {
   "cell_type": "code",
   "execution_count": null,
   "metadata": {},
   "outputs": [],
   "source": [
    "import tensorflow as tf\n",
    "import tensorflow_probability as tfp\n",
    "import numpy as np\n",
    "\n",
    "@tf.function\n",
    "def test_():\n",
    "    def target_fn(*input):\n",
    "        return -mover_hmc.log_posterior(*input)\n",
    "    fn_val, grads = tfp.math.value_and_gradient(target_fn, mover_hmc.kernel_params)\n",
    "\n",
    "# # We can either pass the `sample_shape` of the `state` or not, which impacts\n",
    "# # computational speed of `diag_jacobian`\n",
    "    _, diag_jacobian_shape_passed = tfp.math.diag_jacobian(\n",
    "       xs=mover_hmc.kernel_params, ys=grads, sample_shape=tf.shape(fn_val))\n",
    "# _, diag_jacobian_shape_none = diag_jacobian(\n",
    "#   xs=state, ys=grads)\n",
    "\n",
    "# diag_jacobian_shape_passed_ = sess.run(diag_jacobian_shape_passed)\n",
    "# diag_jacobian_shape_none_ = sess.run(diag_jacobian_shape_none)\n",
    "\n",
    "# print('hessian computed through `diag_jacobian`, sample_shape passed: ',\n",
    "#   np.concatenate(diag_jacobian_shape_passed_, -1))\n",
    "# print('hessian computed through `diag_jacobian`, sample_shape skipped',\n",
    "#   np.concatenate(diag_jacobian_shape_none_, -1))\n",
    "    return diag_jacobian_shape_passed"
   ]
  },
  {
   "cell_type": "code",
   "execution_count": null,
   "metadata": {},
   "outputs": [],
   "source": [
    "test_()"
   ]
  },
  {
   "cell_type": "code",
   "execution_count": null,
   "metadata": {},
   "outputs": [],
   "source": [
    "optimizer.variables()\n"
   ]
  },
  {
   "cell_type": "code",
   "execution_count": null,
   "metadata": {},
   "outputs": [],
   "source": [
    "with tf.GradientTape(persistent=True) as t2:\n",
    "    with tf.GradientTape(persistent=True) as t:\n",
    "        loss = -mover_hmc.log_posterior(*mover_hmc.kernel_params)\n",
    "    #aa = tf.hessians(loss,mover_hmc.kernel_params)\n",
    "    gradients = t.gradient(loss, mover_hmc.kernel_params)\n",
    "\n",
    "#gradients2 = t2.gradient(gradients,mover_hmc.kernel_params)\n",
    "gradients\n",
    "    #gradients = t.gradient(loss, mover_hmc.kernel_params)"
   ]
  },
  {
   "cell_type": "code",
   "execution_count": null,
   "metadata": {},
   "outputs": [],
   "source": [
    "loss"
   ]
  },
  {
   "cell_type": "code",
   "execution_count": null,
   "metadata": {},
   "outputs": [],
   "source": [
    "\n",
    "def calc_hessian_diag(f, x):\n",
    "    \"\"\"\n",
    "    Calculates the diagonal entries of the Hessian of the function f\n",
    "    (which maps rank-1 tensors to scalars) at coordinates x (rank-1\n",
    "    tensors).\n",
    "    \n",
    "    Let k be the number of points in x, and n be the dimensionality of\n",
    "    each point. For each point k, the function returns\n",
    "\n",
    "      (d^2f/dx_1^2, d^2f/dx_2^2, ..., d^2f/dx_n^2) .\n",
    "\n",
    "    Inputs:\n",
    "      f (function): Takes a shape-(k,n) tensor and outputs a\n",
    "          shape-(k,) tensor.\n",
    "      x (tf.Tensor): The points at which to evaluate the Laplacian\n",
    "          of f. Shape = (k,n).\n",
    "    \n",
    "    Outputs:\n",
    "      A tensor containing the diagonal entries of the Hessian of f at\n",
    "      points x. Shape = (k,n).\n",
    "    \"\"\"\n",
    "    # Use the unstacking and re-stacking trick, which comes\n",
    "    # from https://github.com/xuzhiqin1990/laplacian/\n",
    "    with tf.GradientTape(persistent=True) as g1:\n",
    "        # Turn x into a list of n tensors of shape (k,)\n",
    "        x_unstacked = tf.unstack(x, axis=0)\n",
    "        g1.watch(x_unstacked)\n",
    "\n",
    "        with tf.GradientTape() as g2:\n",
    "            # Re-stack x before passing it into f\n",
    "            x_stacked = tf.stack(x_unstacked, axis=0) # shape = (k,n)\n",
    "            g2.watch(x_stacked)\n",
    "            f_x = f(x_stacked) # shape = (k,)\n",
    "        \n",
    "        # Calculate gradient of f with respect to x\n",
    "        df_dx = g2.gradient(f_x, x_stacked) # shape = (k,n)\n",
    "        # Turn df/dx into a list of n tensors of shape (k,)\n",
    "        df_dx_unstacked = tf.unstack(df_dx, axis=0)\n",
    "\n",
    "    # Calculate 2nd derivatives\n",
    "    d2f_dx2 = []\n",
    "    for df_dxi,xi in zip(df_dx_unstacked, x_unstacked):\n",
    "        # Take 2nd derivative of each dimension separately:\n",
    "        #   d/dx_i (df/dx_i)\n",
    "        d2f_dx2.append(g1.gradient(df_dxi, xi))\n",
    "    \n",
    "    # Stack 2nd derivates\n",
    "    d2f_dx2_stacked = tf.stack(d2f_dx2, axis=1) # shape = (k,n)\n",
    "    \n",
    "    return d2f_dx2_stacked\n",
    "\n",
    "f = lambda q : tf.math.log(tf.math.reduce_sum(q**2, axis=1))\n",
    "x = tf.random.uniform((5,3))\n",
    "\n",
    "d2f_dx2 = calc_hessian_diag(f, x)\n",
    "print(d2f_dx2)"
   ]
  },
  {
   "cell_type": "code",
   "execution_count": null,
   "metadata": {},
   "outputs": [],
   "source": [
    "def target_fn(inputvar):\n",
    "    \n",
    "    params = [inputvar]\n",
    "    for p in mover_hmc.kernel_params[1:]:\n",
    "        params.append(p)\n",
    "    return -mover_hmc.log_posterior(*params)\n",
    "#fn_val, grads = tfp.math.value_and_gradient(target_fn, mover_hmc.kernel_params)\n",
    "\n",
    "calc_hessian_diag(target_fn,tf.expand_dims(mover_hmc.kernel_params[0],-1))"
   ]
  },
  {
   "cell_type": "code",
   "execution_count": null,
   "metadata": {},
   "outputs": [],
   "source": [
    "@tf.function\n",
    "def train():\n",
    "    learning_rate = tf.optimizers.schedules.ExponentialDecay(\n",
    "        initial_learning_rate=1e-1,\n",
    "        decay_steps=10,\n",
    "        decay_rate=0.99,\n",
    "        staircase=True)\n",
    "\n",
    "\n",
    "    optimizer = tfp.optimizer.StochasticGradientLangevinDynamics(learning_rate=1e-1)\n",
    "    train_steps = 200\n",
    "    pbar = tqdm(range(train_steps))\n",
    "    loss_history = np.zeros((train_steps))\n",
    "    for i in pbar:\n",
    "        with tf.GradientTape() as t:\n",
    "            loss = -mover_hmc.log_posterior(*mover_hmc.kernel_params)\n",
    "        #loss_history[i] = loss.numpy()\n",
    "        #pbar.set_description(\"Loss %f\" % loss_history[i])\n",
    "\n",
    "        gradients = t.gradient(loss, mover_hmc.kernel_params)\n",
    "        optimizer.apply_gradients(zip(gradients, mover_hmc.kernel_params))\n",
    "#n=3.5"
   ]
  },
  {
   "cell_type": "code",
   "execution_count": null,
   "metadata": {},
   "outputs": [],
   "source": [
    "train()"
   ]
  },
  {
   "cell_type": "code",
   "execution_count": null,
   "metadata": {},
   "outputs": [],
   "source": [
    "plt.plot(loss_history[8000:])\n",
    "plt.show()\n",
    "loss.numpy()"
   ]
  },
  {
   "cell_type": "code",
   "execution_count": null,
   "metadata": {},
   "outputs": [],
   "source": [
    "lengths = mover_hmc.get_lengthscale()\n",
    "plt.plot(Z,lengths*np.ones_like(Z),'o',c='b')\n",
    "Zin = np.linspace(0,24,num=500,endpoint=False).astype(np.float64)[:,None]\n",
    "\n",
    "lengths = mover_hmc.get_lengthscale(X=Zin)\n",
    "plt.plot(Zin,lengths*np.ones_like(Zin))\n",
    "plt.show()\n",
    "\n",
    "amps = mover_hmc.get_amplitude()\n",
    "plt.plot(Z,amps,'o',c='b')\n",
    "Zin = np.linspace(0,24,num=500,endpoint=False).astype(np.float64)[:,None]\n",
    "amps = mover_hmc.get_amplitude(X=Zin)\n",
    "plt.plot(Zin,amps)\n",
    "plt.show()\n",
    "\n"
   ]
  },
  {
   "cell_type": "code",
   "execution_count": null,
   "metadata": {},
   "outputs": [],
   "source": [
    "plt.plot(s2,'-o')"
   ]
  },
  {
   "cell_type": "code",
   "execution_count": null,
   "metadata": {},
   "outputs": [],
   "source": [
    "plt.plot(s1)"
   ]
  },
  {
   "cell_type": "code",
   "execution_count": null,
   "metadata": {},
   "outputs": [],
   "source": [
    "# # sample from the posterior\n",
    "kr = mover.hmc_sample(num_samples=1, skip=0, burn_in=0, num_leapfrog_steps=1, init_step=1e-8)\n",
    "# lengths = mover.get_lengthscale_samples()\n",
    "# amps = mover.get_amplitude_samples()\n",
    "# #  plot the sample for checking\n",
    "# plt.figure(figsize=(10,6))\n",
    "# Z_time=np.array([np.datetime64('2019') + np.timedelta64(int(k*60*60), 's') for k in Z])\n",
    "\n",
    "# for i in range(0,lengths.shape[0]):\n",
    "#     plt.plot(Z_time[np.argsort(Z_time)],lengths[i,np.argsort(Z_time)],c='C1',alpha=0.902,linewidth=1.0)\n",
    "\n",
    "# ax = plt.gca()\n",
    "# ax.xaxis_date()\n",
    "# ax.xaxis.set_major_formatter(myFmt)\n",
    "# plt.figure(figsize=(10,6))\n",
    "\n",
    "# for i in range(0,amps.shape[0]):\n",
    "#     plt.plot(Z_time[np.argsort(Z_time)],amps[i,np.argsort(Z_time)],c='C1', alpha=0.902,linewidth=1.0)\n",
    "# ax = plt.gca()\n",
    "# ax.xaxis_date()\n",
    "# ax.xaxis.set_major_formatter(myFmt)"
   ]
  },
  {
   "cell_type": "code",
   "execution_count": null,
   "metadata": {},
   "outputs": [],
   "source": [
    "\n",
    "ss = np.float64(1e-2)\n",
    "steps = []\n",
    "for j, param in enumerate(mover.kernel_params):\n",
    "    steps.append(ss)\n",
    "\n",
    "# steps = []\n",
    "# for j, param in enumerate(mover.kernel_params):\n",
    "#     if j==2:\n",
    "#         steps.append(ss)\n",
    "#     elif j==6:\n",
    "#         steps.append(ss)\n",
    "#     else:\n",
    "#         steps.append(0)\n",
    "start = time.time()\n",
    "\n",
    "num_samples=200#500\n",
    "burn=10\n",
    "start = time.time()\n",
    "mover.num_samples = num_samples\n",
    "#kr = mover.nuts_sample(num_samples=num_samples, skip=0, burn_in=burn, init_step=steps)\n",
    "\n",
    "end = time.time()\n",
    "print(i,end - start)\n"
   ]
  },
  {
   "cell_type": "code",
   "execution_count": null,
   "metadata": {},
   "outputs": [],
   "source": [
    "mover_hmc.kernel_params"
   ]
  },
  {
   "cell_type": "code",
   "execution_count": null,
   "metadata": {},
   "outputs": [],
   "source": [
    "num_samples=10#500\n",
    "burn=10\n",
    "\n",
    "ss = np.float64(1e-3)\n",
    "\n",
    "\n",
    "steps = ss\n",
    "# for j, param in enumerate(mover_hmc.kernel_params):\n",
    "#     if j==2:\n",
    "#         steps.append(ss)\n",
    "#     else:\n",
    "#         steps.append(0)\n",
    "inner_kernel = tfp.mcmc.HamiltonianMonteCarlo(target_log_prob_fn=mover_hmc.log_posterior, step_size=steps, num_leapfrog_steps=20)\n",
    "kernel = tfp.mcmc.DualAveragingStepSizeAdaptation(inner_kernel, num_adaptation_steps=int(burn * 0.8))\n",
    "start = time.time()\n",
    "\n",
    "samples, kernel_results = tfp.mcmc.sample_chain(num_results=num_samples, num_burnin_steps=burn, num_steps_between_results=0, current_state=mover_hmc.kernel_params, kernel=inner_kernel)\n",
    "end = time.time()\n",
    "print(end - start)\n",
    "mover_hmc.samples_ = samples\n",
    "print(np.sum(kernel_results.is_accepted.numpy()/num_samples))\n"
   ]
  },
  {
   "cell_type": "code",
   "execution_count": null,
   "metadata": {},
   "outputs": [],
   "source": [
    "tfp.mcmc.effective_sample_size(samples)"
   ]
  },
  {
   "cell_type": "code",
   "execution_count": null,
   "metadata": {},
   "outputs": [],
   "source": [
    "tfp.mcmc.effective_sample_size(samples)"
   ]
  },
  {
   "cell_type": "code",
   "execution_count": null,
   "metadata": {},
   "outputs": [],
   "source": [
    "359*10/60"
   ]
  },
  {
   "cell_type": "code",
   "execution_count": null,
   "metadata": {},
   "outputs": [],
   "source": []
  },
  {
   "cell_type": "code",
   "execution_count": null,
   "metadata": {},
   "outputs": [],
   "source": [
    "tfp.mcmc.effective_sample_size(samples)"
   ]
  },
  {
   "cell_type": "code",
   "execution_count": null,
   "metadata": {},
   "outputs": [],
   "source": [
    "plt.plot(samples[1][:,:].numpy())\n",
    "plt.show()\n",
    "aa=tfp.mcmc.effective_sample_size(samples)[1].numpy()\n",
    "\n",
    "plt.plot(mover_hmc.kernel_params[1].numpy(),aa,'.')"
   ]
  },
  {
   "cell_type": "code",
   "execution_count": null,
   "metadata": {},
   "outputs": [],
   "source": [
    "tfp.mcmc.effective_sample_size(samples)"
   ]
  },
  {
   "cell_type": "code",
   "execution_count": null,
   "metadata": {},
   "outputs": [],
   "source": []
  },
  {
   "cell_type": "code",
   "execution_count": null,
   "metadata": {},
   "outputs": [],
   "source": []
  },
  {
   "cell_type": "code",
   "execution_count": null,
   "metadata": {},
   "outputs": [],
   "source": [
    "\n",
    "\n",
    "def _fn(state_parts, seed):\n",
    "    next_state_parts = []\n",
    "    for j, param in enumerate(state_parts):\n",
    "        if j==1:\n",
    "            norm = tfd.Normal(loc=np.float64(0), scale=np.float64(0.005))\n",
    "\n",
    "            next_state_parts.append(state_parts[j] + norm.sample(sample_shape=state_parts[j].shape))\n",
    "        else:\n",
    "            next_state_parts.append(state_parts[j])\n",
    "\n",
    "    return next_state_parts\n",
    "\n",
    "\n",
    "num_samples=2000#00#500\n",
    "burn=200\n",
    "mover_hmc.num_samples = num_samples\n",
    "\n",
    "\n",
    "kernel = tfp.mcmc.MetropolisAdjustedLangevinAlgorithm(target_log_prob_fn=mover_hmc.log_posterior, step_size=0.000025)\n",
    "\n",
    "start = time.time()\n",
    "\n",
    "samples, kernel_results = tfp.mcmc.sample_chain(num_results=num_samples, num_burnin_steps=burn, num_steps_between_results=10, current_state=mover_hmc.kernel_params, kernel=kernel)\n",
    "end = time.time()\n",
    "print(end - start)\n",
    "mover_hmc.samples_ = samples\n",
    "print(np.sum(kernel_results.is_accepted.numpy()/num_samples))"
   ]
  },
  {
   "cell_type": "code",
   "execution_count": null,
   "metadata": {},
   "outputs": [],
   "source": [
    "tfp.mcmc.effective_sample_size(samples)"
   ]
  },
  {
   "cell_type": "code",
   "execution_count": null,
   "metadata": {},
   "outputs": [],
   "source": [
    "plt.plot(samples[1][:,:].numpy())\n",
    "plt.show()\n",
    "aa=tfp.mcmc.effective_sample_size(samples)[1].numpy()\n",
    "\n",
    "plt.plot(mover_hmc.kernel_params[1].numpy(),aa,'.')"
   ]
  },
  {
   "cell_type": "code",
   "execution_count": null,
   "metadata": {},
   "outputs": [],
   "source": [
    "stepsizes=np.std(samples[1].numpy(),axis=0)\n",
    "plt.plot(aa,stepsizes,'.')"
   ]
  },
  {
   "cell_type": "code",
   "execution_count": null,
   "metadata": {},
   "outputs": [],
   "source": [
    "num_samples=2000#500\n",
    "burn=2000\n",
    "\n",
    "ss = np.float64(1e-3)\n",
    "\n",
    "\n",
    "steps = []\n",
    "for j, param in enumerate(mover_hmc.kernel_params):\n",
    "    if j==1:\n",
    "        steps.append(ss*stepsizes)\n",
    "    else:\n",
    "        steps.append(ss*step_ls)\n",
    "inner_kernel = tfp.mcmc.HamiltonianMonteCarlo(target_log_prob_fn=mover_hmc.log_posterior, step_size=steps, num_leapfrog_steps=20)\n",
    "kernel = tfp.mcmc.DualAveragingStepSizeAdaptation(inner_kernel, num_adaptation_steps=int(burn * 0.8))\n",
    "start = time.time()\n",
    "\n",
    "samples, kernel_results = tfp.mcmc.sample_chain(num_results=num_samples, num_burnin_steps=burn, num_steps_between_results=0, current_state=mover_hmc.kernel_params, kernel=inner_kernel)\n",
    "end = time.time()\n",
    "print(end - start)\n",
    "mover_hmc.samples_ = samples\n",
    "print(np.sum(kernel_results.is_accepted.numpy()/num_samples))"
   ]
  },
  {
   "cell_type": "code",
   "execution_count": null,
   "metadata": {},
   "outputs": [],
   "source": [
    "step_ls=np.std(samples[0].numpy(),axis=0)"
   ]
  },
  {
   "cell_type": "code",
   "execution_count": null,
   "metadata": {},
   "outputs": [],
   "source": [
    "tfp.mcmc.effective_sample_size(samples)"
   ]
  },
  {
   "cell_type": "code",
   "execution_count": null,
   "metadata": {},
   "outputs": [],
   "source": [
    "3574*10/60/60"
   ]
  },
  {
   "cell_type": "code",
   "execution_count": null,
   "metadata": {},
   "outputs": [],
   "source": [
    "import tensorflow.compat.v2 as tf\n",
    "import tensorflow_probability as tfp\n",
    "import numpy as np\n",
    "\n",
    "tf.enable_v2_behavior()\n",
    "\n",
    "dtype = np.float32\n",
    "true_mean = dtype([0, 0, 0])\n",
    "true_cov = dtype([[1, 0.25, 0.25], [0.25, 1, 0.25], [0.25, 0.25, 1]])\n",
    "num_results = 500\n",
    "num_chains = 500\n",
    "\n",
    "# Target distribution is defined through the Cholesky decomposition\n",
    "chol = tf.linalg.cholesky(true_cov)\n",
    "target = tfd.MultivariateNormalTriL(loc=true_mean, scale_tril=chol)\n",
    "\n",
    "# Here we define the volatility function to be non-constant\n",
    "def volatility_fn(x):\n",
    "  # Stack the input tensors together\n",
    "  return 1. / (0.5 + 0.1 * tf.math.abs(x))\n",
    "\n",
    "# Initial state of the chain\n",
    "init_state = np.ones([num_chains, 3], dtype=dtype)\n",
    "\n",
    "# Run MALA with normal proposal for `num_results` iterations for\n",
    "# `num_chains` independent chains:\n",
    "states = tfp.mcmc.sample_chain(\n",
    "    num_results=num_results,\n",
    "    current_state=init_state,\n",
    "    kernel=tfp.mcmc.MetropolisAdjustedLangevinAlgorithm(\n",
    "        target_log_prob_fn=target.log_prob,\n",
    "        step_size=.1,\n",
    "        volatility_fn=volatility_fn),\n",
    "    num_burnin_steps=200,\n",
    "    num_steps_between_results=1,\n",
    "    trace_fn=None)\n",
    "\n",
    "sample_mean = tf.reduce_mean(states, axis=[0, 1])\n",
    "x = (states - sample_mean)[..., tf.newaxis]\n",
    "sample_cov = tf.reduce_mean(\n",
    "    tf.matmul(x, tf.transpose(x, [0, 1, 3, 2])), [0, 1])\n",
    "\n",
    "print('sample mean', sample_mean.numpy())\n",
    "print('sample covariance matrix', sample_cov.numpy())\n"
   ]
  },
  {
   "cell_type": "code",
   "execution_count": null,
   "metadata": {},
   "outputs": [],
   "source": [
    "1 108.34\n",
    "2 295\n",
    "3 638\n",
    "4 1322"
   ]
  },
  {
   "cell_type": "code",
   "execution_count": null,
   "metadata": {},
   "outputs": [],
   "source": [
    "kernel_results.new_step_size"
   ]
  },
  {
   "cell_type": "code",
   "execution_count": null,
   "metadata": {},
   "outputs": [],
   "source": [
    "# steps = []\n",
    "# for j, param in enumerate(mover.kernel_params):\n",
    "#     print(j,mover.kernel_params[j].shape)\n",
    "#     if j==2:\n",
    "#         steps.append(10*s1)\n",
    "#     elif j==6:\n",
    "#         steps.append(10*s2)\n",
    "#     else:\n",
    "#         steps.append(0)"
   ]
  },
  {
   "cell_type": "code",
   "execution_count": null,
   "metadata": {},
   "outputs": [],
   "source": [
    "start = time.time()\n",
    "# 200/200 took 6.31 - run for 1000/1000 = 31.551hrs\n",
    "num_samples=250#00\n",
    "burn_in=100#500  ## 100/250\n",
    "num_runs=1#4\n",
    "rescale = 24\n",
    "\n",
    "for i in range(num_runs):\n",
    "    ss = np.float64(1e-3)\n",
    "    steps = []\n",
    "    for j, param in enumerate(mover.kernel_params):\n",
    "        steps.append(ss)\n",
    "    steps=opt_step\n",
    "    kr = mover.nuts_sample(num_samples=num_samples, skip=0, burn_in=burn_in, max_tree_depth=5, init_step=steps)\n",
    "   \n",
    "    # save the results\n",
    "    final_hmc_np = [j.numpy() for j in  mover.samples_]\n",
    "    with open('data/hmc_samples_p_' + str(i) + '.npy', 'wb') as fp:\n",
    "        pickle.dump(final_hmc_np, fp)\n",
    "        \n",
    "    lengths = mover.get_lengthscale_samples()\n",
    "    amps = mover.get_amplitude_samples()\n",
    "    np.save('data/len_sheep_p_' + str(i) + '.npy',lengths)\n",
    "    np.save('data/amp_sheep_p_' + str(i) + '.npy',amps)\n",
    "    \n",
    "\n",
    "    Zin = np.linspace(0,24,num=200,endpoint=False).astype(np.float64)[:,None]\n",
    "\n",
    "    # sample from the posterior)\n",
    "    lengths = mover.get_lengthscale_samples(X=Zin)\n",
    "    amps = mover.get_amplitude_samples(X=Zin)\n",
    "\n",
    "    np.save('data/full_len_sheep_p_' + str(i) + '.npy',lengths)\n",
    "    np.save('data/full_amp_sheep_p_' + str(i) + '.npy',amps)\n",
    "    np.save('data/Z_pred_p_' + str(i) + '.npy',Zin)\n",
    "\n",
    "    \n",
    "    end = time.time()\n",
    "    print(i,end - start)"
   ]
  },
  {
   "cell_type": "code",
   "execution_count": null,
   "metadata": {},
   "outputs": [],
   "source": [
    "kr.new_step_size"
   ]
  },
  {
   "cell_type": "code",
   "execution_count": null,
   "metadata": {},
   "outputs": [],
   "source": [
    "\n",
    "start = time.time()\n",
    "# 200/200 took 6.31 - run for 1000/1000 = 31.551hrs\n",
    "num_samples=1500\n",
    "burn_in=500\n",
    "num_runs=1\n",
    "rescale = 24\n",
    "\n",
    "for i in range(num_runs):\n",
    "    steps = []\n",
    "    \n",
    "    ss = np.float64(1e-1)\n",
    "    \n",
    "    for j, param in enumerate(mover_hmc.kernel_params):\n",
    "        if j==1:\n",
    "            steps.append(s1)\n",
    "        elif j==3:\n",
    "            steps.append(s2)\n",
    "        else:\n",
    "            steps.append(0)\n",
    "    kr = mover_hmc.hmc_sample(num_samples=num_samples, skip=0, burn_in=burn_in, num_leapfrog_steps=5, init_step=steps)\n",
    "   \n",
    "    # save the results\n",
    "    final_hmc_np = [j.numpy() for j in  mover_hmc.samples_]\n",
    "    with open('data/hmc_samples_p_' + str(i) + '.npy', 'wb') as fp:\n",
    "        pickle.dump(final_hmc_np, fp)\n",
    "        \n",
    "    lengths = mover_hmc.get_lengthscale_samples()\n",
    "    amps = mover_hmc.get_amplitude_samples()\n",
    "    np.save('data/len_sheep_p_' + str(i) + '.npy',lengths)\n",
    "    np.save('data/amp_sheep_p_' + str(i) + '.npy',amps)\n",
    "    \n",
    "\n",
    "    Zin = np.linspace(0,24,num=200,endpoint=False).astype(np.float64)[:,None]\n",
    "\n",
    "    # sample from the posterior)\n",
    "    lengths = mover_hmc.get_lengthscale_samples(X=Zin)\n",
    "    amps = mover_hmc.get_amplitude_samples(X=Zin)\n",
    "\n",
    "    np.save('data/full_len_sheep_p_' + str(i) + '.npy',lengths)\n",
    "    np.save('data/full_amp_sheep_p_' + str(i) + '.npy',amps)\n",
    "    np.save('data/Z_pred_p_' + str(i) + '.npy',Zin)\n",
    "\n",
    "    \n",
    "    end = time.time()\n",
    "    print(i,end - start)"
   ]
  },
  {
   "cell_type": "code",
   "execution_count": null,
   "metadata": {},
   "outputs": [],
   "source": [
    "print('time: ',10*(end - start)/60/60)\n",
    "\n",
    "print(np.sum(kernel_results.inner_results.is_accepted.numpy()/num_samples))\n"
   ]
  },
  {
   "cell_type": "code",
   "execution_count": null,
   "metadata": {},
   "outputs": [],
   "source": [
    "kr.new_step_size\n"
   ]
  },
  {
   "cell_type": "code",
   "execution_count": null,
   "metadata": {},
   "outputs": [],
   "source": [
    "25.4872/5*6"
   ]
  },
  {
   "cell_type": "code",
   "execution_count": null,
   "metadata": {},
   "outputs": [],
   "source": [
    "for mp in mover.kernel_params:\n",
    "    print(mp)\n",
    "    \n",
    "    "
   ]
  },
  {
   "cell_type": "code",
   "execution_count": null,
   "metadata": {},
   "outputs": [],
   "source": [
    "rescale = 24\n",
    "Zin = np.linspace(0,24,num=500,endpoint=False).astype(np.float64)[:,None]\n",
    "\n",
    "lengths = mover_hmc.get_lengthscale_samples(X=Zin)\n",
    "amps = mover_hmc.get_amplitude_samples(X=Zin)"
   ]
  },
  {
   "cell_type": "code",
   "execution_count": null,
   "metadata": {},
   "outputs": [],
   "source": [
    "\n",
    "Zin = np.linspace(0,24,num=500,endpoint=False).astype(np.float64)[:,None]\n",
    "\n",
    "# sample from the posterior)\n",
    "lengths = mover.get_lengthscale_samples(X=Zin)\n",
    "amps = mover.get_amplitude_samples(X=Zin)\n"
   ]
  },
  {
   "cell_type": "code",
   "execution_count": null,
   "metadata": {},
   "outputs": [],
   "source": [
    "#  plot the sample for checking\n",
    "plt.figure(figsize=(10,6))\n",
    "\n",
    "\n",
    "# Z_time=np.array([np.datetime64('2019') + np.timedelta64(int(k*60*60), 's') for k in Zin])\n",
    "\n",
    "# for i in range(0,lengths.shape[0]):\n",
    "#     plt.plot(Z_time[np.argsort(Z_time)],lengths[i,np.argsort(Z_time)],c='C1',alpha=0.902,linewidth=1.0)\n",
    "\n",
    "# ax = plt.gca()\n",
    "# ax.xaxis_date()\n",
    "# ax.xaxis.set_major_formatter(myFmt)\n",
    "plt.figure(figsize=(10,6))\n",
    "\n",
    "for i in range(0,amps.shape[0]):\n",
    "    plt.plot(Z_time[np.argsort(Z_time)],amps[i,np.argsort(Z_time)],c='C1', alpha=0.02,linewidth=1.0)\n",
    "ax = plt.gca()\n",
    "ax.xaxis_date()\n",
    "ax.xaxis.set_major_formatter(myFmt)"
   ]
  },
  {
   "cell_type": "code",
   "execution_count": null,
   "metadata": {},
   "outputs": [],
   "source": []
  }
 ],
 "metadata": {
  "kernelspec": {
   "display_name": "Python 3",
   "language": "python",
   "name": "python3"
  },
  "language_info": {
   "codemirror_mode": {
    "name": "ipython",
    "version": 3
   },
   "file_extension": ".py",
   "mimetype": "text/x-python",
   "name": "python",
   "nbconvert_exporter": "python",
   "pygments_lexer": "ipython3",
   "version": "3.8.5"
  }
 },
 "nbformat": 4,
 "nbformat_minor": 2
}
